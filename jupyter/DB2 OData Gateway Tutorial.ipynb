{
 "cells": [
  {
   "cell_type": "markdown",
   "metadata": {},
   "source": [
    "# DB2 OData Tutorial"
   ]
  },
  {
   "cell_type": "markdown",
   "metadata": {},
   "source": [
    "This tutorial will explain some of the features that are available in the IBM Data Server Gateway for OData Version 1.0.0. IBM Data Server Gateway for OData enables you to quickly create OData RESTful services to query and update data in IBM DB2 LUW.    \n",
    "\n",
    "An introduction to the OData gateway is found in the following developerWorks article:\n",
    "\n",
    "https://www.ibm.com/developerworks/community/blogs/96960515-2ea1-4391-8170-b0515d08e4da/entry/IBM_Data_Server_Gateway_for_OData_Version_1_0_0?lang=en\n",
    "    \n",
    "The code can be obtained through the following link:\n",
    "\n",
    "https://www-945.ibm.com/support/fixcentral/swg/selectFixes?parent=ibm~Information%2BManagement&product=ibm/Information+Management/IBM+Data+Server+Client+Packages&release=11.1.*&platform=Linux&function=fixId&fixids=*odata*FP001*&includeSupersedes=0&source=fc\n",
    "\n",
    "### OData Extensions for DB2\n",
    "In order to help explain some of the features of the OData Gateway, a Jupyter notebook has been created that includes an %odata command that maps DB2 SQL into the equivalent OData syntax. The next command will load the extension and make the command available to this tutorial."
   ]
  },
  {
   "cell_type": "code",
   "execution_count": 1,
   "metadata": {},
   "outputs": [
    {
     "name": "stdout",
     "output_type": "stream",
     "text": [
      "DB2 OData Extensions Loaded.\n"
     ]
    },
    {
     "data": {
      "text/html": [
       "<style>\n",
       "  table {margin-left: 0 !important;}\n",
       "</style>"
      ],
      "text/plain": [
       "<IPython.core.display.HTML object>"
      ]
     },
     "metadata": {},
     "output_type": "display_data"
    }
   ],
   "source": [
    "%run db2odata.ipynb"
   ]
  },
  {
   "cell_type": "markdown",
   "metadata": {},
   "source": [
    "### DB2 Extensions\n",
    "Since we are connecting to a DB2 database, the following command will load the DB2 Jupyter notebook extension (%sql). The DB2 extension allows you to fully interact with the DB2 database, including the ability to drop and create objects. The OData gateway provides INSERT, UPDATE, DELETE, and SELECT capability to the database, but it doesn't have the ability to create or drop actual objects. The other option would be to use DB2 directly on the database server using utilities like CLP (Command Line Processor) or DSM (Data Server Manager)."
   ]
  },
  {
   "cell_type": "code",
   "execution_count": 2,
   "metadata": {},
   "outputs": [
    {
     "name": "stdout",
     "output_type": "stream",
     "text": [
      "DB2 Extensions Loaded.\n"
     ]
    },
    {
     "data": {
      "text/html": [
       "<style>\n",
       "  table {margin-left: 0 !important;}\n",
       "</style>"
      ],
      "text/plain": [
       "<IPython.core.display.HTML object>"
      ]
     },
     "metadata": {},
     "output_type": "display_data"
    }
   ],
   "source": [
    "%run db2.ipynb"
   ]
  },
  {
   "cell_type": "markdown",
   "metadata": {},
   "source": [
    "## An Brief Introduction to OData\n",
    "Rather than paraphrase what OData does, here is the official statement from the OData home page:\n",
    "\n",
    "http://www.odata.org/\n",
    "\n",
    ">OData (Open Data Protocol) is an ISO/IEC approved, OASIS standard that defines a set of best practices for building and consuming RESTful APIs. OData helps you focus on your business logic while building RESTful APIs without having to worry about the various approaches to define request and response headers, status codes, HTTP methods, URL conventions, media types, payload formats, query options, etc. OData also provides \n",
    "guidance for tracking changes, defining functions/actions for reusable procedures, and sending asynchronous/batch requests.\n",
    "\n",
    "### Why OData for DB2?\n",
    "Customers have a wealth of data in their databases (not just DB2) and publishing it to different devices is often fraught with many challenges. DB2 requires the use of client code to communicate between the application and the database itself. Many of APIs that are used are well known: JDBC, .Net, ODBC, OLE-DB, CLI and so on. Most programming languages have some sort of connector that maps from the language syntax to the database driver. When a new language gets developed it always needs this driver code to talk to the database. For instance, this Python notebook is communicating to DB2 natively using the ibm_db package. Without some specialized coding, there would be no way to communicate with DB2.\n",
    "\n",
    "OData tries to remove much of the complexity of communicating with the database. There are no drivers required, no configuration file, nor any administration required on the client that is communicating with the database. All communication is done using RESTful API calls, which are available on all browsers and all operating systems. The calls to the database are replaced with standard POST, GET, DELETE, PUT and PATCH requests.\n",
    "\n",
    "OData goes one step further and removes the syntactical differences between SQL vendors. The INSERT, DELETE, UPDATE and SELECT statements are coverted to a canonical form that should be interpreted by all vendors. Of course, interoperability depends on how much of the standard a vendor has implemented.\n",
    "\n",
    "The end result is that an Iphone, Andriod phone, tablet, browser or any application will be able to access the database without having any code installed locally. This simplifies the ability to access the database and makes development considerably easier.\n",
    "\n",
    "The downside to this approach is that the richness of a particular SQL dialect will not be available through OData. Complex SQL with aggregation functions and moving result windows are not a good candidate to use with OData. However, OData covers much of the query spectrum that traditional applications will use, so it makes it a good choice for agile development.\n",
    "\n",
    "### OData to DB2 Extension\n",
    "Writing OData calls to DB2 requires a knowledge of the OData syntax, the RESTful calling sequence, and an understanding of the level of support of OData that DB2 provides. This tutorial will take you through all of the functions that the OData gateway currently provides and show how these calls are implemented. Feel free to use the code and extensions in your own applications."
   ]
  },
  {
   "cell_type": "markdown",
   "metadata": {},
   "source": [
    "## Connecting to OData and DB2\n",
    "Both the DB2 client and OData calls need connection information. The way that you go about connecting to the database is completely different between these two protocols. Let first start with the DB2 connection.\n",
    "\n",
    "DB2 requires a userid and password to connect to a database (along with the client code that talks to DB2 over the network). Assuming you have a DB2 database somewhere, the next command will ask you for the following information:\n",
    "\n",
    " * DATABASE name - The name of the DB2 database you want to connect to\n",
    " * HOST ipaddress - The IP address (or localhost) where the DB2 instance can be found\n",
    " * PORT portno - The PORT number that DB2 is listening to (usually 50000)\n",
    " * USER userid - The user that will be connecting to DB2\n",
    " * PASSWORD pwd - The password for the USER (use a \"?\" to prompt for the value)\n",
    "\n",
    "You need to have this information available or the program won't be able to connect. For demonstration purposes, the standard SAMPLE database should be used but in the event you don't have that created, the %sql command will generate the necessary tables for you. It is also good to be a DBADM (database administrator) on the system you are connecting to. This will allow you to create the services requires by the OData gateway. If you don't, someone with that authority will be needed to give you access through OData.\n",
    "\n",
    "When the next set of commands is issued, the system will prompt you for the information required as well as give you the details for each of the fields."
   ]
  },
  {
   "cell_type": "code",
   "execution_count": 3,
   "metadata": {},
   "outputs": [
    {
     "name": "stdout",
     "output_type": "stream",
     "text": [
      "Connection reset.\n",
      "Connection successful.\n"
     ]
    }
   ],
   "source": [
    "%sql connect reset\n",
    "%sql connect to sample"
   ]
  },
  {
   "cell_type": "markdown",
   "metadata": {},
   "source": [
    "If you connected to the SAMPLE database, you will have the EMPLOYEE and DEPARTMENT tables available to you. However, if you are connecting to a different database, you will need to execute the next command to populate the tables for you. Note, if you run this command and the two tables already exist, the tables will not be replaced. So don't worry if you execute this command by mistake."
   ]
  },
  {
   "cell_type": "code",
   "execution_count": 4,
   "metadata": {},
   "outputs": [
    {
     "name": "stdout",
     "output_type": "stream",
     "text": [
      "Sample tables [EMPLOYEE, DEPARTMENT] created.\n"
     ]
    }
   ],
   "source": [
    "%sql -sampledata"
   ]
  },
  {
   "cell_type": "markdown",
   "metadata": {},
   "source": [
    "Requesting data from DB2 using the standard %sql (ibm_db) interface is relatively straight-forward. We just need to place the SQL in the command and execute it to get the results."
   ]
  },
  {
   "cell_type": "code",
   "execution_count": 5,
   "metadata": {},
   "outputs": [
    {
     "data": {
      "text/html": [
       "<div>\n",
       "<table border=\"1\" class=\"dataframe\">\n",
       "  <thead>\n",
       "    <tr style=\"text-align: right;\">\n",
       "      <th></th>\n",
       "      <th>EMPNO</th>\n",
       "      <th>FIRSTNME</th>\n",
       "      <th>MIDINIT</th>\n",
       "      <th>LASTNAME</th>\n",
       "      <th>WORKDEPT</th>\n",
       "      <th>PHONENO</th>\n",
       "      <th>HIREDATE</th>\n",
       "      <th>JOB</th>\n",
       "      <th>EDLEVEL</th>\n",
       "      <th>SEX</th>\n",
       "      <th>BIRTHDATE</th>\n",
       "      <th>SALARY</th>\n",
       "      <th>BONUS</th>\n",
       "      <th>COMM</th>\n",
       "    </tr>\n",
       "  </thead>\n",
       "  <tbody>\n",
       "    <tr>\n",
       "      <th>0</th>\n",
       "      <td>000010</td>\n",
       "      <td>CHRISTINE</td>\n",
       "      <td>I</td>\n",
       "      <td>HAAS</td>\n",
       "      <td>A00</td>\n",
       "      <td>3978</td>\n",
       "      <td>1995-01-01</td>\n",
       "      <td>PRES</td>\n",
       "      <td>18</td>\n",
       "      <td>F</td>\n",
       "      <td>1963-08-24</td>\n",
       "      <td>152750.0</td>\n",
       "      <td>1000.0</td>\n",
       "      <td>4220.0</td>\n",
       "    </tr>\n",
       "    <tr>\n",
       "      <th>1</th>\n",
       "      <td>000020</td>\n",
       "      <td>MICHAEL</td>\n",
       "      <td>L</td>\n",
       "      <td>THOMPSON</td>\n",
       "      <td>B01</td>\n",
       "      <td>3476</td>\n",
       "      <td>2003-10-10</td>\n",
       "      <td>MANAGER</td>\n",
       "      <td>18</td>\n",
       "      <td>M</td>\n",
       "      <td>1978-02-02</td>\n",
       "      <td>94250.0</td>\n",
       "      <td>800.0</td>\n",
       "      <td>3300.0</td>\n",
       "    </tr>\n",
       "    <tr>\n",
       "      <th>2</th>\n",
       "      <td>000030</td>\n",
       "      <td>SALLY</td>\n",
       "      <td>A</td>\n",
       "      <td>KWAN</td>\n",
       "      <td>C01</td>\n",
       "      <td>4738</td>\n",
       "      <td>2005-04-05</td>\n",
       "      <td>MANAGER</td>\n",
       "      <td>20</td>\n",
       "      <td>F</td>\n",
       "      <td>1971-05-11</td>\n",
       "      <td>98250.0</td>\n",
       "      <td>800.0</td>\n",
       "      <td>3060.0</td>\n",
       "    </tr>\n",
       "    <tr>\n",
       "      <th>3</th>\n",
       "      <td>000050</td>\n",
       "      <td>JOHN</td>\n",
       "      <td>B</td>\n",
       "      <td>GEYER</td>\n",
       "      <td>E01</td>\n",
       "      <td>6789</td>\n",
       "      <td>1979-08-17</td>\n",
       "      <td>MANAGER</td>\n",
       "      <td>16</td>\n",
       "      <td>M</td>\n",
       "      <td>1955-09-15</td>\n",
       "      <td>80175.0</td>\n",
       "      <td>800.0</td>\n",
       "      <td>3214.0</td>\n",
       "    </tr>\n",
       "    <tr>\n",
       "      <th>4</th>\n",
       "      <td>000060</td>\n",
       "      <td>IRVING</td>\n",
       "      <td>F</td>\n",
       "      <td>STERN</td>\n",
       "      <td>D11</td>\n",
       "      <td>6423</td>\n",
       "      <td>2003-09-14</td>\n",
       "      <td>MANAGER</td>\n",
       "      <td>16</td>\n",
       "      <td>M</td>\n",
       "      <td>1975-07-07</td>\n",
       "      <td>72250.0</td>\n",
       "      <td>500.0</td>\n",
       "      <td>2580.0</td>\n",
       "    </tr>\n",
       "    <tr>\n",
       "      <th>...</th>\n",
       "      <td>...</td>\n",
       "      <td>...</td>\n",
       "      <td>...</td>\n",
       "      <td>...</td>\n",
       "      <td>...</td>\n",
       "      <td>...</td>\n",
       "      <td>...</td>\n",
       "      <td>...</td>\n",
       "      <td>...</td>\n",
       "      <td>...</td>\n",
       "      <td>...</td>\n",
       "      <td>...</td>\n",
       "      <td>...</td>\n",
       "      <td>...</td>\n",
       "    </tr>\n",
       "    <tr>\n",
       "      <th>38</th>\n",
       "      <td>200280</td>\n",
       "      <td>EILEEN</td>\n",
       "      <td>R</td>\n",
       "      <td>SCHWARTZ</td>\n",
       "      <td>E11</td>\n",
       "      <td>8997</td>\n",
       "      <td>1997-03-24</td>\n",
       "      <td>OPERATOR</td>\n",
       "      <td>17</td>\n",
       "      <td>F</td>\n",
       "      <td>1966-03-28</td>\n",
       "      <td>46250.0</td>\n",
       "      <td>500.0</td>\n",
       "      <td>2100.0</td>\n",
       "    </tr>\n",
       "    <tr>\n",
       "      <th>39</th>\n",
       "      <td>200310</td>\n",
       "      <td>MICHELLE</td>\n",
       "      <td>F</td>\n",
       "      <td>SPRINGER</td>\n",
       "      <td>E11</td>\n",
       "      <td>3332</td>\n",
       "      <td>1994-09-12</td>\n",
       "      <td>OPERATOR</td>\n",
       "      <td>12</td>\n",
       "      <td>F</td>\n",
       "      <td>1961-04-21</td>\n",
       "      <td>35900.0</td>\n",
       "      <td>300.0</td>\n",
       "      <td>1272.0</td>\n",
       "    </tr>\n",
       "    <tr>\n",
       "      <th>40</th>\n",
       "      <td>200330</td>\n",
       "      <td>HELENA</td>\n",
       "      <td></td>\n",
       "      <td>WONG</td>\n",
       "      <td>E21</td>\n",
       "      <td>2103</td>\n",
       "      <td>2006-02-23</td>\n",
       "      <td>FIELDREP</td>\n",
       "      <td>14</td>\n",
       "      <td>F</td>\n",
       "      <td>1971-07-18</td>\n",
       "      <td>35370.0</td>\n",
       "      <td>500.0</td>\n",
       "      <td>2030.0</td>\n",
       "    </tr>\n",
       "    <tr>\n",
       "      <th>41</th>\n",
       "      <td>200340</td>\n",
       "      <td>ROY</td>\n",
       "      <td>R</td>\n",
       "      <td>ALONZO</td>\n",
       "      <td>E21</td>\n",
       "      <td>5698</td>\n",
       "      <td>1997-07-05</td>\n",
       "      <td>FIELDREP</td>\n",
       "      <td>16</td>\n",
       "      <td>M</td>\n",
       "      <td>1956-05-17</td>\n",
       "      <td>31840.0</td>\n",
       "      <td>500.0</td>\n",
       "      <td>1907.0</td>\n",
       "    </tr>\n",
       "    <tr>\n",
       "      <th>42</th>\n",
       "      <td>999999</td>\n",
       "      <td>ROY</td>\n",
       "      <td>R</td>\n",
       "      <td>ALONZO</td>\n",
       "      <td>E21</td>\n",
       "      <td>5698</td>\n",
       "      <td>1997-07-04</td>\n",
       "      <td>FIELDREP</td>\n",
       "      <td>16</td>\n",
       "      <td>M</td>\n",
       "      <td>1956-05-16</td>\n",
       "      <td>31840.0</td>\n",
       "      <td>500.0</td>\n",
       "      <td>1907.0</td>\n",
       "    </tr>\n",
       "  </tbody>\n",
       "</table>\n",
       "<p>43 rows × 14 columns</p>\n",
       "</div>"
      ],
      "text/plain": [
       "     EMPNO   FIRSTNME MIDINIT  LASTNAME WORKDEPT PHONENO    HIREDATE  \\\n",
       "0   000010  CHRISTINE       I      HAAS      A00    3978  1995-01-01   \n",
       "1   000020    MICHAEL       L  THOMPSON      B01    3476  2003-10-10   \n",
       "2   000030      SALLY       A      KWAN      C01    4738  2005-04-05   \n",
       "3   000050       JOHN       B     GEYER      E01    6789  1979-08-17   \n",
       "4   000060     IRVING       F     STERN      D11    6423  2003-09-14   \n",
       "..     ...        ...     ...       ...      ...     ...         ...   \n",
       "38  200280     EILEEN       R  SCHWARTZ      E11    8997  1997-03-24   \n",
       "39  200310   MICHELLE       F  SPRINGER      E11    3332  1994-09-12   \n",
       "40  200330     HELENA              WONG      E21    2103  2006-02-23   \n",
       "41  200340        ROY       R    ALONZO      E21    5698  1997-07-05   \n",
       "42  999999        ROY       R    ALONZO      E21    5698  1997-07-04   \n",
       "\n",
       "         JOB  EDLEVEL SEX   BIRTHDATE    SALARY   BONUS    COMM  \n",
       "0   PRES           18   F  1963-08-24  152750.0  1000.0  4220.0  \n",
       "1   MANAGER        18   M  1978-02-02   94250.0   800.0  3300.0  \n",
       "2   MANAGER        20   F  1971-05-11   98250.0   800.0  3060.0  \n",
       "3   MANAGER        16   M  1955-09-15   80175.0   800.0  3214.0  \n",
       "4   MANAGER        16   M  1975-07-07   72250.0   500.0  2580.0  \n",
       "..       ...      ...  ..         ...       ...     ...     ...  \n",
       "38  OPERATOR       17   F  1966-03-28   46250.0   500.0  2100.0  \n",
       "39  OPERATOR       12   F  1961-04-21   35900.0   300.0  1272.0  \n",
       "40  FIELDREP       14   F  1971-07-18   35370.0   500.0  2030.0  \n",
       "41  FIELDREP       16   M  1956-05-17   31840.0   500.0  1907.0  \n",
       "42  FIELDREP       16   M  1956-05-16   31840.0   500.0  1907.0  \n",
       "\n",
       "[43 rows x 14 columns]"
      ]
     },
     "metadata": {},
     "output_type": "display_data"
    }
   ],
   "source": [
    "%sql SELECT * FROM EMPLOYEE"
   ]
  },
  {
   "cell_type": "markdown",
   "metadata": {},
   "source": [
    "Now that we have a working DB2 connection, we will need to set up an OData service to talk to DB2."
   ]
  },
  {
   "cell_type": "markdown",
   "metadata": {},
   "source": [
    "## Connecting through OData\n",
    "Connecting through OData requires a different approach than a DB2 client. We still need to ask a bunch of questions on how we connect to the database, but this doesn't create a connection from the client. Instead what we end up creating is a service URL. This URL gives us access to DB2 through the OData gateway server.\n",
    "\n",
    "The OData Server take the URL request and maps it to a DB2 resource, which could be one or more tables. The RESTful API needs this URL to communicate with DB2 but nothing else (userids, passwords, etc...) are sent with the request.\n",
    "\n",
    "The following %odata command will prompt you for the connection parameters, similar to what happened with the DB2 connect. There are a few differences however. The connection requires the userid and password of the user connecting to the database, and the userid and password of a user with administration (DBABM) privileges.\n",
    "\n",
    "The administrative user creates the service connection that will be used to communicate through the OData gateway and DB2. The regular userid and password is for the actual user that will connect to the database to manipulate the tables. Finally we need to have the schema (or owner) of the tables that will be accessed. From a DB2 perspective, this is similar to connecting to a DATABASE (SAMPLE) as userid FRED. The EMPLOYEE table was created under the userid DB2INST1, so to access the table we need to use DB2INST1.EMPLOYEE. If we didn't include the schema (DB2INST1), the query would fail since FRED was not the owner of the table.\n",
    "\n",
    "The %odata PROMPT command will request all of the connection parameters and explain what the various fields are. Note: If you have DBADM privileges (and you created the sample tables yourself), you can leave the USERID/PASSWORD/SCHEMA values blank and they will default to the administrative user values."
   ]
  },
  {
   "cell_type": "code",
   "execution_count": 6,
   "metadata": {},
   "outputs": [
    {
     "data": {
      "text/html": [
       "\n",
       "       <h3>SET Command Syntax</h3> \n",
       "       <p>The set command is used to tell the program how to access a data source as well as give it\n",
       "       credentials nessary to connect. The keywords that are allowed in the command include the following.\n",
       "       Note, you do not need to specify all of these values, only the ones that you want to change. To get\n",
       "       the current values (except passwords), use the SETTINGS command.\n",
       "       <ul>\n",
       "       <li>DATABASE name - The name of the DB2 database you want to connect to\n",
       "       <li>SCHEMA userid - The SCHEMA that any request will use when accessing a table\n",
       "       <li>HOST ipaddress - The IP address (or localhost) where the DB2 instance can be found\n",
       "       <li>PORT portno - The PORT number that DB2 is listening to (usually 50000)\n",
       "       <li>USER userid - The user that will be issuing the OData requests to the table\n",
       "       <li>PASSWORD pwd - The password for the USER (use a \"?\" to prompt for the value)\n",
       "       <li>ADMIN - The user that has administrative privileges for creating the service (perhaps the same as the user)\n",
       "       <li>PASSWORD pwd - The password for the administrative user (use a ? to prompt for the value)\n",
       "       <li>MAXROWS amount - By default 10 rows are displayed. A value of -1 will show all rows, while any other \n",
       "           value will allow a maximum of that many rows to be displayed\n",
       "       </ul>\n",
       "       "
      ],
      "text/plain": [
       "<IPython.core.display.HTML object>"
      ]
     },
     "metadata": {},
     "output_type": "display_data"
    },
    {
     "name": "stdout",
     "output_type": "stream",
     "text": [
      "Enter the DATABASE name: SAMPLE\n",
      "Enter the HOST name: localhost\n",
      "Enter the PORT number: 50000\n",
      "Enter the Userid on the DB2 system: jlp\n",
      "Userid Password: ········\n",
      "Enter the Admin user on the DB2 system [Blank to default user/password/schema of Userid values]: \n"
     ]
    }
   ],
   "source": [
    "%odata prompt"
   ]
  },
  {
   "cell_type": "markdown",
   "metadata": {},
   "source": [
    "### Selecting Data from a Table\n",
    "So far all we have done is set up the connection parameters, but no actual connection has been made to DB2, nor has an OData service been created. The creation of a service is done when the first SQL request is issued. The next statement will retrieve the values from our favorite EMPLOYEE table, but use OData to accomplish it."
   ]
  },
  {
   "cell_type": "code",
   "execution_count": 7,
   "metadata": {},
   "outputs": [
    {
     "data": {
      "text/html": [
       "<p style=\"border:2px; border-style:solid; border-color:#008000; background-color:#e6ffe6; padding: 1em;\">OData connection removed for JLP.EMPLOYEE in Database SAMPLE</p>"
      ],
      "text/plain": [
       "<IPython.core.display.HTML object>"
      ]
     },
     "metadata": {},
     "output_type": "display_data"
    },
    {
     "name": "stdout",
     "output_type": "stream",
     "text": [
      "Creating Service Request for OData Connection\n",
      "Service URL: http://localhost:9080/ODataOne/createService\n",
      "Request Header\n",
      "{\n",
      "    \"Content-Type\": \"application/json\",\n",
      "    \"Accept\": \"application/json\"\n",
      "}\n",
      "Connection Parameters\n",
      "{\n",
      "    \"database\": \"SAMPLE\",\n",
      "    \"host\": \"localhost\",\n",
      "    \"port\": \"50000\",\n",
      "    \"db2AdminUser\": \"JLP\",\n",
      "    \"db2AdminPassword\": \"********\",\n",
      "    \"db2ServiceUser\": \"JLP\",\n",
      "    \"db2ServicePassword\": \"********\",\n",
      "    \"ssl\": false,\n",
      "    \"schema\": \"JLP\",\n",
      "    \"tablenames\": [\n",
      "        \"EMPLOYEE\"\n",
      "    ]\n",
      "}\n",
      "SELECT Command\n",
      "URL  : http://localhost:9080/ODataOne/ODataService/SAMPLE-43f3a26a657f448ba537289c494fb184\n",
      "OData: /EMPLOYEES?$select=LASTNAME,SALARY&$filter=SALARY gt 50000&$format=json\n"
     ]
    },
    {
     "data": {
      "text/html": [
       "<div>\n",
       "<table border=\"1\" class=\"dataframe\">\n",
       "  <thead>\n",
       "    <tr style=\"text-align: right;\">\n",
       "      <th></th>\n",
       "      <th>LASTNAME</th>\n",
       "      <th>SALARY</th>\n",
       "    </tr>\n",
       "  </thead>\n",
       "  <tbody>\n",
       "    <tr>\n",
       "      <th>0</th>\n",
       "      <td>HAAS</td>\n",
       "      <td>152750</td>\n",
       "    </tr>\n",
       "    <tr>\n",
       "      <th>1</th>\n",
       "      <td>THOMPSON</td>\n",
       "      <td>94250</td>\n",
       "    </tr>\n",
       "    <tr>\n",
       "      <th>2</th>\n",
       "      <td>KWAN</td>\n",
       "      <td>98250</td>\n",
       "    </tr>\n",
       "    <tr>\n",
       "      <th>3</th>\n",
       "      <td>GEYER</td>\n",
       "      <td>80175</td>\n",
       "    </tr>\n",
       "    <tr>\n",
       "      <th>4</th>\n",
       "      <td>STERN</td>\n",
       "      <td>72250</td>\n",
       "    </tr>\n",
       "    <tr>\n",
       "      <th>...</th>\n",
       "      <td>...</td>\n",
       "      <td>...</td>\n",
       "    </tr>\n",
       "    <tr>\n",
       "      <th>15</th>\n",
       "      <td>BROWN</td>\n",
       "      <td>57740</td>\n",
       "    </tr>\n",
       "    <tr>\n",
       "      <th>16</th>\n",
       "      <td>JONES</td>\n",
       "      <td>68270</td>\n",
       "    </tr>\n",
       "    <tr>\n",
       "      <th>17</th>\n",
       "      <td>NATZ</td>\n",
       "      <td>68420</td>\n",
       "    </tr>\n",
       "    <tr>\n",
       "      <th>18</th>\n",
       "      <td>YAMAMOTO</td>\n",
       "      <td>64680</td>\n",
       "    </tr>\n",
       "    <tr>\n",
       "      <th>19</th>\n",
       "      <td>JOHN</td>\n",
       "      <td>69840</td>\n",
       "    </tr>\n",
       "  </tbody>\n",
       "</table>\n",
       "<p>20 rows × 2 columns</p>\n",
       "</div>"
      ],
      "text/plain": [
       "    LASTNAME  SALARY\n",
       "0       HAAS  152750\n",
       "1   THOMPSON   94250\n",
       "2       KWAN   98250\n",
       "3      GEYER   80175\n",
       "4      STERN   72250\n",
       "..       ...     ...\n",
       "15     BROWN   57740\n",
       "16     JONES   68270\n",
       "17      NATZ   68420\n",
       "18  YAMAMOTO   64680\n",
       "19      JOHN   69840\n",
       "\n",
       "[20 rows x 2 columns]"
      ]
     },
     "metadata": {},
     "output_type": "display_data"
    }
   ],
   "source": [
    "%odata DROP TABLE EMPLOYEE\n",
    "s = %odata -e SELECT lastname, salary from employee where salary > 50000"
   ]
  },
  {
   "cell_type": "markdown",
   "metadata": {},
   "source": [
    "### Viewing the OData Command\n",
    "Under the covers a number of things happened when running this command. The SELECT * FROM EMPLOYEE is not what is sent to OData. The syntax is converted to something that the RESTful API understands. To view the actual OData syntax, the -e option is used to echo back the commands."
   ]
  },
  {
   "cell_type": "code",
   "execution_count": 8,
   "metadata": {},
   "outputs": [
    {
     "name": "stdout",
     "output_type": "stream",
     "text": [
      "SELECT Command\n",
      "URL  : http://localhost:9080/ODataOne/ODataService/SAMPLE-43f3a26a657f448ba537289c494fb184\n",
      "OData: /EMPLOYEES?$format=json\n"
     ]
    },
    {
     "data": {
      "text/html": [
       "<div>\n",
       "<table border=\"1\" class=\"dataframe\">\n",
       "  <thead>\n",
       "    <tr style=\"text-align: right;\">\n",
       "      <th></th>\n",
       "      <th>BIRTHDATE</th>\n",
       "      <th>BONUS</th>\n",
       "      <th>COMM</th>\n",
       "      <th>EDLEVEL</th>\n",
       "      <th>EMPNO</th>\n",
       "      <th>FIRSTNME</th>\n",
       "      <th>HIREDATE</th>\n",
       "      <th>JOB</th>\n",
       "      <th>LASTNAME</th>\n",
       "      <th>MIDINIT</th>\n",
       "      <th>PHONENO</th>\n",
       "      <th>SALARY</th>\n",
       "      <th>SEX</th>\n",
       "      <th>WORKDEPT</th>\n",
       "    </tr>\n",
       "  </thead>\n",
       "  <tbody>\n",
       "    <tr>\n",
       "      <th>0</th>\n",
       "      <td>1963-08-24</td>\n",
       "      <td>1000</td>\n",
       "      <td>4220</td>\n",
       "      <td>18</td>\n",
       "      <td>10</td>\n",
       "      <td>CHRISTINE</td>\n",
       "      <td>1995-01-01</td>\n",
       "      <td>PRES</td>\n",
       "      <td>HAAS</td>\n",
       "      <td>I</td>\n",
       "      <td>3978</td>\n",
       "      <td>152750</td>\n",
       "      <td>F</td>\n",
       "      <td>A00</td>\n",
       "    </tr>\n",
       "    <tr>\n",
       "      <th>1</th>\n",
       "      <td>1978-02-02</td>\n",
       "      <td>800</td>\n",
       "      <td>3300</td>\n",
       "      <td>18</td>\n",
       "      <td>20</td>\n",
       "      <td>MICHAEL</td>\n",
       "      <td>2003-10-10</td>\n",
       "      <td>MANAGER</td>\n",
       "      <td>THOMPSON</td>\n",
       "      <td>L</td>\n",
       "      <td>3476</td>\n",
       "      <td>94250</td>\n",
       "      <td>M</td>\n",
       "      <td>B01</td>\n",
       "    </tr>\n",
       "    <tr>\n",
       "      <th>2</th>\n",
       "      <td>1971-05-11</td>\n",
       "      <td>800</td>\n",
       "      <td>3060</td>\n",
       "      <td>20</td>\n",
       "      <td>30</td>\n",
       "      <td>SALLY</td>\n",
       "      <td>2005-04-05</td>\n",
       "      <td>MANAGER</td>\n",
       "      <td>KWAN</td>\n",
       "      <td>A</td>\n",
       "      <td>4738</td>\n",
       "      <td>98250</td>\n",
       "      <td>F</td>\n",
       "      <td>C01</td>\n",
       "    </tr>\n",
       "    <tr>\n",
       "      <th>3</th>\n",
       "      <td>1955-09-15</td>\n",
       "      <td>800</td>\n",
       "      <td>3214</td>\n",
       "      <td>16</td>\n",
       "      <td>50</td>\n",
       "      <td>JOHN</td>\n",
       "      <td>1979-08-17</td>\n",
       "      <td>MANAGER</td>\n",
       "      <td>GEYER</td>\n",
       "      <td>B</td>\n",
       "      <td>6789</td>\n",
       "      <td>80175</td>\n",
       "      <td>M</td>\n",
       "      <td>E01</td>\n",
       "    </tr>\n",
       "    <tr>\n",
       "      <th>4</th>\n",
       "      <td>1975-07-07</td>\n",
       "      <td>500</td>\n",
       "      <td>2580</td>\n",
       "      <td>16</td>\n",
       "      <td>60</td>\n",
       "      <td>IRVING</td>\n",
       "      <td>2003-09-14</td>\n",
       "      <td>MANAGER</td>\n",
       "      <td>STERN</td>\n",
       "      <td>F</td>\n",
       "      <td>6423</td>\n",
       "      <td>72250</td>\n",
       "      <td>M</td>\n",
       "      <td>D11</td>\n",
       "    </tr>\n",
       "    <tr>\n",
       "      <th>...</th>\n",
       "      <td>...</td>\n",
       "      <td>...</td>\n",
       "      <td>...</td>\n",
       "      <td>...</td>\n",
       "      <td>...</td>\n",
       "      <td>...</td>\n",
       "      <td>...</td>\n",
       "      <td>...</td>\n",
       "      <td>...</td>\n",
       "      <td>...</td>\n",
       "      <td>...</td>\n",
       "      <td>...</td>\n",
       "      <td>...</td>\n",
       "      <td>...</td>\n",
       "    </tr>\n",
       "    <tr>\n",
       "      <th>38</th>\n",
       "      <td>1966-03-28</td>\n",
       "      <td>500</td>\n",
       "      <td>2100</td>\n",
       "      <td>17</td>\n",
       "      <td>200280</td>\n",
       "      <td>EILEEN</td>\n",
       "      <td>1997-03-24</td>\n",
       "      <td>OPERATOR</td>\n",
       "      <td>SCHWARTZ</td>\n",
       "      <td>R</td>\n",
       "      <td>8997</td>\n",
       "      <td>46250</td>\n",
       "      <td>F</td>\n",
       "      <td>E11</td>\n",
       "    </tr>\n",
       "    <tr>\n",
       "      <th>39</th>\n",
       "      <td>1961-04-21</td>\n",
       "      <td>300</td>\n",
       "      <td>1272</td>\n",
       "      <td>12</td>\n",
       "      <td>200310</td>\n",
       "      <td>MICHELLE</td>\n",
       "      <td>1994-09-12</td>\n",
       "      <td>OPERATOR</td>\n",
       "      <td>SPRINGER</td>\n",
       "      <td>F</td>\n",
       "      <td>3332</td>\n",
       "      <td>35900</td>\n",
       "      <td>F</td>\n",
       "      <td>E11</td>\n",
       "    </tr>\n",
       "    <tr>\n",
       "      <th>40</th>\n",
       "      <td>1971-07-18</td>\n",
       "      <td>500</td>\n",
       "      <td>2030</td>\n",
       "      <td>14</td>\n",
       "      <td>200330</td>\n",
       "      <td>HELENA</td>\n",
       "      <td>2006-02-23</td>\n",
       "      <td>FIELDREP</td>\n",
       "      <td>WONG</td>\n",
       "      <td></td>\n",
       "      <td>2103</td>\n",
       "      <td>35370</td>\n",
       "      <td>F</td>\n",
       "      <td>E21</td>\n",
       "    </tr>\n",
       "    <tr>\n",
       "      <th>41</th>\n",
       "      <td>1956-05-17</td>\n",
       "      <td>500</td>\n",
       "      <td>1907</td>\n",
       "      <td>16</td>\n",
       "      <td>200340</td>\n",
       "      <td>ROY</td>\n",
       "      <td>1997-07-05</td>\n",
       "      <td>FIELDREP</td>\n",
       "      <td>ALONZO</td>\n",
       "      <td>R</td>\n",
       "      <td>5698</td>\n",
       "      <td>31840</td>\n",
       "      <td>M</td>\n",
       "      <td>E21</td>\n",
       "    </tr>\n",
       "    <tr>\n",
       "      <th>42</th>\n",
       "      <td>1956-05-16</td>\n",
       "      <td>500</td>\n",
       "      <td>1907</td>\n",
       "      <td>16</td>\n",
       "      <td>999999</td>\n",
       "      <td>ROY</td>\n",
       "      <td>1997-07-04</td>\n",
       "      <td>FIELDREP</td>\n",
       "      <td>ALONZO</td>\n",
       "      <td>R</td>\n",
       "      <td>5698</td>\n",
       "      <td>31840</td>\n",
       "      <td>M</td>\n",
       "      <td>E21</td>\n",
       "    </tr>\n",
       "  </tbody>\n",
       "</table>\n",
       "<p>43 rows × 14 columns</p>\n",
       "</div>"
      ],
      "text/plain": [
       "     BIRTHDATE  BONUS  COMM  EDLEVEL   EMPNO   FIRSTNME    HIREDATE       JOB  \\\n",
       "0   1963-08-24   1000  4220       18      10  CHRISTINE  1995-01-01  PRES       \n",
       "1   1978-02-02    800  3300       18      20    MICHAEL  2003-10-10  MANAGER    \n",
       "2   1971-05-11    800  3060       20      30      SALLY  2005-04-05  MANAGER    \n",
       "3   1955-09-15    800  3214       16      50       JOHN  1979-08-17  MANAGER    \n",
       "4   1975-07-07    500  2580       16      60     IRVING  2003-09-14  MANAGER    \n",
       "..         ...    ...   ...      ...     ...        ...         ...       ...   \n",
       "38  1966-03-28    500  2100       17  200280     EILEEN  1997-03-24  OPERATOR   \n",
       "39  1961-04-21    300  1272       12  200310   MICHELLE  1994-09-12  OPERATOR   \n",
       "40  1971-07-18    500  2030       14  200330     HELENA  2006-02-23  FIELDREP   \n",
       "41  1956-05-17    500  1907       16  200340        ROY  1997-07-05  FIELDREP   \n",
       "42  1956-05-16    500  1907       16  999999        ROY  1997-07-04  FIELDREP   \n",
       "\n",
       "    LASTNAME MIDINIT  PHONENO  SALARY SEX WORKDEPT  \n",
       "0       HAAS       I     3978  152750   F      A00  \n",
       "1   THOMPSON       L     3476   94250   M      B01  \n",
       "2       KWAN       A     4738   98250   F      C01  \n",
       "3      GEYER       B     6789   80175   M      E01  \n",
       "4      STERN       F     6423   72250   M      D11  \n",
       "..       ...     ...      ...     ...  ..      ...  \n",
       "38  SCHWARTZ       R     8997   46250   F      E11  \n",
       "39  SPRINGER       F     3332   35900   F      E11  \n",
       "40      WONG             2103   35370   F      E21  \n",
       "41    ALONZO       R     5698   31840   M      E21  \n",
       "42    ALONZO       R     5698   31840   M      E21  \n",
       "\n",
       "[43 rows x 14 columns]"
      ]
     },
     "metadata": {},
     "output_type": "display_data"
    }
   ],
   "source": [
    "s = %odata -e SELECT * FROM EMPLOYEE"
   ]
  },
  {
   "cell_type": "markdown",
   "metadata": {},
   "source": [
    "The results will show the URL service command used (http:// followed by details of the host location and service ID) and the OData command. In this case the command should be /EMPLOYEES. This may seem like a spelling mistake, but the OData service creates a mapping from the database table (EMPLOYEE) to a service request. To give the service request a unique name, the letter \"S\" is appended to the table name. Do not confuse the service \n",
    "name with the table name. That can sometimes lead to coding errors!\n",
    "\n",
    "If we tried to request a table that didn't exist in the database, we would get an error message instead."
   ]
  },
  {
   "cell_type": "code",
   "execution_count": 9,
   "metadata": {},
   "outputs": [
    {
     "data": {
      "text/html": [
       "<p style=\"border:2px; border-style:solid; border-color:#FF0000; background-color:#ffe6e6; padding: 1em;\">SQLException: com.ibm.db2.jcc.am.SqlSyntaxErrorException: DB2 SQL Error: SQLCODE=-204, SQLSTATE=42704, SQLERRMC=JLP.UNKNOWN_TABLE, DRIVER=4.22.26</p>"
      ],
      "text/plain": [
       "<IPython.core.display.HTML object>"
      ]
     },
     "metadata": {},
     "output_type": "display_data"
    }
   ],
   "source": [
    "%odata select * from unknown_table"
   ]
  },
  {
   "cell_type": "markdown",
   "metadata": {},
   "source": [
    "One drawback of OData is that we don't get the actual error text returned. We know that the error code is, but the message isn't that descriptive. Using the %sql (DB2) command, we can find out that the table doesn't exist."
   ]
  },
  {
   "cell_type": "code",
   "execution_count": 10,
   "metadata": {},
   "outputs": [
    {
     "data": {
      "text/html": [
       "<p style=\"border:2px; border-style:solid; border-color:#FF0000; background-color:#ffe6e6; padding: 1em;\">SQL0204N  \"JLP.UNKNOWN_TABLE\" is an undefined name.  SQLSTATE=42704 SQLCODE=-204</p>"
      ],
      "text/plain": [
       "<IPython.core.display.HTML object>"
      ]
     },
     "metadata": {},
     "output_type": "display_data"
    }
   ],
   "source": [
    "%sql select * from unknown_table"
   ]
  },
  {
   "cell_type": "markdown",
   "metadata": {},
   "source": [
    "### Limiting Output Results\n",
    "The results contain 43 rows. If you want to reduce the amount of rows being returned we can use the LIMIT clause on the SELECT statement. In addition, we can use the -j flag to return the data as JSON records."
   ]
  },
  {
   "cell_type": "code",
   "execution_count": 11,
   "metadata": {},
   "outputs": [
    {
     "name": "stdout",
     "output_type": "stream",
     "text": [
      "SELECT Command\n",
      "URL  : http://localhost:9080/ODataOne/ODataService/SAMPLE-43f3a26a657f448ba537289c494fb184\n",
      "OData: /EMPLOYEES?$top=1&$format=json\n",
      "[\n",
      "    {\n",
      "        \"BIRTHDATE\": \"1963-08-24\",\n",
      "        \"BONUS\": 1000.0,\n",
      "        \"COMM\": 4220.0,\n",
      "        \"EDLEVEL\": 18,\n",
      "        \"EMPNO\": \"000010\",\n",
      "        \"FIRSTNME\": \"CHRISTINE\",\n",
      "        \"HIREDATE\": \"1995-01-01\",\n",
      "        \"JOB\": \"PRES    \",\n",
      "        \"LASTNAME\": \"HAAS\",\n",
      "        \"MIDINIT\": \"I\",\n",
      "        \"PHONENO\": \"3978\",\n",
      "        \"SALARY\": 152750.0,\n",
      "        \"SEX\": \"F\",\n",
      "        \"WORKDEPT\": \"A00\"\n",
      "    }\n",
      "]\n"
     ]
    }
   ],
   "source": [
    "s = %odata -e -j SELECT * FROM EMPLOYEE LIMIT 1"
   ]
  },
  {
   "cell_type": "markdown",
   "metadata": {},
   "source": [
    "To limit the results from a OData request, you must add the \\$top=x modifier at the end of the service request. The format then becomes:\n",
    "<pre>\n",
    "  \\[service url\\]/\\[service name\\]?&#36;top=value\n",
    "</pre>\n",
    "You will notice that the OData syntax requires that a \"?\" be placed after the name of the service. In our  example, EMPLOYEES is the name of the service that accesses the EMPLOYEE table. We add the ? after the end of the service name and then add the $top modifier. If there were multiple modifiers, each one must be separated with an ampersand (&) symbol. "
   ]
  },
  {
   "cell_type": "markdown",
   "metadata": {},
   "source": [
    "### Persistent Connection Information\n",
    "What you should have received when running the previous command was a single JSON record, the service URL and the OData command. The URL will be identical to the one in the previous %odata request. There is no need to recreate a service if you are using the same table. The program created a new service when you did a SELECT for the first time. After that it keeps the service information in a file called TABLE@SCHEMA@DATABASE.pickle in the directory where the Jupyter notebook is running. If you try this statement at another time, this service URL will be retrieved from this file rather than creating another service.\n",
    "\n",
    "### Dropping a Connection\n",
    "If you want to delete the connection information, use the DROP command with the database, schema, and table name in it. This doesn't drop the object or anything associated with the table. All this does is remove the service information from your system. It also does not remove the service from the OData gateway."
   ]
  },
  {
   "cell_type": "code",
   "execution_count": 12,
   "metadata": {},
   "outputs": [
    {
     "data": {
      "text/html": [
       "<p style=\"border:2px; border-style:solid; border-color:#008000; background-color:#e6ffe6; padding: 1em;\">OData connection removed for JLP.EMPLOYEE in Database SAMPLE</p>"
      ],
      "text/plain": [
       "<IPython.core.display.HTML object>"
      ]
     },
     "metadata": {},
     "output_type": "display_data"
    }
   ],
   "source": [
    "%odata \\\n",
    "  DROP \\\n",
    "    DATABASE {settings['database']} \\\n",
    "    SCHEMA   {settings['schema']} \\\n",
    "    TABLE    EMPLOYEE"
   ]
  },
  {
   "cell_type": "markdown",
   "metadata": {},
   "source": [
    "The last example illustrates two additional features of the %odata command. First, you can span statements over multiple lines by using the backslash character ('\\'). You could also use the %%odata command to do this without backslashes, but it unfortunately will not allow for variable substitution. The current settings being used by OData can be found by issuing the SETTINGS command.\n",
    "\n",
    "You can specify the command with only the TABLE option and it will take the current DATABASE and SCHEMA names from any prior settings."
   ]
  },
  {
   "cell_type": "code",
   "execution_count": 13,
   "metadata": {},
   "outputs": [
    {
     "name": "stdout",
     "output_type": "stream",
     "text": [
      "Database   : SAMPLE\n",
      "Schema     : JLP\n",
      "User       : JLP\n",
      "Admin User : JLP\n",
      "Host       : localhost\n",
      "Port       : 50000\n",
      "Format     : table\n"
     ]
    }
   ],
   "source": [
    "%odata settings"
   ]
  },
  {
   "cell_type": "markdown",
   "metadata": {},
   "source": [
    "You can also refer to these values by using the settings['name'] variable. So the DROP statement just took the current DATABASE and SCHEMA settings and deleted the definition for the EMPLOYEE table. You could have done this directly with:\n",
    "<pre>\n",
    "DROP DATABASE SAMPLE SCHEMA DB2INST1 TABLE EMPLOYEE\n",
    "</pre>\n",
    "The list of settings and their variable names are listed below.\n",
    "\n",
    "| Setting       | Variable name        \n",
    "|:--------------|:---------------------\n",
    "| DATABASE      | settings['database']\n",
    "| SCHEMA        | settings['schema']\n",
    "| ADMIN         | settings['admin']\n",
    "| A_PWD         | settings['a_pwd']\n",
    "| USER          | settings['userid']\n",
    "| U_PWD         | settings['u_pwd']\n",
    "| HOST          | settings['host']\n",
    "| PORT          | settings['port']\n",
    "| MAXROWS       | settings['maxrows']"
   ]
  },
  {
   "cell_type": "markdown",
   "metadata": {},
   "source": [
    "### Variables in %OData Statements\n",
    "To use local Jupyter/Python variables in a notebook, all you need to do is place braces {} around the name of the variable. Before we illustrate this, we need to create another connection (since we just dropped it in the last example). Fortunately, none of the settings have been removed, so we still have the connection information (DATABASE, SCHEMA, ...) available. \n",
    "\n",
    "In the event you have closed the notebook and started up from scratch, there is no need to do a full connect command (or prompt). The settings are automatically written to disk and then restored when you start up another session. If you want to connect to another database then you will need to use the following SET statement. "
   ]
  },
  {
   "cell_type": "code",
   "execution_count": 14,
   "metadata": {
    "collapsed": true
   },
   "outputs": [],
   "source": [
    "%odata set DATABASE {settings['database']} SCHEMA {settings['schema']}"
   ]
  },
  {
   "cell_type": "markdown",
   "metadata": {},
   "source": [
    "And this command will show the connection service being created for us."
   ]
  },
  {
   "cell_type": "code",
   "execution_count": 15,
   "metadata": {},
   "outputs": [
    {
     "name": "stdout",
     "output_type": "stream",
     "text": [
      "Creating Service Request for OData Connection\n",
      "Service URL: http://localhost:9080/ODataOne/createService\n",
      "Request Header\n",
      "{\n",
      "    \"Content-Type\": \"application/json\",\n",
      "    \"Accept\": \"application/json\"\n",
      "}\n",
      "Connection Parameters\n",
      "{\n",
      "    \"database\": \"SAMPLE\",\n",
      "    \"host\": \"localhost\",\n",
      "    \"port\": \"50000\",\n",
      "    \"db2AdminUser\": \"JLP\",\n",
      "    \"db2AdminPassword\": \"********\",\n",
      "    \"db2ServiceUser\": \"JLP\",\n",
      "    \"db2ServicePassword\": \"********\",\n",
      "    \"ssl\": false,\n",
      "    \"schema\": \"JLP\",\n",
      "    \"tablenames\": [\n",
      "        \"EMPLOYEE\"\n",
      "    ]\n",
      "}\n",
      "SELECT Command\n",
      "URL  : http://localhost:9080/ODataOne/ODataService/SAMPLE-6a90088a5aef458d943c94780eca99d5\n",
      "OData: /EMPLOYEES?$top=1&$format=json\n"
     ]
    },
    {
     "data": {
      "text/html": [
       "<div>\n",
       "<table border=\"1\" class=\"dataframe\">\n",
       "  <thead>\n",
       "    <tr style=\"text-align: right;\">\n",
       "      <th></th>\n",
       "      <th>BIRTHDATE</th>\n",
       "      <th>BONUS</th>\n",
       "      <th>COMM</th>\n",
       "      <th>EDLEVEL</th>\n",
       "      <th>EMPNO</th>\n",
       "      <th>FIRSTNME</th>\n",
       "      <th>HIREDATE</th>\n",
       "      <th>JOB</th>\n",
       "      <th>LASTNAME</th>\n",
       "      <th>MIDINIT</th>\n",
       "      <th>PHONENO</th>\n",
       "      <th>SALARY</th>\n",
       "      <th>SEX</th>\n",
       "      <th>WORKDEPT</th>\n",
       "    </tr>\n",
       "  </thead>\n",
       "  <tbody>\n",
       "    <tr>\n",
       "      <th>0</th>\n",
       "      <td>1963-08-24</td>\n",
       "      <td>1000</td>\n",
       "      <td>4220</td>\n",
       "      <td>18</td>\n",
       "      <td>10</td>\n",
       "      <td>CHRISTINE</td>\n",
       "      <td>1995-01-01</td>\n",
       "      <td>PRES</td>\n",
       "      <td>HAAS</td>\n",
       "      <td>I</td>\n",
       "      <td>3978</td>\n",
       "      <td>152750</td>\n",
       "      <td>F</td>\n",
       "      <td>A00</td>\n",
       "    </tr>\n",
       "  </tbody>\n",
       "</table>\n",
       "</div>"
      ],
      "text/plain": [
       "    BIRTHDATE  BONUS  COMM  EDLEVEL  EMPNO   FIRSTNME    HIREDATE       JOB  \\\n",
       "0  1963-08-24   1000  4220       18     10  CHRISTINE  1995-01-01  PRES       \n",
       "\n",
       "  LASTNAME MIDINIT  PHONENO  SALARY SEX WORKDEPT  \n",
       "0     HAAS       I     3978  152750   F      A00  "
      ]
     },
     "metadata": {},
     "output_type": "display_data"
    }
   ],
   "source": [
    "u = %odata -e select * from employee limit 1"
   ]
  },
  {
   "cell_type": "markdown",
   "metadata": {},
   "source": [
    "### Retrieving URL, OData Command, and Parameters\n",
    "The %odata command will return the URL command for a select statement as part of the command:\n",
    "<pre>\n",
    "&lt;url&gt; = %odata -e select * from employee limit 1\n",
    "</pre>\n",
    "The variable \"url\" will contain the full URL required to retrieve data from the OData service. The next command illustrates how this works. You must use the echo (-e) option to get the URL returned. Note that you cannot use this syntax with the %%odata version of the command."
   ]
  },
  {
   "cell_type": "code",
   "execution_count": 16,
   "metadata": {},
   "outputs": [
    {
     "name": "stdout",
     "output_type": "stream",
     "text": [
      "SELECT Command\n",
      "URL  : http://localhost:9080/ODataOne/ODataService/SAMPLE-6a90088a5aef458d943c94780eca99d5\n",
      "OData: /EMPLOYEES?$top=1&$format=json\n"
     ]
    },
    {
     "data": {
      "text/html": [
       "<div>\n",
       "<table border=\"1\" class=\"dataframe\">\n",
       "  <thead>\n",
       "    <tr style=\"text-align: right;\">\n",
       "      <th></th>\n",
       "      <th>BIRTHDATE</th>\n",
       "      <th>BONUS</th>\n",
       "      <th>COMM</th>\n",
       "      <th>EDLEVEL</th>\n",
       "      <th>EMPNO</th>\n",
       "      <th>FIRSTNME</th>\n",
       "      <th>HIREDATE</th>\n",
       "      <th>JOB</th>\n",
       "      <th>LASTNAME</th>\n",
       "      <th>MIDINIT</th>\n",
       "      <th>PHONENO</th>\n",
       "      <th>SALARY</th>\n",
       "      <th>SEX</th>\n",
       "      <th>WORKDEPT</th>\n",
       "    </tr>\n",
       "  </thead>\n",
       "  <tbody>\n",
       "    <tr>\n",
       "      <th>0</th>\n",
       "      <td>1963-08-24</td>\n",
       "      <td>1000</td>\n",
       "      <td>4220</td>\n",
       "      <td>18</td>\n",
       "      <td>10</td>\n",
       "      <td>CHRISTINE</td>\n",
       "      <td>1995-01-01</td>\n",
       "      <td>PRES</td>\n",
       "      <td>HAAS</td>\n",
       "      <td>I</td>\n",
       "      <td>3978</td>\n",
       "      <td>152750</td>\n",
       "      <td>F</td>\n",
       "      <td>A00</td>\n",
       "    </tr>\n",
       "  </tbody>\n",
       "</table>\n",
       "</div>"
      ],
      "text/plain": [
       "    BIRTHDATE  BONUS  COMM  EDLEVEL  EMPNO   FIRSTNME    HIREDATE       JOB  \\\n",
       "0  1963-08-24   1000  4220       18     10  CHRISTINE  1995-01-01  PRES       \n",
       "\n",
       "  LASTNAME MIDINIT  PHONENO  SALARY SEX WORKDEPT  \n",
       "0     HAAS       I     3978  152750   F      A00  "
      ]
     },
     "metadata": {},
     "output_type": "display_data"
    }
   ],
   "source": [
    "url = %odata -e select * from employee limit 1"
   ]
  },
  {
   "cell_type": "markdown",
   "metadata": {},
   "source": [
    "You can use this URL to directly access the results through a browser, or any application that can read the results returned by the OData gateway. The print statement below will display the URL as an active link. Click on that to see the results in another browser window."
   ]
  },
  {
   "cell_type": "code",
   "execution_count": 17,
   "metadata": {},
   "outputs": [
    {
     "name": "stdout",
     "output_type": "stream",
     "text": [
      "http://localhost:9080/ODataOne/ODataService/SAMPLE-6a90088a5aef458d943c94780eca99d5/EMPLOYEES?$top=1&$format=json\n"
     ]
    }
   ],
   "source": [
    "print(url)"
   ]
  },
  {
   "cell_type": "markdown",
   "metadata": {},
   "source": [
    "When a URL is generated, we need to append the \\$format=json tag at the end to tell the OData service and the browser how to handle the results. When we run OData and RESTful calls from a programming language (like Python), we are able to send information in the header which tells the API how to handle the results and parameters. All of the RESTful calls to the OData gateway use the following header information:\n",
    "<pre>\n",
    "  {\n",
    "  \"Content-Type\":\"application/json\",\n",
    "  \"Accept\":\"application/json\"\n",
    "  }\n",
    "</pre>\n",
    "<br>When we send the URL to the OData gateway, it needs to be told how to return the information. We need to append the $format=json flag at the end of our query when sending the request via a browser. Note that the ampersand must be appended to the end of the existing URL since we already have one parameter in it."
   ]
  },
  {
   "cell_type": "markdown",
   "metadata": {},
   "source": [
    "### JSON DIsplay in Firefox\n",
    "Depending on what version of Firefox you have, you may not get the JSON to be displayed very nicely. To use the built-in JSON formatter, issue the following commands in a separate browser window:\n",
    "<pre>\n",
    "about:config\n",
    "Search for devtools.jsonview.enabled\n",
    "</pre>\n",
    "<br>Right click on the jsonview setting and enable it. This will result in the JSON being easier to view."
   ]
  },
  {
   "cell_type": "markdown",
   "metadata": {},
   "source": [
    "## SQL Command Syntax\n",
    "The %odata command has been designed to translate the SQL syntax for INSERT, DELETE, UPDATE, and SELECT into an equivalent OData format. There are very specific ways of requesting data from OData, so this ends up placing some limitations on what SQL you can use. This section will cover the four major SQL commands and how they can be used with OData. If you need the syntax for a particular SQL command, just enter the command name by itself on the %odata line and it will give you a brief summary of the syntax. Here is the DELETE help."
   ]
  },
  {
   "cell_type": "code",
   "execution_count": 18,
   "metadata": {},
   "outputs": [
    {
     "data": {
      "text/html": [
       "\n",
       "       <h3>DELETE Command Syntax</h3>\n",
       "       <br>The DELETE command will delete one record from the table (it does not do a searched delete).\n",
       "           The  keycolumn in the WHERE clause must have a primary key/index associated with it. If a primary\n",
       "          index does not match this column, or the index does not exist, the DELETE will not work.\n",
       "       <p><b><pre>\n",
       "DELETE FROM &lt;table&gt; WHERE keycolumn=value\n",
       "       </pre></b> \n",
       "\n",
       "    "
      ],
      "text/plain": [
       "<IPython.core.display.HTML object>"
      ]
     },
     "metadata": {},
     "output_type": "display_data"
    }
   ],
   "source": [
    "%odata delete"
   ]
  },
  {
   "cell_type": "markdown",
   "metadata": {},
   "source": [
    "## SELECT Statements\n",
    "The SELECT statement is the most complicated of the four statements that are allowed in OData. There are generally two forms that can be used when accessing a record. The first method uses the primary key of the table and it requires no arguments. Note that the examples will not show the URL that points to the OData service.\n",
    "<pre>\n",
    "/EMPLOYEES('000010')\n",
    "</pre>\n",
    "The second method is to use the \\$filter query option. \\$filter allows us to compare any column against a value. The equivalent OData statement for retrieving an individual employee is:\n",
    "<pre>\n",
    "/EMPLOYEES?$filter=EMPNO eq '000010'\n",
    "</pre>\n",
    "The generated SELECT statements will always use this format, rather than relying on a primary key. This becomes more important when we deal with Views."
   ]
  },
  {
   "cell_type": "markdown",
   "metadata": {},
   "source": [
    "### SELECT Syntax\n",
    "The SELECT command will return data from one table. There is no ability to join tables with the current implementation of OData. If you do want to join tables, you may want to create a VIEW on the DB2 system and then use that as the TABLE. This will allow for SELECT, but no INSERT/DELETE/UPDATE.\n",
    "\n",
    "You do not need to use the primary key in the WHERE clause to use this statement. By default, any results will be displayed in a table. If you want to retrieve the results as JSON records, use the -j option on the %odata command. \n",
    "<pre>\n",
    "SELECT \\[col1, col2, ... | count(\\*)\\] FROM &lt;table&gt; \\[ WHERE logic\\] \\[ LIMIT rows \\]\n",
    "</pre> \n",
    "The column list can contain as many values as you want, or just COUNT(\\*). COUNT(\\*) will return the count of rows found. If you use the -r or -j flags to display everything in JSON format, you will also get the entire answer set along with the row count. This is the behavior of using count in OData.\n",
    "\n",
    "The FROM clause must contain the name of the table you want to access. \n",
    "\n",
    "The WHERE clause is optional, as is the LIMIT clause. The WHERE clause can contain comparisons between columns and constants (EMPNO='000010'), logic (AND, OR) as well as LIKE clauses (COLUMN LIKE 'xxx'). The current version cannot use arithmetic operators (+, -, *, /) or the NOT operator.\n",
    "\n",
    "The LIMIT clause will restrict the results to \"x\" number of rows. So even if there are 500 rows that meet the answer set, only \"x\" rows will be returned to the client."
   ]
  },
  {
   "cell_type": "markdown",
   "metadata": {},
   "source": [
    "#### Example: Select statement with no logic\n",
    "The following SELECT statement will retrieve all of the data from the EMPLOYEE table."
   ]
  },
  {
   "cell_type": "code",
   "execution_count": 19,
   "metadata": {},
   "outputs": [
    {
     "name": "stdout",
     "output_type": "stream",
     "text": [
      "SELECT Command\n",
      "URL  : http://localhost:9080/ODataOne/ODataService/SAMPLE-6a90088a5aef458d943c94780eca99d5\n",
      "OData: /EMPLOYEES?$format=json\n"
     ]
    },
    {
     "data": {
      "text/html": [
       "<div>\n",
       "<table border=\"1\" class=\"dataframe\">\n",
       "  <thead>\n",
       "    <tr style=\"text-align: right;\">\n",
       "      <th></th>\n",
       "      <th>BIRTHDATE</th>\n",
       "      <th>BONUS</th>\n",
       "      <th>COMM</th>\n",
       "      <th>EDLEVEL</th>\n",
       "      <th>EMPNO</th>\n",
       "      <th>FIRSTNME</th>\n",
       "      <th>HIREDATE</th>\n",
       "      <th>JOB</th>\n",
       "      <th>LASTNAME</th>\n",
       "      <th>MIDINIT</th>\n",
       "      <th>PHONENO</th>\n",
       "      <th>SALARY</th>\n",
       "      <th>SEX</th>\n",
       "      <th>WORKDEPT</th>\n",
       "    </tr>\n",
       "  </thead>\n",
       "  <tbody>\n",
       "    <tr>\n",
       "      <th>0</th>\n",
       "      <td>1963-08-24</td>\n",
       "      <td>1000</td>\n",
       "      <td>4220</td>\n",
       "      <td>18</td>\n",
       "      <td>10</td>\n",
       "      <td>CHRISTINE</td>\n",
       "      <td>1995-01-01</td>\n",
       "      <td>PRES</td>\n",
       "      <td>HAAS</td>\n",
       "      <td>I</td>\n",
       "      <td>3978</td>\n",
       "      <td>152750</td>\n",
       "      <td>F</td>\n",
       "      <td>A00</td>\n",
       "    </tr>\n",
       "    <tr>\n",
       "      <th>1</th>\n",
       "      <td>1978-02-02</td>\n",
       "      <td>800</td>\n",
       "      <td>3300</td>\n",
       "      <td>18</td>\n",
       "      <td>20</td>\n",
       "      <td>MICHAEL</td>\n",
       "      <td>2003-10-10</td>\n",
       "      <td>MANAGER</td>\n",
       "      <td>THOMPSON</td>\n",
       "      <td>L</td>\n",
       "      <td>3476</td>\n",
       "      <td>94250</td>\n",
       "      <td>M</td>\n",
       "      <td>B01</td>\n",
       "    </tr>\n",
       "    <tr>\n",
       "      <th>2</th>\n",
       "      <td>1971-05-11</td>\n",
       "      <td>800</td>\n",
       "      <td>3060</td>\n",
       "      <td>20</td>\n",
       "      <td>30</td>\n",
       "      <td>SALLY</td>\n",
       "      <td>2005-04-05</td>\n",
       "      <td>MANAGER</td>\n",
       "      <td>KWAN</td>\n",
       "      <td>A</td>\n",
       "      <td>4738</td>\n",
       "      <td>98250</td>\n",
       "      <td>F</td>\n",
       "      <td>C01</td>\n",
       "    </tr>\n",
       "    <tr>\n",
       "      <th>3</th>\n",
       "      <td>1955-09-15</td>\n",
       "      <td>800</td>\n",
       "      <td>3214</td>\n",
       "      <td>16</td>\n",
       "      <td>50</td>\n",
       "      <td>JOHN</td>\n",
       "      <td>1979-08-17</td>\n",
       "      <td>MANAGER</td>\n",
       "      <td>GEYER</td>\n",
       "      <td>B</td>\n",
       "      <td>6789</td>\n",
       "      <td>80175</td>\n",
       "      <td>M</td>\n",
       "      <td>E01</td>\n",
       "    </tr>\n",
       "    <tr>\n",
       "      <th>4</th>\n",
       "      <td>1975-07-07</td>\n",
       "      <td>500</td>\n",
       "      <td>2580</td>\n",
       "      <td>16</td>\n",
       "      <td>60</td>\n",
       "      <td>IRVING</td>\n",
       "      <td>2003-09-14</td>\n",
       "      <td>MANAGER</td>\n",
       "      <td>STERN</td>\n",
       "      <td>F</td>\n",
       "      <td>6423</td>\n",
       "      <td>72250</td>\n",
       "      <td>M</td>\n",
       "      <td>D11</td>\n",
       "    </tr>\n",
       "    <tr>\n",
       "      <th>...</th>\n",
       "      <td>...</td>\n",
       "      <td>...</td>\n",
       "      <td>...</td>\n",
       "      <td>...</td>\n",
       "      <td>...</td>\n",
       "      <td>...</td>\n",
       "      <td>...</td>\n",
       "      <td>...</td>\n",
       "      <td>...</td>\n",
       "      <td>...</td>\n",
       "      <td>...</td>\n",
       "      <td>...</td>\n",
       "      <td>...</td>\n",
       "      <td>...</td>\n",
       "    </tr>\n",
       "    <tr>\n",
       "      <th>38</th>\n",
       "      <td>1966-03-28</td>\n",
       "      <td>500</td>\n",
       "      <td>2100</td>\n",
       "      <td>17</td>\n",
       "      <td>200280</td>\n",
       "      <td>EILEEN</td>\n",
       "      <td>1997-03-24</td>\n",
       "      <td>OPERATOR</td>\n",
       "      <td>SCHWARTZ</td>\n",
       "      <td>R</td>\n",
       "      <td>8997</td>\n",
       "      <td>46250</td>\n",
       "      <td>F</td>\n",
       "      <td>E11</td>\n",
       "    </tr>\n",
       "    <tr>\n",
       "      <th>39</th>\n",
       "      <td>1961-04-21</td>\n",
       "      <td>300</td>\n",
       "      <td>1272</td>\n",
       "      <td>12</td>\n",
       "      <td>200310</td>\n",
       "      <td>MICHELLE</td>\n",
       "      <td>1994-09-12</td>\n",
       "      <td>OPERATOR</td>\n",
       "      <td>SPRINGER</td>\n",
       "      <td>F</td>\n",
       "      <td>3332</td>\n",
       "      <td>35900</td>\n",
       "      <td>F</td>\n",
       "      <td>E11</td>\n",
       "    </tr>\n",
       "    <tr>\n",
       "      <th>40</th>\n",
       "      <td>1971-07-18</td>\n",
       "      <td>500</td>\n",
       "      <td>2030</td>\n",
       "      <td>14</td>\n",
       "      <td>200330</td>\n",
       "      <td>HELENA</td>\n",
       "      <td>2006-02-23</td>\n",
       "      <td>FIELDREP</td>\n",
       "      <td>WONG</td>\n",
       "      <td></td>\n",
       "      <td>2103</td>\n",
       "      <td>35370</td>\n",
       "      <td>F</td>\n",
       "      <td>E21</td>\n",
       "    </tr>\n",
       "    <tr>\n",
       "      <th>41</th>\n",
       "      <td>1956-05-17</td>\n",
       "      <td>500</td>\n",
       "      <td>1907</td>\n",
       "      <td>16</td>\n",
       "      <td>200340</td>\n",
       "      <td>ROY</td>\n",
       "      <td>1997-07-05</td>\n",
       "      <td>FIELDREP</td>\n",
       "      <td>ALONZO</td>\n",
       "      <td>R</td>\n",
       "      <td>5698</td>\n",
       "      <td>31840</td>\n",
       "      <td>M</td>\n",
       "      <td>E21</td>\n",
       "    </tr>\n",
       "    <tr>\n",
       "      <th>42</th>\n",
       "      <td>1956-05-16</td>\n",
       "      <td>500</td>\n",
       "      <td>1907</td>\n",
       "      <td>16</td>\n",
       "      <td>999999</td>\n",
       "      <td>ROY</td>\n",
       "      <td>1997-07-04</td>\n",
       "      <td>FIELDREP</td>\n",
       "      <td>ALONZO</td>\n",
       "      <td>R</td>\n",
       "      <td>5698</td>\n",
       "      <td>31840</td>\n",
       "      <td>M</td>\n",
       "      <td>E21</td>\n",
       "    </tr>\n",
       "  </tbody>\n",
       "</table>\n",
       "<p>43 rows × 14 columns</p>\n",
       "</div>"
      ],
      "text/plain": [
       "     BIRTHDATE  BONUS  COMM  EDLEVEL   EMPNO   FIRSTNME    HIREDATE       JOB  \\\n",
       "0   1963-08-24   1000  4220       18      10  CHRISTINE  1995-01-01  PRES       \n",
       "1   1978-02-02    800  3300       18      20    MICHAEL  2003-10-10  MANAGER    \n",
       "2   1971-05-11    800  3060       20      30      SALLY  2005-04-05  MANAGER    \n",
       "3   1955-09-15    800  3214       16      50       JOHN  1979-08-17  MANAGER    \n",
       "4   1975-07-07    500  2580       16      60     IRVING  2003-09-14  MANAGER    \n",
       "..         ...    ...   ...      ...     ...        ...         ...       ...   \n",
       "38  1966-03-28    500  2100       17  200280     EILEEN  1997-03-24  OPERATOR   \n",
       "39  1961-04-21    300  1272       12  200310   MICHELLE  1994-09-12  OPERATOR   \n",
       "40  1971-07-18    500  2030       14  200330     HELENA  2006-02-23  FIELDREP   \n",
       "41  1956-05-17    500  1907       16  200340        ROY  1997-07-05  FIELDREP   \n",
       "42  1956-05-16    500  1907       16  999999        ROY  1997-07-04  FIELDREP   \n",
       "\n",
       "    LASTNAME MIDINIT  PHONENO  SALARY SEX WORKDEPT  \n",
       "0       HAAS       I     3978  152750   F      A00  \n",
       "1   THOMPSON       L     3476   94250   M      B01  \n",
       "2       KWAN       A     4738   98250   F      C01  \n",
       "3      GEYER       B     6789   80175   M      E01  \n",
       "4      STERN       F     6423   72250   M      D11  \n",
       "..       ...     ...      ...     ...  ..      ...  \n",
       "38  SCHWARTZ       R     8997   46250   F      E11  \n",
       "39  SPRINGER       F     3332   35900   F      E11  \n",
       "40      WONG             2103   35370   F      E21  \n",
       "41    ALONZO       R     5698   31840   M      E21  \n",
       "42    ALONZO       R     5698   31840   M      E21  \n",
       "\n",
       "[43 rows x 14 columns]"
      ]
     },
     "metadata": {},
     "output_type": "display_data"
    }
   ],
   "source": [
    "s = %odata -e SELECT * FROM EMPLOYEE"
   ]
  },
  {
   "cell_type": "markdown",
   "metadata": {},
   "source": [
    "You will notice that not all of the rows have been displayed. The output has been limited to 10 lines. 5 lines from the start of the answer set and 5 lines from the bottom of the answer set are displayed. If you want to change the maximum number of rows to be displayed, use the MAXROWS setting."
   ]
  },
  {
   "cell_type": "code",
   "execution_count": 20,
   "metadata": {
    "collapsed": true
   },
   "outputs": [],
   "source": [
    "%odata set maxrows 10"
   ]
  },
  {
   "cell_type": "markdown",
   "metadata": {},
   "source": [
    "If you want an unlimited number of rows returned, set maxrows to -1."
   ]
  },
  {
   "cell_type": "code",
   "execution_count": 21,
   "metadata": {},
   "outputs": [
    {
     "data": {
      "text/html": [
       "<div>\n",
       "<table border=\"1\" class=\"dataframe\">\n",
       "  <thead>\n",
       "    <tr style=\"text-align: right;\">\n",
       "      <th></th>\n",
       "      <th>BIRTHDATE</th>\n",
       "      <th>BONUS</th>\n",
       "      <th>COMM</th>\n",
       "      <th>EDLEVEL</th>\n",
       "      <th>EMPNO</th>\n",
       "      <th>FIRSTNME</th>\n",
       "      <th>HIREDATE</th>\n",
       "      <th>JOB</th>\n",
       "      <th>LASTNAME</th>\n",
       "      <th>MIDINIT</th>\n",
       "      <th>PHONENO</th>\n",
       "      <th>SALARY</th>\n",
       "      <th>SEX</th>\n",
       "      <th>WORKDEPT</th>\n",
       "    </tr>\n",
       "  </thead>\n",
       "  <tbody>\n",
       "    <tr>\n",
       "      <th>0</th>\n",
       "      <td>1963-08-24</td>\n",
       "      <td>1000</td>\n",
       "      <td>4220</td>\n",
       "      <td>18</td>\n",
       "      <td>10</td>\n",
       "      <td>CHRISTINE</td>\n",
       "      <td>1995-01-01</td>\n",
       "      <td>PRES</td>\n",
       "      <td>HAAS</td>\n",
       "      <td>I</td>\n",
       "      <td>3978</td>\n",
       "      <td>152750</td>\n",
       "      <td>F</td>\n",
       "      <td>A00</td>\n",
       "    </tr>\n",
       "    <tr>\n",
       "      <th>1</th>\n",
       "      <td>1978-02-02</td>\n",
       "      <td>800</td>\n",
       "      <td>3300</td>\n",
       "      <td>18</td>\n",
       "      <td>20</td>\n",
       "      <td>MICHAEL</td>\n",
       "      <td>2003-10-10</td>\n",
       "      <td>MANAGER</td>\n",
       "      <td>THOMPSON</td>\n",
       "      <td>L</td>\n",
       "      <td>3476</td>\n",
       "      <td>94250</td>\n",
       "      <td>M</td>\n",
       "      <td>B01</td>\n",
       "    </tr>\n",
       "    <tr>\n",
       "      <th>2</th>\n",
       "      <td>1971-05-11</td>\n",
       "      <td>800</td>\n",
       "      <td>3060</td>\n",
       "      <td>20</td>\n",
       "      <td>30</td>\n",
       "      <td>SALLY</td>\n",
       "      <td>2005-04-05</td>\n",
       "      <td>MANAGER</td>\n",
       "      <td>KWAN</td>\n",
       "      <td>A</td>\n",
       "      <td>4738</td>\n",
       "      <td>98250</td>\n",
       "      <td>F</td>\n",
       "      <td>C01</td>\n",
       "    </tr>\n",
       "    <tr>\n",
       "      <th>3</th>\n",
       "      <td>1955-09-15</td>\n",
       "      <td>800</td>\n",
       "      <td>3214</td>\n",
       "      <td>16</td>\n",
       "      <td>50</td>\n",
       "      <td>JOHN</td>\n",
       "      <td>1979-08-17</td>\n",
       "      <td>MANAGER</td>\n",
       "      <td>GEYER</td>\n",
       "      <td>B</td>\n",
       "      <td>6789</td>\n",
       "      <td>80175</td>\n",
       "      <td>M</td>\n",
       "      <td>E01</td>\n",
       "    </tr>\n",
       "    <tr>\n",
       "      <th>4</th>\n",
       "      <td>1975-07-07</td>\n",
       "      <td>500</td>\n",
       "      <td>2580</td>\n",
       "      <td>16</td>\n",
       "      <td>60</td>\n",
       "      <td>IRVING</td>\n",
       "      <td>2003-09-14</td>\n",
       "      <td>MANAGER</td>\n",
       "      <td>STERN</td>\n",
       "      <td>F</td>\n",
       "      <td>6423</td>\n",
       "      <td>72250</td>\n",
       "      <td>M</td>\n",
       "      <td>D11</td>\n",
       "    </tr>\n",
       "    <tr>\n",
       "      <th>5</th>\n",
       "      <td>2003-05-26</td>\n",
       "      <td>700</td>\n",
       "      <td>2893</td>\n",
       "      <td>16</td>\n",
       "      <td>70</td>\n",
       "      <td>EVA</td>\n",
       "      <td>2005-09-30</td>\n",
       "      <td>MANAGER</td>\n",
       "      <td>PULASKI</td>\n",
       "      <td>D</td>\n",
       "      <td>7831</td>\n",
       "      <td>96170</td>\n",
       "      <td>F</td>\n",
       "      <td>D21</td>\n",
       "    </tr>\n",
       "    <tr>\n",
       "      <th>6</th>\n",
       "      <td>1971-05-15</td>\n",
       "      <td>600</td>\n",
       "      <td>2380</td>\n",
       "      <td>16</td>\n",
       "      <td>90</td>\n",
       "      <td>EILEEN</td>\n",
       "      <td>2000-08-15</td>\n",
       "      <td>MANAGER</td>\n",
       "      <td>HENDERSON</td>\n",
       "      <td>W</td>\n",
       "      <td>5498</td>\n",
       "      <td>89750</td>\n",
       "      <td>F</td>\n",
       "      <td>E11</td>\n",
       "    </tr>\n",
       "    <tr>\n",
       "      <th>7</th>\n",
       "      <td>1980-12-18</td>\n",
       "      <td>500</td>\n",
       "      <td>2092</td>\n",
       "      <td>14</td>\n",
       "      <td>100</td>\n",
       "      <td>THEODORE</td>\n",
       "      <td>2000-06-19</td>\n",
       "      <td>MANAGER</td>\n",
       "      <td>SPENSER</td>\n",
       "      <td>Q</td>\n",
       "      <td>972</td>\n",
       "      <td>86150</td>\n",
       "      <td>M</td>\n",
       "      <td>E21</td>\n",
       "    </tr>\n",
       "    <tr>\n",
       "      <th>8</th>\n",
       "      <td>1959-11-05</td>\n",
       "      <td>900</td>\n",
       "      <td>3720</td>\n",
       "      <td>19</td>\n",
       "      <td>110</td>\n",
       "      <td>VINCENZO</td>\n",
       "      <td>1988-05-16</td>\n",
       "      <td>SALESREP</td>\n",
       "      <td>LUCCHESSI</td>\n",
       "      <td>G</td>\n",
       "      <td>3490</td>\n",
       "      <td>66500</td>\n",
       "      <td>M</td>\n",
       "      <td>A00</td>\n",
       "    </tr>\n",
       "    <tr>\n",
       "      <th>9</th>\n",
       "      <td>1972-10-18</td>\n",
       "      <td>600</td>\n",
       "      <td>2340</td>\n",
       "      <td>14</td>\n",
       "      <td>120</td>\n",
       "      <td>SEAN</td>\n",
       "      <td>1993-12-05</td>\n",
       "      <td>CLERK</td>\n",
       "      <td>O`CONNELL</td>\n",
       "      <td></td>\n",
       "      <td>2167</td>\n",
       "      <td>49250</td>\n",
       "      <td>M</td>\n",
       "      <td>A00</td>\n",
       "    </tr>\n",
       "    <tr>\n",
       "      <th>10</th>\n",
       "      <td>1955-09-15</td>\n",
       "      <td>500</td>\n",
       "      <td>1904</td>\n",
       "      <td>16</td>\n",
       "      <td>130</td>\n",
       "      <td>DELORES</td>\n",
       "      <td>2001-07-28</td>\n",
       "      <td>ANALYST</td>\n",
       "      <td>QUINTANA</td>\n",
       "      <td>M</td>\n",
       "      <td>4578</td>\n",
       "      <td>73800</td>\n",
       "      <td>F</td>\n",
       "      <td>C01</td>\n",
       "    </tr>\n",
       "    <tr>\n",
       "      <th>11</th>\n",
       "      <td>1976-01-19</td>\n",
       "      <td>600</td>\n",
       "      <td>2274</td>\n",
       "      <td>18</td>\n",
       "      <td>140</td>\n",
       "      <td>HEATHER</td>\n",
       "      <td>2006-12-15</td>\n",
       "      <td>ANALYST</td>\n",
       "      <td>NICHOLLS</td>\n",
       "      <td>A</td>\n",
       "      <td>1793</td>\n",
       "      <td>68420</td>\n",
       "      <td>F</td>\n",
       "      <td>C01</td>\n",
       "    </tr>\n",
       "    <tr>\n",
       "      <th>12</th>\n",
       "      <td>1977-05-17</td>\n",
       "      <td>500</td>\n",
       "      <td>2022</td>\n",
       "      <td>16</td>\n",
       "      <td>150</td>\n",
       "      <td>BRUCE</td>\n",
       "      <td>2002-02-12</td>\n",
       "      <td>DESIGNER</td>\n",
       "      <td>ADAMSON</td>\n",
       "      <td></td>\n",
       "      <td>4510</td>\n",
       "      <td>55280</td>\n",
       "      <td>M</td>\n",
       "      <td>D11</td>\n",
       "    </tr>\n",
       "    <tr>\n",
       "      <th>13</th>\n",
       "      <td>1980-04-12</td>\n",
       "      <td>400</td>\n",
       "      <td>1780</td>\n",
       "      <td>17</td>\n",
       "      <td>160</td>\n",
       "      <td>ELIZABETH</td>\n",
       "      <td>2006-10-11</td>\n",
       "      <td>DESIGNER</td>\n",
       "      <td>PIANKA</td>\n",
       "      <td>R</td>\n",
       "      <td>3782</td>\n",
       "      <td>62250</td>\n",
       "      <td>F</td>\n",
       "      <td>D11</td>\n",
       "    </tr>\n",
       "    <tr>\n",
       "      <th>14</th>\n",
       "      <td>1981-01-05</td>\n",
       "      <td>500</td>\n",
       "      <td>1974</td>\n",
       "      <td>16</td>\n",
       "      <td>170</td>\n",
       "      <td>MASATOSHI</td>\n",
       "      <td>1999-09-15</td>\n",
       "      <td>DESIGNER</td>\n",
       "      <td>YOSHIMURA</td>\n",
       "      <td>J</td>\n",
       "      <td>2890</td>\n",
       "      <td>44680</td>\n",
       "      <td>M</td>\n",
       "      <td>D11</td>\n",
       "    </tr>\n",
       "    <tr>\n",
       "      <th>15</th>\n",
       "      <td>1979-02-21</td>\n",
       "      <td>500</td>\n",
       "      <td>1707</td>\n",
       "      <td>17</td>\n",
       "      <td>180</td>\n",
       "      <td>MARILYN</td>\n",
       "      <td>2003-07-07</td>\n",
       "      <td>DESIGNER</td>\n",
       "      <td>SCOUTTEN</td>\n",
       "      <td>S</td>\n",
       "      <td>1682</td>\n",
       "      <td>51340</td>\n",
       "      <td>F</td>\n",
       "      <td>D11</td>\n",
       "    </tr>\n",
       "    <tr>\n",
       "      <th>16</th>\n",
       "      <td>1982-06-25</td>\n",
       "      <td>400</td>\n",
       "      <td>1636</td>\n",
       "      <td>16</td>\n",
       "      <td>190</td>\n",
       "      <td>JAMES</td>\n",
       "      <td>2004-07-26</td>\n",
       "      <td>DESIGNER</td>\n",
       "      <td>WALKER</td>\n",
       "      <td>H</td>\n",
       "      <td>2986</td>\n",
       "      <td>50450</td>\n",
       "      <td>M</td>\n",
       "      <td>D11</td>\n",
       "    </tr>\n",
       "    <tr>\n",
       "      <th>17</th>\n",
       "      <td>1971-05-29</td>\n",
       "      <td>600</td>\n",
       "      <td>2217</td>\n",
       "      <td>16</td>\n",
       "      <td>200</td>\n",
       "      <td>DAVID</td>\n",
       "      <td>2002-03-03</td>\n",
       "      <td>DESIGNER</td>\n",
       "      <td>BROWN</td>\n",
       "      <td></td>\n",
       "      <td>4501</td>\n",
       "      <td>57740</td>\n",
       "      <td>M</td>\n",
       "      <td>D11</td>\n",
       "    </tr>\n",
       "    <tr>\n",
       "      <th>18</th>\n",
       "      <td>2003-02-23</td>\n",
       "      <td>400</td>\n",
       "      <td>1462</td>\n",
       "      <td>17</td>\n",
       "      <td>210</td>\n",
       "      <td>WILLIAM</td>\n",
       "      <td>1998-04-11</td>\n",
       "      <td>DESIGNER</td>\n",
       "      <td>JONES</td>\n",
       "      <td>T</td>\n",
       "      <td>942</td>\n",
       "      <td>68270</td>\n",
       "      <td>M</td>\n",
       "      <td>D11</td>\n",
       "    </tr>\n",
       "    <tr>\n",
       "      <th>19</th>\n",
       "      <td>1978-03-19</td>\n",
       "      <td>600</td>\n",
       "      <td>2387</td>\n",
       "      <td>18</td>\n",
       "      <td>220</td>\n",
       "      <td>JENNIFER</td>\n",
       "      <td>1998-08-29</td>\n",
       "      <td>DESIGNER</td>\n",
       "      <td>LUTZ</td>\n",
       "      <td>K</td>\n",
       "      <td>672</td>\n",
       "      <td>49840</td>\n",
       "      <td>F</td>\n",
       "      <td>D11</td>\n",
       "    </tr>\n",
       "    <tr>\n",
       "      <th>20</th>\n",
       "      <td>1980-05-30</td>\n",
       "      <td>400</td>\n",
       "      <td>1774</td>\n",
       "      <td>14</td>\n",
       "      <td>230</td>\n",
       "      <td>JAMES</td>\n",
       "      <td>1996-11-21</td>\n",
       "      <td>CLERK</td>\n",
       "      <td>JEFFERSON</td>\n",
       "      <td>J</td>\n",
       "      <td>2094</td>\n",
       "      <td>42180</td>\n",
       "      <td>M</td>\n",
       "      <td>D21</td>\n",
       "    </tr>\n",
       "    <tr>\n",
       "      <th>21</th>\n",
       "      <td>2002-03-31</td>\n",
       "      <td>600</td>\n",
       "      <td>2301</td>\n",
       "      <td>17</td>\n",
       "      <td>240</td>\n",
       "      <td>SALVATORE</td>\n",
       "      <td>2004-12-05</td>\n",
       "      <td>CLERK</td>\n",
       "      <td>MARINO</td>\n",
       "      <td>M</td>\n",
       "      <td>3780</td>\n",
       "      <td>48760</td>\n",
       "      <td>M</td>\n",
       "      <td>D21</td>\n",
       "    </tr>\n",
       "    <tr>\n",
       "      <th>22</th>\n",
       "      <td>1969-11-12</td>\n",
       "      <td>400</td>\n",
       "      <td>1534</td>\n",
       "      <td>15</td>\n",
       "      <td>250</td>\n",
       "      <td>DANIEL</td>\n",
       "      <td>1999-10-30</td>\n",
       "      <td>CLERK</td>\n",
       "      <td>SMITH</td>\n",
       "      <td>S</td>\n",
       "      <td>961</td>\n",
       "      <td>49180</td>\n",
       "      <td>M</td>\n",
       "      <td>D21</td>\n",
       "    </tr>\n",
       "    <tr>\n",
       "      <th>23</th>\n",
       "      <td>1976-10-05</td>\n",
       "      <td>300</td>\n",
       "      <td>1380</td>\n",
       "      <td>16</td>\n",
       "      <td>260</td>\n",
       "      <td>SYBIL</td>\n",
       "      <td>2005-09-11</td>\n",
       "      <td>CLERK</td>\n",
       "      <td>JOHNSON</td>\n",
       "      <td>P</td>\n",
       "      <td>8953</td>\n",
       "      <td>47250</td>\n",
       "      <td>F</td>\n",
       "      <td>D21</td>\n",
       "    </tr>\n",
       "    <tr>\n",
       "      <th>24</th>\n",
       "      <td>2003-05-26</td>\n",
       "      <td>500</td>\n",
       "      <td>2190</td>\n",
       "      <td>15</td>\n",
       "      <td>270</td>\n",
       "      <td>MARIA</td>\n",
       "      <td>2006-09-30</td>\n",
       "      <td>CLERK</td>\n",
       "      <td>PEREZ</td>\n",
       "      <td>L</td>\n",
       "      <td>9001</td>\n",
       "      <td>37380</td>\n",
       "      <td>F</td>\n",
       "      <td>D21</td>\n",
       "    </tr>\n",
       "    <tr>\n",
       "      <th>25</th>\n",
       "      <td>1976-03-28</td>\n",
       "      <td>500</td>\n",
       "      <td>2100</td>\n",
       "      <td>17</td>\n",
       "      <td>280</td>\n",
       "      <td>ETHEL</td>\n",
       "      <td>1997-03-24</td>\n",
       "      <td>OPERATOR</td>\n",
       "      <td>SCHNEIDER</td>\n",
       "      <td>R</td>\n",
       "      <td>8997</td>\n",
       "      <td>36250</td>\n",
       "      <td>F</td>\n",
       "      <td>E11</td>\n",
       "    </tr>\n",
       "    <tr>\n",
       "      <th>26</th>\n",
       "      <td>1985-07-09</td>\n",
       "      <td>300</td>\n",
       "      <td>1227</td>\n",
       "      <td>12</td>\n",
       "      <td>290</td>\n",
       "      <td>JOHN</td>\n",
       "      <td>2006-05-30</td>\n",
       "      <td>OPERATOR</td>\n",
       "      <td>PARKER</td>\n",
       "      <td>R</td>\n",
       "      <td>4502</td>\n",
       "      <td>35340</td>\n",
       "      <td>M</td>\n",
       "      <td>E11</td>\n",
       "    </tr>\n",
       "    <tr>\n",
       "      <th>27</th>\n",
       "      <td>1976-10-27</td>\n",
       "      <td>400</td>\n",
       "      <td>1420</td>\n",
       "      <td>14</td>\n",
       "      <td>300</td>\n",
       "      <td>PHILIP</td>\n",
       "      <td>2002-06-19</td>\n",
       "      <td>OPERATOR</td>\n",
       "      <td>SMITH</td>\n",
       "      <td>X</td>\n",
       "      <td>2095</td>\n",
       "      <td>37750</td>\n",
       "      <td>M</td>\n",
       "      <td>E11</td>\n",
       "    </tr>\n",
       "    <tr>\n",
       "      <th>28</th>\n",
       "      <td>1961-04-21</td>\n",
       "      <td>300</td>\n",
       "      <td>1272</td>\n",
       "      <td>12</td>\n",
       "      <td>310</td>\n",
       "      <td>MAUDE</td>\n",
       "      <td>1994-09-12</td>\n",
       "      <td>OPERATOR</td>\n",
       "      <td>SETRIGHT</td>\n",
       "      <td>F</td>\n",
       "      <td>3332</td>\n",
       "      <td>35900</td>\n",
       "      <td>F</td>\n",
       "      <td>E11</td>\n",
       "    </tr>\n",
       "    <tr>\n",
       "      <th>29</th>\n",
       "      <td>1962-08-11</td>\n",
       "      <td>400</td>\n",
       "      <td>1596</td>\n",
       "      <td>16</td>\n",
       "      <td>320</td>\n",
       "      <td>RAMLAL</td>\n",
       "      <td>1995-07-07</td>\n",
       "      <td>FIELDREP</td>\n",
       "      <td>MEHTA</td>\n",
       "      <td>V</td>\n",
       "      <td>9990</td>\n",
       "      <td>39950</td>\n",
       "      <td>M</td>\n",
       "      <td>E21</td>\n",
       "    </tr>\n",
       "    <tr>\n",
       "      <th>30</th>\n",
       "      <td>1971-07-18</td>\n",
       "      <td>500</td>\n",
       "      <td>2030</td>\n",
       "      <td>14</td>\n",
       "      <td>330</td>\n",
       "      <td>WING</td>\n",
       "      <td>2006-02-23</td>\n",
       "      <td>FIELDREP</td>\n",
       "      <td>LEE</td>\n",
       "      <td></td>\n",
       "      <td>2103</td>\n",
       "      <td>45370</td>\n",
       "      <td>M</td>\n",
       "      <td>E21</td>\n",
       "    </tr>\n",
       "    <tr>\n",
       "      <th>31</th>\n",
       "      <td>1956-05-17</td>\n",
       "      <td>500</td>\n",
       "      <td>1907</td>\n",
       "      <td>16</td>\n",
       "      <td>340</td>\n",
       "      <td>JASON</td>\n",
       "      <td>1977-05-05</td>\n",
       "      <td>FIELDREP</td>\n",
       "      <td>GOUNOT</td>\n",
       "      <td>R</td>\n",
       "      <td>5698</td>\n",
       "      <td>43840</td>\n",
       "      <td>M</td>\n",
       "      <td>E21</td>\n",
       "    </tr>\n",
       "    <tr>\n",
       "      <th>32</th>\n",
       "      <td>1973-08-14</td>\n",
       "      <td>1000</td>\n",
       "      <td>4220</td>\n",
       "      <td>18</td>\n",
       "      <td>200010</td>\n",
       "      <td>DIAN</td>\n",
       "      <td>1995-01-01</td>\n",
       "      <td>SALESREP</td>\n",
       "      <td>HEMMINGER</td>\n",
       "      <td>J</td>\n",
       "      <td>3978</td>\n",
       "      <td>46500</td>\n",
       "      <td>F</td>\n",
       "      <td>A00</td>\n",
       "    </tr>\n",
       "    <tr>\n",
       "      <th>33</th>\n",
       "      <td>1972-10-18</td>\n",
       "      <td>600</td>\n",
       "      <td>2340</td>\n",
       "      <td>14</td>\n",
       "      <td>200120</td>\n",
       "      <td>GREG</td>\n",
       "      <td>2002-05-05</td>\n",
       "      <td>CLERK</td>\n",
       "      <td>ORLANDO</td>\n",
       "      <td></td>\n",
       "      <td>2167</td>\n",
       "      <td>39250</td>\n",
       "      <td>M</td>\n",
       "      <td>A00</td>\n",
       "    </tr>\n",
       "    <tr>\n",
       "      <th>34</th>\n",
       "      <td>1976-01-19</td>\n",
       "      <td>600</td>\n",
       "      <td>2274</td>\n",
       "      <td>18</td>\n",
       "      <td>200140</td>\n",
       "      <td>KIM</td>\n",
       "      <td>2006-12-15</td>\n",
       "      <td>ANALYST</td>\n",
       "      <td>NATZ</td>\n",
       "      <td>N</td>\n",
       "      <td>1793</td>\n",
       "      <td>68420</td>\n",
       "      <td>F</td>\n",
       "      <td>C01</td>\n",
       "    </tr>\n",
       "    <tr>\n",
       "      <th>35</th>\n",
       "      <td>1981-01-05</td>\n",
       "      <td>500</td>\n",
       "      <td>1974</td>\n",
       "      <td>16</td>\n",
       "      <td>200170</td>\n",
       "      <td>KIYOSHI</td>\n",
       "      <td>2005-09-15</td>\n",
       "      <td>DESIGNER</td>\n",
       "      <td>YAMAMOTO</td>\n",
       "      <td></td>\n",
       "      <td>2890</td>\n",
       "      <td>64680</td>\n",
       "      <td>M</td>\n",
       "      <td>D11</td>\n",
       "    </tr>\n",
       "    <tr>\n",
       "      <th>36</th>\n",
       "      <td>1978-03-19</td>\n",
       "      <td>600</td>\n",
       "      <td>2387</td>\n",
       "      <td>18</td>\n",
       "      <td>200220</td>\n",
       "      <td>REBA</td>\n",
       "      <td>2005-08-29</td>\n",
       "      <td>DESIGNER</td>\n",
       "      <td>JOHN</td>\n",
       "      <td>K</td>\n",
       "      <td>672</td>\n",
       "      <td>69840</td>\n",
       "      <td>F</td>\n",
       "      <td>D11</td>\n",
       "    </tr>\n",
       "    <tr>\n",
       "      <th>37</th>\n",
       "      <td>1984-03-31</td>\n",
       "      <td>600</td>\n",
       "      <td>2301</td>\n",
       "      <td>17</td>\n",
       "      <td>200240</td>\n",
       "      <td>ROBERT</td>\n",
       "      <td>2004-12-05</td>\n",
       "      <td>CLERK</td>\n",
       "      <td>MONTEVERDE</td>\n",
       "      <td>M</td>\n",
       "      <td>3780</td>\n",
       "      <td>37760</td>\n",
       "      <td>M</td>\n",
       "      <td>D21</td>\n",
       "    </tr>\n",
       "    <tr>\n",
       "      <th>38</th>\n",
       "      <td>1966-03-28</td>\n",
       "      <td>500</td>\n",
       "      <td>2100</td>\n",
       "      <td>17</td>\n",
       "      <td>200280</td>\n",
       "      <td>EILEEN</td>\n",
       "      <td>1997-03-24</td>\n",
       "      <td>OPERATOR</td>\n",
       "      <td>SCHWARTZ</td>\n",
       "      <td>R</td>\n",
       "      <td>8997</td>\n",
       "      <td>46250</td>\n",
       "      <td>F</td>\n",
       "      <td>E11</td>\n",
       "    </tr>\n",
       "    <tr>\n",
       "      <th>39</th>\n",
       "      <td>1961-04-21</td>\n",
       "      <td>300</td>\n",
       "      <td>1272</td>\n",
       "      <td>12</td>\n",
       "      <td>200310</td>\n",
       "      <td>MICHELLE</td>\n",
       "      <td>1994-09-12</td>\n",
       "      <td>OPERATOR</td>\n",
       "      <td>SPRINGER</td>\n",
       "      <td>F</td>\n",
       "      <td>3332</td>\n",
       "      <td>35900</td>\n",
       "      <td>F</td>\n",
       "      <td>E11</td>\n",
       "    </tr>\n",
       "    <tr>\n",
       "      <th>40</th>\n",
       "      <td>1971-07-18</td>\n",
       "      <td>500</td>\n",
       "      <td>2030</td>\n",
       "      <td>14</td>\n",
       "      <td>200330</td>\n",
       "      <td>HELENA</td>\n",
       "      <td>2006-02-23</td>\n",
       "      <td>FIELDREP</td>\n",
       "      <td>WONG</td>\n",
       "      <td></td>\n",
       "      <td>2103</td>\n",
       "      <td>35370</td>\n",
       "      <td>F</td>\n",
       "      <td>E21</td>\n",
       "    </tr>\n",
       "    <tr>\n",
       "      <th>41</th>\n",
       "      <td>1956-05-17</td>\n",
       "      <td>500</td>\n",
       "      <td>1907</td>\n",
       "      <td>16</td>\n",
       "      <td>200340</td>\n",
       "      <td>ROY</td>\n",
       "      <td>1997-07-05</td>\n",
       "      <td>FIELDREP</td>\n",
       "      <td>ALONZO</td>\n",
       "      <td>R</td>\n",
       "      <td>5698</td>\n",
       "      <td>31840</td>\n",
       "      <td>M</td>\n",
       "      <td>E21</td>\n",
       "    </tr>\n",
       "    <tr>\n",
       "      <th>42</th>\n",
       "      <td>1956-05-16</td>\n",
       "      <td>500</td>\n",
       "      <td>1907</td>\n",
       "      <td>16</td>\n",
       "      <td>999999</td>\n",
       "      <td>ROY</td>\n",
       "      <td>1997-07-04</td>\n",
       "      <td>FIELDREP</td>\n",
       "      <td>ALONZO</td>\n",
       "      <td>R</td>\n",
       "      <td>5698</td>\n",
       "      <td>31840</td>\n",
       "      <td>M</td>\n",
       "      <td>E21</td>\n",
       "    </tr>\n",
       "  </tbody>\n",
       "</table>\n",
       "</div>"
      ],
      "text/plain": [
       "     BIRTHDATE  BONUS  COMM  EDLEVEL   EMPNO   FIRSTNME    HIREDATE       JOB  \\\n",
       "0   1963-08-24   1000  4220       18      10  CHRISTINE  1995-01-01  PRES       \n",
       "1   1978-02-02    800  3300       18      20    MICHAEL  2003-10-10  MANAGER    \n",
       "2   1971-05-11    800  3060       20      30      SALLY  2005-04-05  MANAGER    \n",
       "3   1955-09-15    800  3214       16      50       JOHN  1979-08-17  MANAGER    \n",
       "4   1975-07-07    500  2580       16      60     IRVING  2003-09-14  MANAGER    \n",
       "5   2003-05-26    700  2893       16      70        EVA  2005-09-30  MANAGER    \n",
       "6   1971-05-15    600  2380       16      90     EILEEN  2000-08-15  MANAGER    \n",
       "7   1980-12-18    500  2092       14     100   THEODORE  2000-06-19  MANAGER    \n",
       "8   1959-11-05    900  3720       19     110   VINCENZO  1988-05-16  SALESREP   \n",
       "9   1972-10-18    600  2340       14     120       SEAN  1993-12-05  CLERK      \n",
       "10  1955-09-15    500  1904       16     130    DELORES  2001-07-28  ANALYST    \n",
       "11  1976-01-19    600  2274       18     140    HEATHER  2006-12-15  ANALYST    \n",
       "12  1977-05-17    500  2022       16     150      BRUCE  2002-02-12  DESIGNER   \n",
       "13  1980-04-12    400  1780       17     160  ELIZABETH  2006-10-11  DESIGNER   \n",
       "14  1981-01-05    500  1974       16     170  MASATOSHI  1999-09-15  DESIGNER   \n",
       "15  1979-02-21    500  1707       17     180    MARILYN  2003-07-07  DESIGNER   \n",
       "16  1982-06-25    400  1636       16     190      JAMES  2004-07-26  DESIGNER   \n",
       "17  1971-05-29    600  2217       16     200      DAVID  2002-03-03  DESIGNER   \n",
       "18  2003-02-23    400  1462       17     210    WILLIAM  1998-04-11  DESIGNER   \n",
       "19  1978-03-19    600  2387       18     220   JENNIFER  1998-08-29  DESIGNER   \n",
       "20  1980-05-30    400  1774       14     230      JAMES  1996-11-21  CLERK      \n",
       "21  2002-03-31    600  2301       17     240  SALVATORE  2004-12-05  CLERK      \n",
       "22  1969-11-12    400  1534       15     250     DANIEL  1999-10-30  CLERK      \n",
       "23  1976-10-05    300  1380       16     260      SYBIL  2005-09-11  CLERK      \n",
       "24  2003-05-26    500  2190       15     270      MARIA  2006-09-30  CLERK      \n",
       "25  1976-03-28    500  2100       17     280      ETHEL  1997-03-24  OPERATOR   \n",
       "26  1985-07-09    300  1227       12     290       JOHN  2006-05-30  OPERATOR   \n",
       "27  1976-10-27    400  1420       14     300     PHILIP  2002-06-19  OPERATOR   \n",
       "28  1961-04-21    300  1272       12     310      MAUDE  1994-09-12  OPERATOR   \n",
       "29  1962-08-11    400  1596       16     320     RAMLAL  1995-07-07  FIELDREP   \n",
       "30  1971-07-18    500  2030       14     330       WING  2006-02-23  FIELDREP   \n",
       "31  1956-05-17    500  1907       16     340      JASON  1977-05-05  FIELDREP   \n",
       "32  1973-08-14   1000  4220       18  200010       DIAN  1995-01-01  SALESREP   \n",
       "33  1972-10-18    600  2340       14  200120       GREG  2002-05-05  CLERK      \n",
       "34  1976-01-19    600  2274       18  200140        KIM  2006-12-15  ANALYST    \n",
       "35  1981-01-05    500  1974       16  200170    KIYOSHI  2005-09-15  DESIGNER   \n",
       "36  1978-03-19    600  2387       18  200220       REBA  2005-08-29  DESIGNER   \n",
       "37  1984-03-31    600  2301       17  200240     ROBERT  2004-12-05  CLERK      \n",
       "38  1966-03-28    500  2100       17  200280     EILEEN  1997-03-24  OPERATOR   \n",
       "39  1961-04-21    300  1272       12  200310   MICHELLE  1994-09-12  OPERATOR   \n",
       "40  1971-07-18    500  2030       14  200330     HELENA  2006-02-23  FIELDREP   \n",
       "41  1956-05-17    500  1907       16  200340        ROY  1997-07-05  FIELDREP   \n",
       "42  1956-05-16    500  1907       16  999999        ROY  1997-07-04  FIELDREP   \n",
       "\n",
       "      LASTNAME MIDINIT  PHONENO  SALARY SEX WORKDEPT  \n",
       "0         HAAS       I     3978  152750   F      A00  \n",
       "1     THOMPSON       L     3476   94250   M      B01  \n",
       "2         KWAN       A     4738   98250   F      C01  \n",
       "3        GEYER       B     6789   80175   M      E01  \n",
       "4        STERN       F     6423   72250   M      D11  \n",
       "5      PULASKI       D     7831   96170   F      D21  \n",
       "6    HENDERSON       W     5498   89750   F      E11  \n",
       "7      SPENSER       Q      972   86150   M      E21  \n",
       "8    LUCCHESSI       G     3490   66500   M      A00  \n",
       "9    O`CONNELL             2167   49250   M      A00  \n",
       "10    QUINTANA       M     4578   73800   F      C01  \n",
       "11    NICHOLLS       A     1793   68420   F      C01  \n",
       "12     ADAMSON             4510   55280   M      D11  \n",
       "13      PIANKA       R     3782   62250   F      D11  \n",
       "14   YOSHIMURA       J     2890   44680   M      D11  \n",
       "15    SCOUTTEN       S     1682   51340   F      D11  \n",
       "16      WALKER       H     2986   50450   M      D11  \n",
       "17       BROWN             4501   57740   M      D11  \n",
       "18       JONES       T      942   68270   M      D11  \n",
       "19        LUTZ       K      672   49840   F      D11  \n",
       "20   JEFFERSON       J     2094   42180   M      D21  \n",
       "21      MARINO       M     3780   48760   M      D21  \n",
       "22       SMITH       S      961   49180   M      D21  \n",
       "23     JOHNSON       P     8953   47250   F      D21  \n",
       "24       PEREZ       L     9001   37380   F      D21  \n",
       "25   SCHNEIDER       R     8997   36250   F      E11  \n",
       "26      PARKER       R     4502   35340   M      E11  \n",
       "27       SMITH       X     2095   37750   M      E11  \n",
       "28    SETRIGHT       F     3332   35900   F      E11  \n",
       "29       MEHTA       V     9990   39950   M      E21  \n",
       "30         LEE             2103   45370   M      E21  \n",
       "31      GOUNOT       R     5698   43840   M      E21  \n",
       "32   HEMMINGER       J     3978   46500   F      A00  \n",
       "33     ORLANDO             2167   39250   M      A00  \n",
       "34        NATZ       N     1793   68420   F      C01  \n",
       "35    YAMAMOTO             2890   64680   M      D11  \n",
       "36        JOHN       K      672   69840   F      D11  \n",
       "37  MONTEVERDE       M     3780   37760   M      D21  \n",
       "38    SCHWARTZ       R     8997   46250   F      E11  \n",
       "39    SPRINGER       F     3332   35900   F      E11  \n",
       "40        WONG             2103   35370   F      E21  \n",
       "41      ALONZO       R     5698   31840   M      E21  \n",
       "42      ALONZO       R     5698   31840   M      E21  "
      ]
     },
     "metadata": {},
     "output_type": "display_data"
    }
   ],
   "source": [
    "%odata set maxrows -1\n",
    "%odata select * from employee"
   ]
  },
  {
   "cell_type": "markdown",
   "metadata": {},
   "source": [
    "It is better to limit the results from the answer set by using the LIMIT clause in the SELECT statement. LIMIT will force DB2 to stop retrieving rows after \"x\" number have been read, while the MAXROWS setting will retrieve all rows and then only display a portion of them. The one advantage of MAXROWS is that you see the bottom 5 rows while you would only be able to do that with DB2 if you could reverse sort the output. The current OData implementation does not have the ability to $orderby, so sorting to reverse the output is not possible."
   ]
  },
  {
   "cell_type": "code",
   "execution_count": 22,
   "metadata": {
    "collapsed": true
   },
   "outputs": [],
   "source": [
    "%odata set maxrows 10"
   ]
  },
  {
   "cell_type": "markdown",
   "metadata": {},
   "source": [
    "### Example: Select statement limiting output to 5 rows\n",
    "This SELECT statement will limit output to 5 rows. If MAXROWS was set to a smaller value, it would still read all rows before displaying them."
   ]
  },
  {
   "cell_type": "code",
   "execution_count": 23,
   "metadata": {},
   "outputs": [
    {
     "name": "stdout",
     "output_type": "stream",
     "text": [
      "SELECT Command\n",
      "URL  : http://localhost:9080/ODataOne/ODataService/SAMPLE-6a90088a5aef458d943c94780eca99d5\n",
      "OData: /EMPLOYEES?$top=5&$format=json\n"
     ]
    },
    {
     "data": {
      "text/html": [
       "<div>\n",
       "<table border=\"1\" class=\"dataframe\">\n",
       "  <thead>\n",
       "    <tr style=\"text-align: right;\">\n",
       "      <th></th>\n",
       "      <th>BIRTHDATE</th>\n",
       "      <th>BONUS</th>\n",
       "      <th>COMM</th>\n",
       "      <th>EDLEVEL</th>\n",
       "      <th>EMPNO</th>\n",
       "      <th>FIRSTNME</th>\n",
       "      <th>HIREDATE</th>\n",
       "      <th>JOB</th>\n",
       "      <th>LASTNAME</th>\n",
       "      <th>MIDINIT</th>\n",
       "      <th>PHONENO</th>\n",
       "      <th>SALARY</th>\n",
       "      <th>SEX</th>\n",
       "      <th>WORKDEPT</th>\n",
       "    </tr>\n",
       "  </thead>\n",
       "  <tbody>\n",
       "    <tr>\n",
       "      <th>0</th>\n",
       "      <td>1963-08-24</td>\n",
       "      <td>1000</td>\n",
       "      <td>4220</td>\n",
       "      <td>18</td>\n",
       "      <td>10</td>\n",
       "      <td>CHRISTINE</td>\n",
       "      <td>1995-01-01</td>\n",
       "      <td>PRES</td>\n",
       "      <td>HAAS</td>\n",
       "      <td>I</td>\n",
       "      <td>3978</td>\n",
       "      <td>152750</td>\n",
       "      <td>F</td>\n",
       "      <td>A00</td>\n",
       "    </tr>\n",
       "    <tr>\n",
       "      <th>1</th>\n",
       "      <td>1978-02-02</td>\n",
       "      <td>800</td>\n",
       "      <td>3300</td>\n",
       "      <td>18</td>\n",
       "      <td>20</td>\n",
       "      <td>MICHAEL</td>\n",
       "      <td>2003-10-10</td>\n",
       "      <td>MANAGER</td>\n",
       "      <td>THOMPSON</td>\n",
       "      <td>L</td>\n",
       "      <td>3476</td>\n",
       "      <td>94250</td>\n",
       "      <td>M</td>\n",
       "      <td>B01</td>\n",
       "    </tr>\n",
       "    <tr>\n",
       "      <th>2</th>\n",
       "      <td>1971-05-11</td>\n",
       "      <td>800</td>\n",
       "      <td>3060</td>\n",
       "      <td>20</td>\n",
       "      <td>30</td>\n",
       "      <td>SALLY</td>\n",
       "      <td>2005-04-05</td>\n",
       "      <td>MANAGER</td>\n",
       "      <td>KWAN</td>\n",
       "      <td>A</td>\n",
       "      <td>4738</td>\n",
       "      <td>98250</td>\n",
       "      <td>F</td>\n",
       "      <td>C01</td>\n",
       "    </tr>\n",
       "    <tr>\n",
       "      <th>3</th>\n",
       "      <td>1955-09-15</td>\n",
       "      <td>800</td>\n",
       "      <td>3214</td>\n",
       "      <td>16</td>\n",
       "      <td>50</td>\n",
       "      <td>JOHN</td>\n",
       "      <td>1979-08-17</td>\n",
       "      <td>MANAGER</td>\n",
       "      <td>GEYER</td>\n",
       "      <td>B</td>\n",
       "      <td>6789</td>\n",
       "      <td>80175</td>\n",
       "      <td>M</td>\n",
       "      <td>E01</td>\n",
       "    </tr>\n",
       "    <tr>\n",
       "      <th>4</th>\n",
       "      <td>1975-07-07</td>\n",
       "      <td>500</td>\n",
       "      <td>2580</td>\n",
       "      <td>16</td>\n",
       "      <td>60</td>\n",
       "      <td>IRVING</td>\n",
       "      <td>2003-09-14</td>\n",
       "      <td>MANAGER</td>\n",
       "      <td>STERN</td>\n",
       "      <td>F</td>\n",
       "      <td>6423</td>\n",
       "      <td>72250</td>\n",
       "      <td>M</td>\n",
       "      <td>D11</td>\n",
       "    </tr>\n",
       "  </tbody>\n",
       "</table>\n",
       "</div>"
      ],
      "text/plain": [
       "    BIRTHDATE  BONUS  COMM  EDLEVEL  EMPNO   FIRSTNME    HIREDATE       JOB  \\\n",
       "0  1963-08-24   1000  4220       18     10  CHRISTINE  1995-01-01  PRES       \n",
       "1  1978-02-02    800  3300       18     20    MICHAEL  2003-10-10  MANAGER    \n",
       "2  1971-05-11    800  3060       20     30      SALLY  2005-04-05  MANAGER    \n",
       "3  1955-09-15    800  3214       16     50       JOHN  1979-08-17  MANAGER    \n",
       "4  1975-07-07    500  2580       16     60     IRVING  2003-09-14  MANAGER    \n",
       "\n",
       "   LASTNAME MIDINIT  PHONENO  SALARY SEX WORKDEPT  \n",
       "0      HAAS       I     3978  152750   F      A00  \n",
       "1  THOMPSON       L     3476   94250   M      B01  \n",
       "2      KWAN       A     4738   98250   F      C01  \n",
       "3     GEYER       B     6789   80175   M      E01  \n",
       "4     STERN       F     6423   72250   M      D11  "
      ]
     },
     "metadata": {},
     "output_type": "display_data"
    }
   ],
   "source": [
    "s = %odata -e SELECT * FROM EMPLOYEE LIMIT 5"
   ]
  },
  {
   "cell_type": "markdown",
   "metadata": {},
   "source": [
    "## Selecting Columns to Display\n",
    "OData allows you to select which columns to display as part of the output. The $select query option requires a list of columns to be passed to it. For instance, the following SQL will only display the first name and last name of the top five employees."
   ]
  },
  {
   "cell_type": "markdown",
   "metadata": {},
   "source": [
    "### Example: Limiting the columns to display\n",
    "The column list must only include columns from the table and cannot include any calculations like SALARY+BONUS."
   ]
  },
  {
   "cell_type": "code",
   "execution_count": 24,
   "metadata": {},
   "outputs": [
    {
     "name": "stdout",
     "output_type": "stream",
     "text": [
      "SELECT Command\n",
      "URL  : http://localhost:9080/ODataOne/ODataService/SAMPLE-6a90088a5aef458d943c94780eca99d5\n",
      "OData: /EMPLOYEES?$select=FIRSTNME,LASTNAME&$top=5&$format=json\n"
     ]
    },
    {
     "data": {
      "text/html": [
       "<div>\n",
       "<table border=\"1\" class=\"dataframe\">\n",
       "  <thead>\n",
       "    <tr style=\"text-align: right;\">\n",
       "      <th></th>\n",
       "      <th>FIRSTNME</th>\n",
       "      <th>LASTNAME</th>\n",
       "    </tr>\n",
       "  </thead>\n",
       "  <tbody>\n",
       "    <tr>\n",
       "      <th>0</th>\n",
       "      <td>CHRISTINE</td>\n",
       "      <td>HAAS</td>\n",
       "    </tr>\n",
       "    <tr>\n",
       "      <th>1</th>\n",
       "      <td>MICHAEL</td>\n",
       "      <td>THOMPSON</td>\n",
       "    </tr>\n",
       "    <tr>\n",
       "      <th>2</th>\n",
       "      <td>SALLY</td>\n",
       "      <td>KWAN</td>\n",
       "    </tr>\n",
       "    <tr>\n",
       "      <th>3</th>\n",
       "      <td>JOHN</td>\n",
       "      <td>GEYER</td>\n",
       "    </tr>\n",
       "    <tr>\n",
       "      <th>4</th>\n",
       "      <td>IRVING</td>\n",
       "      <td>STERN</td>\n",
       "    </tr>\n",
       "  </tbody>\n",
       "</table>\n",
       "</div>"
      ],
      "text/plain": [
       "    FIRSTNME  LASTNAME\n",
       "0  CHRISTINE      HAAS\n",
       "1    MICHAEL  THOMPSON\n",
       "2      SALLY      KWAN\n",
       "3       JOHN     GEYER\n",
       "4     IRVING     STERN"
      ]
     },
     "metadata": {},
     "output_type": "display_data"
    }
   ],
   "source": [
    "s = %odata -e SELECT FIRSTNME, LASTNAME FROM EMPLOYEE LIMIT 5"
   ]
  },
  {
   "cell_type": "markdown",
   "metadata": {},
   "source": [
    "The COUNT(\\*) function is available as part of a SELECT list and it cannot include any other column names. If you do include other column names they will be ignored. "
   ]
  },
  {
   "cell_type": "code",
   "execution_count": 25,
   "metadata": {},
   "outputs": [
    {
     "name": "stdout",
     "output_type": "stream",
     "text": [
      "SELECT Command\n",
      "URL  : http://localhost:9080/ODataOne/ODataService/SAMPLE-6a90088a5aef458d943c94780eca99d5\n",
      "OData: /EMPLOYEES?$count=true&$format=json\n",
      "43 rows found.\n"
     ]
    }
   ],
   "source": [
    "s = %odata -e SELECT COUNT(*) FROM EMPLOYEE"
   ]
  },
  {
   "cell_type": "markdown",
   "metadata": {},
   "source": [
    "One of the unusual behaviors of the COUNT(\\*) function is that will actually return the entire answer set under the covers. The %odata command strips the count out from the results and doesn't display the rows returned. That is probably not would you expect from this syntax! The COUNT function is better described as the count of physical rows returned. Here is the same example with 5 rows returned and the JSON records."
   ]
  },
  {
   "cell_type": "code",
   "execution_count": 26,
   "metadata": {},
   "outputs": [
    {
     "name": "stdout",
     "output_type": "stream",
     "text": [
      "SELECT Command\n",
      "URL  : http://localhost:9080/ODataOne/ODataService/SAMPLE-6a90088a5aef458d943c94780eca99d5\n",
      "OData: /EMPLOYEES?$top=5&$count=true&$format=json\n",
      "{\n",
      "    \"@odata.context\": \"$metadata#EMPLOYEES\",\n",
      "    \"@odata.count\": 5,\n",
      "    \"value\": [\n",
      "        {\n",
      "            \"BIRTHDATE\": \"1963-08-24\",\n",
      "            \"BONUS\": 1000.0,\n",
      "            \"COMM\": 4220.0,\n",
      "            \"EDLEVEL\": 18,\n",
      "            \"EMPNO\": \"000010\",\n",
      "            \"FIRSTNME\": \"CHRISTINE\",\n",
      "            \"HIREDATE\": \"1995-01-01\",\n",
      "            \"JOB\": \"PRES    \",\n",
      "            \"LASTNAME\": \"HAAS\",\n",
      "            \"MIDINIT\": \"I\",\n",
      "            \"PHONENO\": \"3978\",\n",
      "            \"SALARY\": 152750.0,\n",
      "            \"SEX\": \"F\",\n",
      "            \"WORKDEPT\": \"A00\"\n",
      "        },\n",
      "        {\n",
      "            \"BIRTHDATE\": \"1978-02-02\",\n",
      "            \"BONUS\": 800.0,\n",
      "            \"COMM\": 3300.0,\n",
      "            \"EDLEVEL\": 18,\n",
      "            \"EMPNO\": \"000020\",\n",
      "            \"FIRSTNME\": \"MICHAEL\",\n",
      "            \"HIREDATE\": \"2003-10-10\",\n",
      "            \"JOB\": \"MANAGER \",\n",
      "            \"LASTNAME\": \"THOMPSON\",\n",
      "            \"MIDINIT\": \"L\",\n",
      "            \"PHONENO\": \"3476\",\n",
      "            \"SALARY\": 94250.0,\n",
      "            \"SEX\": \"M\",\n",
      "            \"WORKDEPT\": \"B01\"\n",
      "        },\n",
      "        {\n",
      "            \"BIRTHDATE\": \"1971-05-11\",\n",
      "            \"BONUS\": 800.0,\n",
      "            \"COMM\": 3060.0,\n",
      "            \"EDLEVEL\": 20,\n",
      "            \"EMPNO\": \"000030\",\n",
      "            \"FIRSTNME\": \"SALLY\",\n",
      "            \"HIREDATE\": \"2005-04-05\",\n",
      "            \"JOB\": \"MANAGER \",\n",
      "            \"LASTNAME\": \"KWAN\",\n",
      "            \"MIDINIT\": \"A\",\n",
      "            \"PHONENO\": \"4738\",\n",
      "            \"SALARY\": 98250.0,\n",
      "            \"SEX\": \"F\",\n",
      "            \"WORKDEPT\": \"C01\"\n",
      "        },\n",
      "        {\n",
      "            \"BIRTHDATE\": \"1955-09-15\",\n",
      "            \"BONUS\": 800.0,\n",
      "            \"COMM\": 3214.0,\n",
      "            \"EDLEVEL\": 16,\n",
      "            \"EMPNO\": \"000050\",\n",
      "            \"FIRSTNME\": \"JOHN\",\n",
      "            \"HIREDATE\": \"1979-08-17\",\n",
      "            \"JOB\": \"MANAGER \",\n",
      "            \"LASTNAME\": \"GEYER\",\n",
      "            \"MIDINIT\": \"B\",\n",
      "            \"PHONENO\": \"6789\",\n",
      "            \"SALARY\": 80175.0,\n",
      "            \"SEX\": \"M\",\n",
      "            \"WORKDEPT\": \"E01\"\n",
      "        },\n",
      "        {\n",
      "            \"BIRTHDATE\": \"1975-07-07\",\n",
      "            \"BONUS\": 500.0,\n",
      "            \"COMM\": 2580.0,\n",
      "            \"EDLEVEL\": 16,\n",
      "            \"EMPNO\": \"000060\",\n",
      "            \"FIRSTNME\": \"IRVING\",\n",
      "            \"HIREDATE\": \"2003-09-14\",\n",
      "            \"JOB\": \"MANAGER \",\n",
      "            \"LASTNAME\": \"STERN\",\n",
      "            \"MIDINIT\": \"F\",\n",
      "            \"PHONENO\": \"6423\",\n",
      "            \"SALARY\": 72250.0,\n",
      "            \"SEX\": \"M\",\n",
      "            \"WORKDEPT\": \"D11\"\n",
      "        }\n",
      "    ]\n",
      "}\n"
     ]
    }
   ],
   "source": [
    "s = %odata -e -r SELECT COUNT(*) FROM EMPLOYEE LIMIT 5"
   ]
  },
  {
   "cell_type": "markdown",
   "metadata": {},
   "source": [
    "One of the recommendations would be not to use the COUNT(\\*) function to determine the amount of rows that will be retrieved, especially if you expect there to a large of number rows. To minimize the data returned, you can use the form COUNT(column) which will modify the OData request to return the count and ONLY that column in the result set. This is a compromise in terms of the amount of data returned. This example using the -r (raw) flag which results in all of the JSON headers and data to be displayed. The JSON flag (-j) will not display any records."
   ]
  },
  {
   "cell_type": "code",
   "execution_count": 27,
   "metadata": {},
   "outputs": [
    {
     "name": "stdout",
     "output_type": "stream",
     "text": [
      "SELECT Command\n",
      "URL  : http://localhost:9080/ODataOne/ODataService/SAMPLE-6a90088a5aef458d943c94780eca99d5\n",
      "OData: /EMPLOYEES?$select=EMPNO&$top=5&$count=true&$format=json\n",
      "{\n",
      "    \"@odata.context\": \"$metadata#EMPLOYEES(EMPNO)\",\n",
      "    \"@odata.count\": 5,\n",
      "    \"value\": [\n",
      "        {\n",
      "            \"EMPNO\": \"000010\"\n",
      "        },\n",
      "        {\n",
      "            \"EMPNO\": \"000020\"\n",
      "        },\n",
      "        {\n",
      "            \"EMPNO\": \"000030\"\n",
      "        },\n",
      "        {\n",
      "            \"EMPNO\": \"000050\"\n",
      "        },\n",
      "        {\n",
      "            \"EMPNO\": \"000060\"\n",
      "        }\n",
      "    ]\n",
      "}\n"
     ]
    }
   ],
   "source": [
    "s = %odata -e -r SELECT COUNT(EMPNO) FROM EMPLOYEE LIMIT 5"
   ]
  },
  {
   "cell_type": "markdown",
   "metadata": {},
   "source": [
    "## FROM Clause\n",
    "The FROM clause is mandatory in any SELECT statement. If an OData service has already been established, there will be no service request sent to OData. Instead, the URL information stored on disk will be used to establish the connection.\n",
    "\n",
    "If a service has not been established, the %odata command will create the service and then build the OData select statement. If you want to see the command to establish the service as well as the SELECT command, use the -e flag to echo the results.\n",
    "\n",
    "If the table does not exist in the database you will receive an error message."
   ]
  },
  {
   "cell_type": "code",
   "execution_count": 28,
   "metadata": {},
   "outputs": [
    {
     "data": {
      "text/html": [
       "<p style=\"border:2px; border-style:solid; border-color:#008000; background-color:#e6ffe6; padding: 1em;\">OData connection removed for JLP.UNKNOWN_TBL in Database SAMPLE</p>"
      ],
      "text/plain": [
       "<IPython.core.display.HTML object>"
      ]
     },
     "metadata": {},
     "output_type": "display_data"
    },
    {
     "name": "stdout",
     "output_type": "stream",
     "text": [
      "Creating Service Request for OData Connection\n",
      "Service URL: http://localhost:9080/ODataOne/createService\n",
      "Request Header\n",
      "{\n",
      "    \"Content-Type\": \"application/json\",\n",
      "    \"Accept\": \"application/json\"\n",
      "}\n",
      "Connection Parameters\n",
      "{\n",
      "    \"database\": \"SAMPLE\",\n",
      "    \"host\": \"localhost\",\n",
      "    \"port\": \"50000\",\n",
      "    \"db2AdminUser\": \"JLP\",\n",
      "    \"db2AdminPassword\": \"********\",\n",
      "    \"db2ServiceUser\": \"JLP\",\n",
      "    \"db2ServicePassword\": \"********\",\n",
      "    \"ssl\": false,\n",
      "    \"schema\": \"JLP\",\n",
      "    \"tablenames\": [\n",
      "        \"UNKNOWN_TBL\"\n",
      "    ]\n",
      "}\n",
      "SELECT Command\n",
      "URL  : http://localhost:9080/ODataOne/ODataService/SAMPLE-d7d1e9bed03e4df99f2a6627be5baa8a\n",
      "OData: /UNKNOWN_TBLS?$format=json\n"
     ]
    },
    {
     "data": {
      "text/html": [
       "<p style=\"border:2px; border-style:solid; border-color:#FF0000; background-color:#ffe6e6; padding: 1em;\">SQLException: com.ibm.db2.jcc.am.SqlSyntaxErrorException: DB2 SQL Error: SQLCODE=-204, SQLSTATE=42704, SQLERRMC=JLP.UNKNOWN_TBL, DRIVER=4.22.26</p>"
      ],
      "text/plain": [
       "<IPython.core.display.HTML object>"
      ]
     },
     "metadata": {},
     "output_type": "display_data"
    }
   ],
   "source": [
    "%sql -q DROP TABLE UNKNOWN_TBL\n",
    "%odata DROP TABLE UNKNOWN_TBL\n",
    "s = %odata -e SELECT * FROM UNKNOWN_TBL"
   ]
  },
  {
   "cell_type": "markdown",
   "metadata": {},
   "source": [
    "This actually can cause some issues if you try to reuse the connection information that was created with the UNKNOWN_TBL. Since the service could not determine the structure of the table, the service will not return any column information with a select statement. The next SQL statement will create the UNKNOWN_TBL."
   ]
  },
  {
   "cell_type": "code",
   "execution_count": 29,
   "metadata": {},
   "outputs": [
    {
     "name": "stdout",
     "output_type": "stream",
     "text": [
      "Command completed.\n"
     ]
    }
   ],
   "source": [
    "%sql CREATE TABLE UNKNOWN_TBL AS (SELECT * FROM EMPLOYEE) WITH DATA"
   ]
  },
  {
   "cell_type": "markdown",
   "metadata": {},
   "source": [
    "Retrying the SELECT statement will result in 43 rows with no columns returned!"
   ]
  },
  {
   "cell_type": "code",
   "execution_count": 30,
   "metadata": {},
   "outputs": [
    {
     "name": "stdout",
     "output_type": "stream",
     "text": [
      "SELECT Command\n",
      "URL  : http://localhost:9080/ODataOne/ODataService/SAMPLE-d7d1e9bed03e4df99f2a6627be5baa8a\n",
      "OData: /UNKNOWN_TBLS?$format=json\n"
     ]
    },
    {
     "data": {
      "text/html": [
       "<div>\n",
       "<table border=\"1\" class=\"dataframe\">\n",
       "  <thead>\n",
       "    <tr style=\"text-align: right;\">\n",
       "      <th></th>\n",
       "    </tr>\n",
       "  </thead>\n",
       "  <tbody>\n",
       "    <tr>\n",
       "      <th>0</th>\n",
       "    </tr>\n",
       "    <tr>\n",
       "      <th>1</th>\n",
       "    </tr>\n",
       "    <tr>\n",
       "      <th>2</th>\n",
       "    </tr>\n",
       "    <tr>\n",
       "      <th>3</th>\n",
       "    </tr>\n",
       "    <tr>\n",
       "      <th>4</th>\n",
       "    </tr>\n",
       "    <tr>\n",
       "      <th>...</th>\n",
       "    </tr>\n",
       "    <tr>\n",
       "      <th>38</th>\n",
       "    </tr>\n",
       "    <tr>\n",
       "      <th>39</th>\n",
       "    </tr>\n",
       "    <tr>\n",
       "      <th>40</th>\n",
       "    </tr>\n",
       "    <tr>\n",
       "      <th>41</th>\n",
       "    </tr>\n",
       "    <tr>\n",
       "      <th>42</th>\n",
       "    </tr>\n",
       "  </tbody>\n",
       "</table>\n",
       "<p>43 rows × 0 columns</p>\n",
       "</div>"
      ],
      "text/plain": [
       "Empty DataFrame\n",
       "Columns: []\n",
       "Index: [0, 1, 2, 3, 4, 5, 6, 7, 8, 9, 10, 11, 12, 13, 14, 15, 16, 17, 18, 19, 20, 21, 22, 23, 24, 25, 26, 27, 28, 29, 30, 31, 32, 33, 34, 35, 36, 37, 38, 39, 40, 41, 42]\n",
       "\n",
       "[43 rows x 0 columns]"
      ]
     },
     "metadata": {},
     "output_type": "display_data"
    }
   ],
   "source": [
    "s = %odata -e SELECT * FROM UNKNOWN_TBL"
   ]
  },
  {
   "cell_type": "markdown",
   "metadata": {},
   "source": [
    "To correct this situation, you need to DROP the connect that the %odata program is using and reissue the SELECT statement."
   ]
  },
  {
   "cell_type": "code",
   "execution_count": 31,
   "metadata": {},
   "outputs": [
    {
     "data": {
      "text/html": [
       "<p style=\"border:2px; border-style:solid; border-color:#008000; background-color:#e6ffe6; padding: 1em;\">OData connection removed for JLP.UNKNOWN_TBL in Database SAMPLE</p>"
      ],
      "text/plain": [
       "<IPython.core.display.HTML object>"
      ]
     },
     "metadata": {},
     "output_type": "display_data"
    }
   ],
   "source": [
    "%odata DROP TABLE UNKNOWN_TBL"
   ]
  },
  {
   "cell_type": "markdown",
   "metadata": {},
   "source": [
    "Now you can try the SQL statement again."
   ]
  },
  {
   "cell_type": "code",
   "execution_count": 32,
   "metadata": {},
   "outputs": [
    {
     "name": "stdout",
     "output_type": "stream",
     "text": [
      "Creating Service Request for OData Connection\n",
      "Service URL: http://localhost:9080/ODataOne/createService\n",
      "Request Header\n",
      "{\n",
      "    \"Content-Type\": \"application/json\",\n",
      "    \"Accept\": \"application/json\"\n",
      "}\n",
      "Connection Parameters\n",
      "{\n",
      "    \"database\": \"SAMPLE\",\n",
      "    \"host\": \"localhost\",\n",
      "    \"port\": \"50000\",\n",
      "    \"db2AdminUser\": \"JLP\",\n",
      "    \"db2AdminPassword\": \"********\",\n",
      "    \"db2ServiceUser\": \"JLP\",\n",
      "    \"db2ServicePassword\": \"********\",\n",
      "    \"ssl\": false,\n",
      "    \"schema\": \"JLP\",\n",
      "    \"tablenames\": [\n",
      "        \"UNKNOWN_TBL\"\n",
      "    ]\n",
      "}\n",
      "SELECT Command\n",
      "URL  : http://localhost:9080/ODataOne/ODataService/SAMPLE-98a8ed7eeffe42f0b57d87567d792875\n",
      "OData: /UNKNOWN_TBLS?$format=json\n"
     ]
    },
    {
     "data": {
      "text/html": [
       "<div>\n",
       "<table border=\"1\" class=\"dataframe\">\n",
       "  <thead>\n",
       "    <tr style=\"text-align: right;\">\n",
       "      <th></th>\n",
       "      <th>BIRTHDATE</th>\n",
       "      <th>BONUS</th>\n",
       "      <th>COMM</th>\n",
       "      <th>EDLEVEL</th>\n",
       "      <th>EMPNO</th>\n",
       "      <th>FIRSTNME</th>\n",
       "      <th>HIREDATE</th>\n",
       "      <th>JOB</th>\n",
       "      <th>LASTNAME</th>\n",
       "      <th>MIDINIT</th>\n",
       "      <th>PHONENO</th>\n",
       "      <th>SALARY</th>\n",
       "      <th>SEX</th>\n",
       "      <th>WORKDEPT</th>\n",
       "    </tr>\n",
       "  </thead>\n",
       "  <tbody>\n",
       "    <tr>\n",
       "      <th>0</th>\n",
       "      <td>1963-08-24</td>\n",
       "      <td>1000</td>\n",
       "      <td>4220</td>\n",
       "      <td>18</td>\n",
       "      <td>10</td>\n",
       "      <td>CHRISTINE</td>\n",
       "      <td>1995-01-01</td>\n",
       "      <td>PRES</td>\n",
       "      <td>HAAS</td>\n",
       "      <td>I</td>\n",
       "      <td>3978</td>\n",
       "      <td>152750</td>\n",
       "      <td>F</td>\n",
       "      <td>A00</td>\n",
       "    </tr>\n",
       "    <tr>\n",
       "      <th>1</th>\n",
       "      <td>1978-02-02</td>\n",
       "      <td>800</td>\n",
       "      <td>3300</td>\n",
       "      <td>18</td>\n",
       "      <td>20</td>\n",
       "      <td>MICHAEL</td>\n",
       "      <td>2003-10-10</td>\n",
       "      <td>MANAGER</td>\n",
       "      <td>THOMPSON</td>\n",
       "      <td>L</td>\n",
       "      <td>3476</td>\n",
       "      <td>94250</td>\n",
       "      <td>M</td>\n",
       "      <td>B01</td>\n",
       "    </tr>\n",
       "    <tr>\n",
       "      <th>2</th>\n",
       "      <td>1971-05-11</td>\n",
       "      <td>800</td>\n",
       "      <td>3060</td>\n",
       "      <td>20</td>\n",
       "      <td>30</td>\n",
       "      <td>SALLY</td>\n",
       "      <td>2005-04-05</td>\n",
       "      <td>MANAGER</td>\n",
       "      <td>KWAN</td>\n",
       "      <td>A</td>\n",
       "      <td>4738</td>\n",
       "      <td>98250</td>\n",
       "      <td>F</td>\n",
       "      <td>C01</td>\n",
       "    </tr>\n",
       "    <tr>\n",
       "      <th>3</th>\n",
       "      <td>1955-09-15</td>\n",
       "      <td>800</td>\n",
       "      <td>3214</td>\n",
       "      <td>16</td>\n",
       "      <td>50</td>\n",
       "      <td>JOHN</td>\n",
       "      <td>1979-08-17</td>\n",
       "      <td>MANAGER</td>\n",
       "      <td>GEYER</td>\n",
       "      <td>B</td>\n",
       "      <td>6789</td>\n",
       "      <td>80175</td>\n",
       "      <td>M</td>\n",
       "      <td>E01</td>\n",
       "    </tr>\n",
       "    <tr>\n",
       "      <th>4</th>\n",
       "      <td>1975-07-07</td>\n",
       "      <td>500</td>\n",
       "      <td>2580</td>\n",
       "      <td>16</td>\n",
       "      <td>60</td>\n",
       "      <td>IRVING</td>\n",
       "      <td>2003-09-14</td>\n",
       "      <td>MANAGER</td>\n",
       "      <td>STERN</td>\n",
       "      <td>F</td>\n",
       "      <td>6423</td>\n",
       "      <td>72250</td>\n",
       "      <td>M</td>\n",
       "      <td>D11</td>\n",
       "    </tr>\n",
       "    <tr>\n",
       "      <th>...</th>\n",
       "      <td>...</td>\n",
       "      <td>...</td>\n",
       "      <td>...</td>\n",
       "      <td>...</td>\n",
       "      <td>...</td>\n",
       "      <td>...</td>\n",
       "      <td>...</td>\n",
       "      <td>...</td>\n",
       "      <td>...</td>\n",
       "      <td>...</td>\n",
       "      <td>...</td>\n",
       "      <td>...</td>\n",
       "      <td>...</td>\n",
       "      <td>...</td>\n",
       "    </tr>\n",
       "    <tr>\n",
       "      <th>38</th>\n",
       "      <td>1966-03-28</td>\n",
       "      <td>500</td>\n",
       "      <td>2100</td>\n",
       "      <td>17</td>\n",
       "      <td>200280</td>\n",
       "      <td>EILEEN</td>\n",
       "      <td>1997-03-24</td>\n",
       "      <td>OPERATOR</td>\n",
       "      <td>SCHWARTZ</td>\n",
       "      <td>R</td>\n",
       "      <td>8997</td>\n",
       "      <td>46250</td>\n",
       "      <td>F</td>\n",
       "      <td>E11</td>\n",
       "    </tr>\n",
       "    <tr>\n",
       "      <th>39</th>\n",
       "      <td>1961-04-21</td>\n",
       "      <td>300</td>\n",
       "      <td>1272</td>\n",
       "      <td>12</td>\n",
       "      <td>200310</td>\n",
       "      <td>MICHELLE</td>\n",
       "      <td>1994-09-12</td>\n",
       "      <td>OPERATOR</td>\n",
       "      <td>SPRINGER</td>\n",
       "      <td>F</td>\n",
       "      <td>3332</td>\n",
       "      <td>35900</td>\n",
       "      <td>F</td>\n",
       "      <td>E11</td>\n",
       "    </tr>\n",
       "    <tr>\n",
       "      <th>40</th>\n",
       "      <td>1971-07-18</td>\n",
       "      <td>500</td>\n",
       "      <td>2030</td>\n",
       "      <td>14</td>\n",
       "      <td>200330</td>\n",
       "      <td>HELENA</td>\n",
       "      <td>2006-02-23</td>\n",
       "      <td>FIELDREP</td>\n",
       "      <td>WONG</td>\n",
       "      <td></td>\n",
       "      <td>2103</td>\n",
       "      <td>35370</td>\n",
       "      <td>F</td>\n",
       "      <td>E21</td>\n",
       "    </tr>\n",
       "    <tr>\n",
       "      <th>41</th>\n",
       "      <td>1956-05-17</td>\n",
       "      <td>500</td>\n",
       "      <td>1907</td>\n",
       "      <td>16</td>\n",
       "      <td>200340</td>\n",
       "      <td>ROY</td>\n",
       "      <td>1997-07-05</td>\n",
       "      <td>FIELDREP</td>\n",
       "      <td>ALONZO</td>\n",
       "      <td>R</td>\n",
       "      <td>5698</td>\n",
       "      <td>31840</td>\n",
       "      <td>M</td>\n",
       "      <td>E21</td>\n",
       "    </tr>\n",
       "    <tr>\n",
       "      <th>42</th>\n",
       "      <td>1956-05-16</td>\n",
       "      <td>500</td>\n",
       "      <td>1907</td>\n",
       "      <td>16</td>\n",
       "      <td>999999</td>\n",
       "      <td>ROY</td>\n",
       "      <td>1997-07-04</td>\n",
       "      <td>FIELDREP</td>\n",
       "      <td>ALONZO</td>\n",
       "      <td>R</td>\n",
       "      <td>5698</td>\n",
       "      <td>31840</td>\n",
       "      <td>M</td>\n",
       "      <td>E21</td>\n",
       "    </tr>\n",
       "  </tbody>\n",
       "</table>\n",
       "<p>43 rows × 14 columns</p>\n",
       "</div>"
      ],
      "text/plain": [
       "     BIRTHDATE  BONUS  COMM  EDLEVEL   EMPNO   FIRSTNME    HIREDATE       JOB  \\\n",
       "0   1963-08-24   1000  4220       18      10  CHRISTINE  1995-01-01  PRES       \n",
       "1   1978-02-02    800  3300       18      20    MICHAEL  2003-10-10  MANAGER    \n",
       "2   1971-05-11    800  3060       20      30      SALLY  2005-04-05  MANAGER    \n",
       "3   1955-09-15    800  3214       16      50       JOHN  1979-08-17  MANAGER    \n",
       "4   1975-07-07    500  2580       16      60     IRVING  2003-09-14  MANAGER    \n",
       "..         ...    ...   ...      ...     ...        ...         ...       ...   \n",
       "38  1966-03-28    500  2100       17  200280     EILEEN  1997-03-24  OPERATOR   \n",
       "39  1961-04-21    300  1272       12  200310   MICHELLE  1994-09-12  OPERATOR   \n",
       "40  1971-07-18    500  2030       14  200330     HELENA  2006-02-23  FIELDREP   \n",
       "41  1956-05-17    500  1907       16  200340        ROY  1997-07-05  FIELDREP   \n",
       "42  1956-05-16    500  1907       16  999999        ROY  1997-07-04  FIELDREP   \n",
       "\n",
       "    LASTNAME MIDINIT  PHONENO  SALARY SEX WORKDEPT  \n",
       "0       HAAS       I     3978  152750   F      A00  \n",
       "1   THOMPSON       L     3476   94250   M      B01  \n",
       "2       KWAN       A     4738   98250   F      C01  \n",
       "3      GEYER       B     6789   80175   M      E01  \n",
       "4      STERN       F     6423   72250   M      D11  \n",
       "..       ...     ...      ...     ...  ..      ...  \n",
       "38  SCHWARTZ       R     8997   46250   F      E11  \n",
       "39  SPRINGER       F     3332   35900   F      E11  \n",
       "40      WONG             2103   35370   F      E21  \n",
       "41    ALONZO       R     5698   31840   M      E21  \n",
       "42    ALONZO       R     5698   31840   M      E21  \n",
       "\n",
       "[43 rows x 14 columns]"
      ]
     },
     "metadata": {},
     "output_type": "display_data"
    }
   ],
   "source": [
    "s = %odata -e SELECT * FROM UNKNOWN_TBL"
   ]
  },
  {
   "cell_type": "markdown",
   "metadata": {},
   "source": [
    "### Describing the Table Contents\n",
    "The SELECT statement needs to know what columns are going to be returned as part of the answer set. The asterix (\\*) returns all of the columns, but perhaps you only want a few of the columns. To determine what the columns are in the table along with the data types, you can use the DESCRIBE command. The following statement will show the structure of the EMPLOYEE table."
   ]
  },
  {
   "cell_type": "code",
   "execution_count": 33,
   "metadata": {},
   "outputs": [
    {
     "name": "stdout",
     "output_type": "stream",
     "text": [
      "(BIRTHDATE,BONUS,COMM,EDLEVEL,EMPNO,FIRSTNME,HIREDATE,JOB,LASTNAME,MIDINIT,PHONENO,SALARY,SEX,WORKDEPT)\n"
     ]
    },
    {
     "data": {
      "text/html": [
       "<div>\n",
       "<table border=\"1\" class=\"dataframe\">\n",
       "  <thead>\n",
       "    <tr style=\"text-align: right;\">\n",
       "      <th></th>\n",
       "      <th>COLUMN</th>\n",
       "      <th>TYPE</th>\n",
       "    </tr>\n",
       "  </thead>\n",
       "  <tbody>\n",
       "    <tr>\n",
       "      <th>0</th>\n",
       "      <td>BIRTHDATE</td>\n",
       "      <td>Date</td>\n",
       "    </tr>\n",
       "    <tr>\n",
       "      <th>1</th>\n",
       "      <td>BONUS</td>\n",
       "      <td>Decimal</td>\n",
       "    </tr>\n",
       "    <tr>\n",
       "      <th>2</th>\n",
       "      <td>COMM</td>\n",
       "      <td>Decimal</td>\n",
       "    </tr>\n",
       "    <tr>\n",
       "      <th>3</th>\n",
       "      <td>EDLEVEL</td>\n",
       "      <td>Int16</td>\n",
       "    </tr>\n",
       "    <tr>\n",
       "      <th>4</th>\n",
       "      <td>EMPNO</td>\n",
       "      <td>String</td>\n",
       "    </tr>\n",
       "    <tr>\n",
       "      <th>...</th>\n",
       "      <td>...</td>\n",
       "      <td>...</td>\n",
       "    </tr>\n",
       "    <tr>\n",
       "      <th>9</th>\n",
       "      <td>MIDINIT</td>\n",
       "      <td>String</td>\n",
       "    </tr>\n",
       "    <tr>\n",
       "      <th>10</th>\n",
       "      <td>PHONENO</td>\n",
       "      <td>String</td>\n",
       "    </tr>\n",
       "    <tr>\n",
       "      <th>11</th>\n",
       "      <td>SALARY</td>\n",
       "      <td>Decimal</td>\n",
       "    </tr>\n",
       "    <tr>\n",
       "      <th>12</th>\n",
       "      <td>SEX</td>\n",
       "      <td>String</td>\n",
       "    </tr>\n",
       "    <tr>\n",
       "      <th>13</th>\n",
       "      <td>WORKDEPT</td>\n",
       "      <td>String</td>\n",
       "    </tr>\n",
       "  </tbody>\n",
       "</table>\n",
       "<p>14 rows × 2 columns</p>\n",
       "</div>"
      ],
      "text/plain": [
       "       COLUMN     TYPE\n",
       "0   BIRTHDATE     Date\n",
       "1       BONUS  Decimal\n",
       "2        COMM  Decimal\n",
       "3     EDLEVEL    Int16\n",
       "4       EMPNO   String\n",
       "..        ...      ...\n",
       "9     MIDINIT   String\n",
       "10    PHONENO   String\n",
       "11     SALARY  Decimal\n",
       "12        SEX   String\n",
       "13   WORKDEPT   String\n",
       "\n",
       "[14 rows x 2 columns]"
      ]
     },
     "metadata": {},
     "output_type": "display_data"
    }
   ],
   "source": [
    "%odata DESCRIBE EMPLOYEE"
   ]
  },
  {
   "cell_type": "markdown",
   "metadata": {},
   "source": [
    "The datatypes are not the same as what one expect from a relational database. You get generic information on the character columns (String), and the numbers (Int16, Decimal). The Decimal specification actually contains the number of digits and decimal places but that isn't returned when using the table display.\n",
    "\n",
    "| Data Type  |   Contents\n",
    "|:-----------|:---------------\n",
    "| Binary     |   Binary data\n",
    "| Boolean    |   Binary-valued logic\n",
    "| Byte       |   Unsigned  8-bit integer\n",
    "| Date       |   Date without a time-zone offset\n",
    "| Decimal    |   Numeric values with fixed precision and scale\n",
    "| Double     |   IEEE 754 binary64 floating-point number (15-17 decimal digits)\n",
    "| Duration   |   Signed duration in days, hours, minutes, and (sub)seconds\n",
    "| Guid       |   16-byte (128-bit) unique identifier\n",
    "| Int16      |   Signed 16-bit integer\n",
    "| Int32      |   Signed 32-bit integer\n",
    "| Int64      |   Signed 64-bit integer\n",
    "| SByte      |   Signed 8-bit integer\n",
    "| Single     |   IEEE 754 binary32 floating-point number (6-9 decimal digits)\n",
    "| String     |   Sequence of UTF-8 characters\n",
    "| TimeOfDay  |   Clock time 00:00-23:59:59.999999999999"
   ]
  },
  {
   "cell_type": "markdown",
   "metadata": {},
   "source": [
    "## WHERE Clause\n",
    "The WHERE clause is used to filter out the rows that you want to retrieve from the table. The WHERE clause allows the following operators:\n",
    "    \n",
    "* &gt;, =&gt;, &lt;, &lt;=, =, !=, <>, LIKE\n",
    "* AND, OR\n",
    "* Parenthesis to override order () of operators\n",
    "\n",
    "The WHERE clause does not allow for mathematical operators at this time (\\*, -, +, /) or the unary NOT or \"-\" operators. \n",
    "\n",
    "The LIKE clause can contain the special % character, but the equivalent OData syntax always searches the entire string and does not anchor at the beginning of the string. What this means is that the LIKE clause will turn into a search of the entire string whether you use the % character in your search string or not."
   ]
  },
  {
   "cell_type": "markdown",
   "metadata": {},
   "source": [
    "### Example: Single comparison\n",
    "The following select statement will search for employees who have a salary less than 40000."
   ]
  },
  {
   "cell_type": "code",
   "execution_count": 34,
   "metadata": {},
   "outputs": [
    {
     "name": "stdout",
     "output_type": "stream",
     "text": [
      "SELECT Command\n",
      "URL  : http://localhost:9080/ODataOne/ODataService/SAMPLE-6a90088a5aef458d943c94780eca99d5\n",
      "OData: /EMPLOYEES?$select=EMPNO,WORKDEPT,SALARY&$filter=SALARY lt 40000&$format=json\n"
     ]
    },
    {
     "data": {
      "text/html": [
       "<div>\n",
       "<table border=\"1\" class=\"dataframe\">\n",
       "  <thead>\n",
       "    <tr style=\"text-align: right;\">\n",
       "      <th></th>\n",
       "      <th>EMPNO</th>\n",
       "      <th>SALARY</th>\n",
       "      <th>WORKDEPT</th>\n",
       "    </tr>\n",
       "  </thead>\n",
       "  <tbody>\n",
       "    <tr>\n",
       "      <th>0</th>\n",
       "      <td>270</td>\n",
       "      <td>37380</td>\n",
       "      <td>D21</td>\n",
       "    </tr>\n",
       "    <tr>\n",
       "      <th>1</th>\n",
       "      <td>280</td>\n",
       "      <td>36250</td>\n",
       "      <td>E11</td>\n",
       "    </tr>\n",
       "    <tr>\n",
       "      <th>2</th>\n",
       "      <td>290</td>\n",
       "      <td>35340</td>\n",
       "      <td>E11</td>\n",
       "    </tr>\n",
       "    <tr>\n",
       "      <th>3</th>\n",
       "      <td>300</td>\n",
       "      <td>37750</td>\n",
       "      <td>E11</td>\n",
       "    </tr>\n",
       "    <tr>\n",
       "      <th>4</th>\n",
       "      <td>310</td>\n",
       "      <td>35900</td>\n",
       "      <td>E11</td>\n",
       "    </tr>\n",
       "    <tr>\n",
       "      <th>...</th>\n",
       "      <td>...</td>\n",
       "      <td>...</td>\n",
       "      <td>...</td>\n",
       "    </tr>\n",
       "    <tr>\n",
       "      <th>7</th>\n",
       "      <td>200240</td>\n",
       "      <td>37760</td>\n",
       "      <td>D21</td>\n",
       "    </tr>\n",
       "    <tr>\n",
       "      <th>8</th>\n",
       "      <td>200310</td>\n",
       "      <td>35900</td>\n",
       "      <td>E11</td>\n",
       "    </tr>\n",
       "    <tr>\n",
       "      <th>9</th>\n",
       "      <td>200330</td>\n",
       "      <td>35370</td>\n",
       "      <td>E21</td>\n",
       "    </tr>\n",
       "    <tr>\n",
       "      <th>10</th>\n",
       "      <td>200340</td>\n",
       "      <td>31840</td>\n",
       "      <td>E21</td>\n",
       "    </tr>\n",
       "    <tr>\n",
       "      <th>11</th>\n",
       "      <td>999999</td>\n",
       "      <td>31840</td>\n",
       "      <td>E21</td>\n",
       "    </tr>\n",
       "  </tbody>\n",
       "</table>\n",
       "<p>12 rows × 3 columns</p>\n",
       "</div>"
      ],
      "text/plain": [
       "     EMPNO  SALARY WORKDEPT\n",
       "0      270   37380      D21\n",
       "1      280   36250      E11\n",
       "2      290   35340      E11\n",
       "3      300   37750      E11\n",
       "4      310   35900      E11\n",
       "..     ...     ...      ...\n",
       "7   200240   37760      D21\n",
       "8   200310   35900      E11\n",
       "9   200330   35370      E21\n",
       "10  200340   31840      E21\n",
       "11  999999   31840      E21\n",
       "\n",
       "[12 rows x 3 columns]"
      ]
     },
     "metadata": {},
     "output_type": "display_data"
    }
   ],
   "source": [
    "s = %odata -e SELECT EMPNO, WORKDEPT, SALARY FROM EMPLOYEE WHERE SALARY < 40000"
   ]
  },
  {
   "cell_type": "markdown",
   "metadata": {},
   "source": [
    "### Example: Two comparisons in a WHERE clause \n",
    "We add an additional comparison to our SQL to check for only employees in a particular department."
   ]
  },
  {
   "cell_type": "code",
   "execution_count": 35,
   "metadata": {},
   "outputs": [
    {
     "name": "stdout",
     "output_type": "stream",
     "text": [
      "SELECT Command\n",
      "URL  : http://localhost:9080/ODataOne/ODataService/SAMPLE-6a90088a5aef458d943c94780eca99d5\n",
      "OData: /EMPLOYEES?$select=EMPNO,WORKDEPT,SALARY&$filter=SALARY lt 40000 and WORKDEPT eq 'E21'&$format=json\n"
     ]
    },
    {
     "data": {
      "text/html": [
       "<div>\n",
       "<table border=\"1\" class=\"dataframe\">\n",
       "  <thead>\n",
       "    <tr style=\"text-align: right;\">\n",
       "      <th></th>\n",
       "      <th>EMPNO</th>\n",
       "      <th>SALARY</th>\n",
       "      <th>WORKDEPT</th>\n",
       "    </tr>\n",
       "  </thead>\n",
       "  <tbody>\n",
       "    <tr>\n",
       "      <th>0</th>\n",
       "      <td>320</td>\n",
       "      <td>39950</td>\n",
       "      <td>E21</td>\n",
       "    </tr>\n",
       "    <tr>\n",
       "      <th>1</th>\n",
       "      <td>200330</td>\n",
       "      <td>35370</td>\n",
       "      <td>E21</td>\n",
       "    </tr>\n",
       "    <tr>\n",
       "      <th>2</th>\n",
       "      <td>200340</td>\n",
       "      <td>31840</td>\n",
       "      <td>E21</td>\n",
       "    </tr>\n",
       "    <tr>\n",
       "      <th>3</th>\n",
       "      <td>999999</td>\n",
       "      <td>31840</td>\n",
       "      <td>E21</td>\n",
       "    </tr>\n",
       "  </tbody>\n",
       "</table>\n",
       "</div>"
      ],
      "text/plain": [
       "    EMPNO  SALARY WORKDEPT\n",
       "0     320   39950      E21\n",
       "1  200330   35370      E21\n",
       "2  200340   31840      E21\n",
       "3  999999   31840      E21"
      ]
     },
     "metadata": {},
     "output_type": "display_data"
    }
   ],
   "source": [
    "s = %odata -e SELECT EMPNO, WORKDEPT, SALARY FROM EMPLOYEE WHERE SALARY < 40000 AND WORKDEPT = 'E21'"
   ]
  },
  {
   "cell_type": "markdown",
   "metadata": {},
   "source": [
    "### Example: OR Logic in the WHERE clause\n",
    "We add some additional complexity by requesting employees who are in department E11 as well as those who make less than 40000 and work in department E21."
   ]
  },
  {
   "cell_type": "code",
   "execution_count": 36,
   "metadata": {},
   "outputs": [
    {
     "name": "stdout",
     "output_type": "stream",
     "text": [
      "SELECT Command\n",
      "URL  : http://localhost:9080/ODataOne/ODataService/SAMPLE-6a90088a5aef458d943c94780eca99d5\n",
      "OData: /EMPLOYEES?$select=EMPNO,WORKDEPT,SALARY&$filter=SALARY lt 40000 and WORKDEPT eq 'E21' or WORKDEPT eq 'E11'&$format=json\n"
     ]
    },
    {
     "data": {
      "text/html": [
       "<div>\n",
       "<table border=\"1\" class=\"dataframe\">\n",
       "  <thead>\n",
       "    <tr style=\"text-align: right;\">\n",
       "      <th></th>\n",
       "      <th>EMPNO</th>\n",
       "      <th>SALARY</th>\n",
       "      <th>WORKDEPT</th>\n",
       "    </tr>\n",
       "  </thead>\n",
       "  <tbody>\n",
       "    <tr>\n",
       "      <th>0</th>\n",
       "      <td>90</td>\n",
       "      <td>89750</td>\n",
       "      <td>E11</td>\n",
       "    </tr>\n",
       "    <tr>\n",
       "      <th>1</th>\n",
       "      <td>280</td>\n",
       "      <td>36250</td>\n",
       "      <td>E11</td>\n",
       "    </tr>\n",
       "    <tr>\n",
       "      <th>2</th>\n",
       "      <td>290</td>\n",
       "      <td>35340</td>\n",
       "      <td>E11</td>\n",
       "    </tr>\n",
       "    <tr>\n",
       "      <th>3</th>\n",
       "      <td>300</td>\n",
       "      <td>37750</td>\n",
       "      <td>E11</td>\n",
       "    </tr>\n",
       "    <tr>\n",
       "      <th>4</th>\n",
       "      <td>310</td>\n",
       "      <td>35900</td>\n",
       "      <td>E11</td>\n",
       "    </tr>\n",
       "    <tr>\n",
       "      <th>...</th>\n",
       "      <td>...</td>\n",
       "      <td>...</td>\n",
       "      <td>...</td>\n",
       "    </tr>\n",
       "    <tr>\n",
       "      <th>6</th>\n",
       "      <td>200280</td>\n",
       "      <td>46250</td>\n",
       "      <td>E11</td>\n",
       "    </tr>\n",
       "    <tr>\n",
       "      <th>7</th>\n",
       "      <td>200310</td>\n",
       "      <td>35900</td>\n",
       "      <td>E11</td>\n",
       "    </tr>\n",
       "    <tr>\n",
       "      <th>8</th>\n",
       "      <td>200330</td>\n",
       "      <td>35370</td>\n",
       "      <td>E21</td>\n",
       "    </tr>\n",
       "    <tr>\n",
       "      <th>9</th>\n",
       "      <td>200340</td>\n",
       "      <td>31840</td>\n",
       "      <td>E21</td>\n",
       "    </tr>\n",
       "    <tr>\n",
       "      <th>10</th>\n",
       "      <td>999999</td>\n",
       "      <td>31840</td>\n",
       "      <td>E21</td>\n",
       "    </tr>\n",
       "  </tbody>\n",
       "</table>\n",
       "<p>11 rows × 3 columns</p>\n",
       "</div>"
      ],
      "text/plain": [
       "     EMPNO  SALARY WORKDEPT\n",
       "0       90   89750      E11\n",
       "1      280   36250      E11\n",
       "2      290   35340      E11\n",
       "3      300   37750      E11\n",
       "4      310   35900      E11\n",
       "..     ...     ...      ...\n",
       "6   200280   46250      E11\n",
       "7   200310   35900      E11\n",
       "8   200330   35370      E21\n",
       "9   200340   31840      E21\n",
       "10  999999   31840      E21\n",
       "\n",
       "[11 rows x 3 columns]"
      ]
     },
     "metadata": {},
     "output_type": "display_data"
    }
   ],
   "source": [
    "s = %odata -e \\\n",
    "SELECT EMPNO, WORKDEPT, SALARY \\\n",
    "       FROM EMPLOYEE \\\n",
    "WHERE SALARY < 40000 AND WORKDEPT = 'E21' OR WORKDEPT = 'E11'"
   ]
  },
  {
   "cell_type": "markdown",
   "metadata": {},
   "source": [
    "### Example: Overriding the order of comparisons\n",
    "You can override the order of comparisons in the WHERE clause by using parenthesis. Here we are asking for employees in department E21 or E11 and have a salary less than 40000."
   ]
  },
  {
   "cell_type": "code",
   "execution_count": 37,
   "metadata": {},
   "outputs": [
    {
     "name": "stdout",
     "output_type": "stream",
     "text": [
      "SELECT Command\n",
      "URL  : http://localhost:9080/ODataOne/ODataService/SAMPLE-6a90088a5aef458d943c94780eca99d5\n",
      "OData: /EMPLOYEES?$select=EMPNO,WORKDEPT,SALARY&$filter=SALARY lt 40000 and (WORKDEPT eq 'E21' or WORKDEPT eq 'E11')&$format=json\n"
     ]
    },
    {
     "data": {
      "text/html": [
       "<div>\n",
       "<table border=\"1\" class=\"dataframe\">\n",
       "  <thead>\n",
       "    <tr style=\"text-align: right;\">\n",
       "      <th></th>\n",
       "      <th>EMPNO</th>\n",
       "      <th>SALARY</th>\n",
       "      <th>WORKDEPT</th>\n",
       "    </tr>\n",
       "  </thead>\n",
       "  <tbody>\n",
       "    <tr>\n",
       "      <th>0</th>\n",
       "      <td>280</td>\n",
       "      <td>36250</td>\n",
       "      <td>E11</td>\n",
       "    </tr>\n",
       "    <tr>\n",
       "      <th>1</th>\n",
       "      <td>290</td>\n",
       "      <td>35340</td>\n",
       "      <td>E11</td>\n",
       "    </tr>\n",
       "    <tr>\n",
       "      <th>2</th>\n",
       "      <td>300</td>\n",
       "      <td>37750</td>\n",
       "      <td>E11</td>\n",
       "    </tr>\n",
       "    <tr>\n",
       "      <th>3</th>\n",
       "      <td>310</td>\n",
       "      <td>35900</td>\n",
       "      <td>E11</td>\n",
       "    </tr>\n",
       "    <tr>\n",
       "      <th>4</th>\n",
       "      <td>320</td>\n",
       "      <td>39950</td>\n",
       "      <td>E21</td>\n",
       "    </tr>\n",
       "    <tr>\n",
       "      <th>5</th>\n",
       "      <td>200310</td>\n",
       "      <td>35900</td>\n",
       "      <td>E11</td>\n",
       "    </tr>\n",
       "    <tr>\n",
       "      <th>6</th>\n",
       "      <td>200330</td>\n",
       "      <td>35370</td>\n",
       "      <td>E21</td>\n",
       "    </tr>\n",
       "    <tr>\n",
       "      <th>7</th>\n",
       "      <td>200340</td>\n",
       "      <td>31840</td>\n",
       "      <td>E21</td>\n",
       "    </tr>\n",
       "    <tr>\n",
       "      <th>8</th>\n",
       "      <td>999999</td>\n",
       "      <td>31840</td>\n",
       "      <td>E21</td>\n",
       "    </tr>\n",
       "  </tbody>\n",
       "</table>\n",
       "</div>"
      ],
      "text/plain": [
       "    EMPNO  SALARY WORKDEPT\n",
       "0     280   36250      E11\n",
       "1     290   35340      E11\n",
       "2     300   37750      E11\n",
       "3     310   35900      E11\n",
       "4     320   39950      E21\n",
       "5  200310   35900      E11\n",
       "6  200330   35370      E21\n",
       "7  200340   31840      E21\n",
       "8  999999   31840      E21"
      ]
     },
     "metadata": {},
     "output_type": "display_data"
    }
   ],
   "source": [
    "s = %odata -e \\\n",
    "SELECT EMPNO, WORKDEPT, SALARY \\\n",
    "       FROM EMPLOYEE \\\n",
    "WHERE SALARY < 40000 AND (WORKDEPT = 'E21' OR WORKDEPT = 'E11')"
   ]
  },
  {
   "cell_type": "markdown",
   "metadata": {},
   "source": [
    "### Example: Using a LIKE clause\n",
    "The LIKE clause in DB2 will look for a string within a character column. Normally the LIKE statement will allow for the use of the % (wildcard) and _ (one character match) operators to look for patterns. These special characters do not exist in OData, so the %odata command will remove the % character and convert it to an equivalent OData statement. What this means is that the string search will look at the entire string for the pattern, while LIKE can be anchored to look only at the beginning of the string. This capability does not  current exist with the current OData implementation."
   ]
  },
  {
   "cell_type": "markdown",
   "metadata": {},
   "source": [
    "### Example: Search for a lastname that has 'AA' in it.\n",
    "This SQL will look for a lastname that has the string 'AA' in it. "
   ]
  },
  {
   "cell_type": "code",
   "execution_count": 38,
   "metadata": {},
   "outputs": [
    {
     "name": "stdout",
     "output_type": "stream",
     "text": [
      "SELECT Command\n",
      "URL  : http://localhost:9080/ODataOne/ODataService/SAMPLE-6a90088a5aef458d943c94780eca99d5\n",
      "OData: /EMPLOYEES?$select=LASTNAME&$filter=contains(LASTNAME,'AA')&$format=json\n"
     ]
    },
    {
     "data": {
      "text/html": [
       "<div>\n",
       "<table border=\"1\" class=\"dataframe\">\n",
       "  <thead>\n",
       "    <tr style=\"text-align: right;\">\n",
       "      <th></th>\n",
       "      <th>LASTNAME</th>\n",
       "    </tr>\n",
       "  </thead>\n",
       "  <tbody>\n",
       "    <tr>\n",
       "      <th>0</th>\n",
       "      <td>HAAS</td>\n",
       "    </tr>\n",
       "  </tbody>\n",
       "</table>\n",
       "</div>"
      ],
      "text/plain": [
       "  LASTNAME\n",
       "0     HAAS"
      ]
     },
     "metadata": {},
     "output_type": "display_data"
    }
   ],
   "source": [
    "s = %odata -e SELECT LASTNAME FROM EMPLOYEE WHERE LASTNAME LIKE '%AA%'"
   ]
  },
  {
   "cell_type": "markdown",
   "metadata": {},
   "source": [
    "### Example: Beginning of string search\n",
    "In SQL, you can search for a name that ends with the letters ON by using LIKE '%ON'"
   ]
  },
  {
   "cell_type": "code",
   "execution_count": 39,
   "metadata": {},
   "outputs": [
    {
     "data": {
      "text/html": [
       "<div>\n",
       "<table border=\"1\" class=\"dataframe\">\n",
       "  <thead>\n",
       "    <tr style=\"text-align: right;\">\n",
       "      <th></th>\n",
       "      <th>LASTNAME</th>\n",
       "    </tr>\n",
       "  </thead>\n",
       "  <tbody>\n",
       "    <tr>\n",
       "      <th>0</th>\n",
       "      <td>THOMPSON</td>\n",
       "    </tr>\n",
       "    <tr>\n",
       "      <th>1</th>\n",
       "      <td>HENDERSON</td>\n",
       "    </tr>\n",
       "    <tr>\n",
       "      <th>2</th>\n",
       "      <td>ADAMSON</td>\n",
       "    </tr>\n",
       "    <tr>\n",
       "      <th>3</th>\n",
       "      <td>JEFFERSON</td>\n",
       "    </tr>\n",
       "    <tr>\n",
       "      <th>4</th>\n",
       "      <td>JOHNSON</td>\n",
       "    </tr>\n",
       "  </tbody>\n",
       "</table>\n",
       "</div>"
      ],
      "text/plain": [
       "    LASTNAME\n",
       "0   THOMPSON\n",
       "1  HENDERSON\n",
       "2    ADAMSON\n",
       "3  JEFFERSON\n",
       "4    JOHNSON"
      ]
     },
     "metadata": {},
     "output_type": "display_data"
    }
   ],
   "source": [
    "%sql SELECT LASTNAME FROM EMPLOYEE WHERE LASTNAME LIKE '%ON'"
   ]
  },
  {
   "cell_type": "markdown",
   "metadata": {},
   "source": [
    "Converting to OData will mean that the search will look across the entire string, not just the beginning."
   ]
  },
  {
   "cell_type": "code",
   "execution_count": 40,
   "metadata": {},
   "outputs": [
    {
     "name": "stdout",
     "output_type": "stream",
     "text": [
      "SELECT Command\n",
      "URL  : http://localhost:9080/ODataOne/ODataService/SAMPLE-6a90088a5aef458d943c94780eca99d5\n",
      "OData: /EMPLOYEES?$select=LASTNAME&$filter=contains(LASTNAME,'ON')&$format=json\n"
     ]
    },
    {
     "data": {
      "text/html": [
       "<div>\n",
       "<table border=\"1\" class=\"dataframe\">\n",
       "  <thead>\n",
       "    <tr style=\"text-align: right;\">\n",
       "      <th></th>\n",
       "      <th>LASTNAME</th>\n",
       "    </tr>\n",
       "  </thead>\n",
       "  <tbody>\n",
       "    <tr>\n",
       "      <th>0</th>\n",
       "      <td>THOMPSON</td>\n",
       "    </tr>\n",
       "    <tr>\n",
       "      <th>1</th>\n",
       "      <td>HENDERSON</td>\n",
       "    </tr>\n",
       "    <tr>\n",
       "      <th>2</th>\n",
       "      <td>O`CONNELL</td>\n",
       "    </tr>\n",
       "    <tr>\n",
       "      <th>3</th>\n",
       "      <td>ADAMSON</td>\n",
       "    </tr>\n",
       "    <tr>\n",
       "      <th>4</th>\n",
       "      <td>JONES</td>\n",
       "    </tr>\n",
       "    <tr>\n",
       "      <th>...</th>\n",
       "      <td>...</td>\n",
       "    </tr>\n",
       "    <tr>\n",
       "      <th>6</th>\n",
       "      <td>JOHNSON</td>\n",
       "    </tr>\n",
       "    <tr>\n",
       "      <th>7</th>\n",
       "      <td>MONTEVERDE</td>\n",
       "    </tr>\n",
       "    <tr>\n",
       "      <th>8</th>\n",
       "      <td>WONG</td>\n",
       "    </tr>\n",
       "    <tr>\n",
       "      <th>9</th>\n",
       "      <td>ALONZO</td>\n",
       "    </tr>\n",
       "    <tr>\n",
       "      <th>10</th>\n",
       "      <td>ALONZO</td>\n",
       "    </tr>\n",
       "  </tbody>\n",
       "</table>\n",
       "<p>11 rows × 1 columns</p>\n",
       "</div>"
      ],
      "text/plain": [
       "      LASTNAME\n",
       "0     THOMPSON\n",
       "1    HENDERSON\n",
       "2    O`CONNELL\n",
       "3      ADAMSON\n",
       "4        JONES\n",
       "..         ...\n",
       "6      JOHNSON\n",
       "7   MONTEVERDE\n",
       "8         WONG\n",
       "9       ALONZO\n",
       "10      ALONZO\n",
       "\n",
       "[11 rows x 1 columns]"
      ]
     },
     "metadata": {},
     "output_type": "display_data"
    }
   ],
   "source": [
    "s = %odata -e SELECT LASTNAME FROM EMPLOYEE WHERE LASTNAME LIKE '%ON'"
   ]
  },
  {
   "cell_type": "markdown",
   "metadata": {},
   "source": [
    "## Limit Clause\n",
    "The LIMIT clause was discussed earlier in this notebook. LIMIT allows you to reduce the amount of rows that are returned in the answer set. The LIMIT clause is similar to FETCH FIRST x ROWS ONLY in DB2. The rows are always taken from the beginning of the answer set so there is no way to skip \"x\" rows before getting results. The facility does exist in the OData spaecification but has not been implemented in this release.\n",
    "\n",
    "The LIMIT clause also works in conjunction with the %odata command. The default number of rows that are displayed in a table (result set) is set to 10 by default. So if you have 50 rows in your answer set, the first 5 are displayed and then the last 5 with the rows inbetween are hidden from view. If you want to see the entire answer set, you need to change the MAXROWS value to -1:\n",
    "<pre>\n",
    "%odata SET MAXROWS -1\n",
    "</pre>\n",
    "This will display all rows that are returned from the answer set. However, the number of rows actually returned in the anwer set will be determined by the LIMIT clause. If you set LIMIT 5 then only five rows will be returned no matter what MAXROWS is set to. On the other hand, if you set MAXROWS to 10 and LIMIT to 20, you will get 20 rows returned but only 10 will be displayed."
   ]
  },
  {
   "cell_type": "markdown",
   "metadata": {},
   "source": [
    "### Example: Limit result to 5 rows\n",
    "This SQL will retrieve only the top 5 rows of the EMPLOYEE table."
   ]
  },
  {
   "cell_type": "code",
   "execution_count": 41,
   "metadata": {},
   "outputs": [
    {
     "name": "stdout",
     "output_type": "stream",
     "text": [
      "SELECT Command\n",
      "URL  : http://localhost:9080/ODataOne/ODataService/SAMPLE-6a90088a5aef458d943c94780eca99d5\n",
      "OData: /EMPLOYEES?$top=5&$format=json\n"
     ]
    },
    {
     "data": {
      "text/html": [
       "<div>\n",
       "<table border=\"1\" class=\"dataframe\">\n",
       "  <thead>\n",
       "    <tr style=\"text-align: right;\">\n",
       "      <th></th>\n",
       "      <th>BIRTHDATE</th>\n",
       "      <th>BONUS</th>\n",
       "      <th>COMM</th>\n",
       "      <th>EDLEVEL</th>\n",
       "      <th>EMPNO</th>\n",
       "      <th>FIRSTNME</th>\n",
       "      <th>HIREDATE</th>\n",
       "      <th>JOB</th>\n",
       "      <th>LASTNAME</th>\n",
       "      <th>MIDINIT</th>\n",
       "      <th>PHONENO</th>\n",
       "      <th>SALARY</th>\n",
       "      <th>SEX</th>\n",
       "      <th>WORKDEPT</th>\n",
       "    </tr>\n",
       "  </thead>\n",
       "  <tbody>\n",
       "    <tr>\n",
       "      <th>0</th>\n",
       "      <td>1963-08-24</td>\n",
       "      <td>1000</td>\n",
       "      <td>4220</td>\n",
       "      <td>18</td>\n",
       "      <td>10</td>\n",
       "      <td>CHRISTINE</td>\n",
       "      <td>1995-01-01</td>\n",
       "      <td>PRES</td>\n",
       "      <td>HAAS</td>\n",
       "      <td>I</td>\n",
       "      <td>3978</td>\n",
       "      <td>152750</td>\n",
       "      <td>F</td>\n",
       "      <td>A00</td>\n",
       "    </tr>\n",
       "    <tr>\n",
       "      <th>1</th>\n",
       "      <td>1978-02-02</td>\n",
       "      <td>800</td>\n",
       "      <td>3300</td>\n",
       "      <td>18</td>\n",
       "      <td>20</td>\n",
       "      <td>MICHAEL</td>\n",
       "      <td>2003-10-10</td>\n",
       "      <td>MANAGER</td>\n",
       "      <td>THOMPSON</td>\n",
       "      <td>L</td>\n",
       "      <td>3476</td>\n",
       "      <td>94250</td>\n",
       "      <td>M</td>\n",
       "      <td>B01</td>\n",
       "    </tr>\n",
       "    <tr>\n",
       "      <th>2</th>\n",
       "      <td>1971-05-11</td>\n",
       "      <td>800</td>\n",
       "      <td>3060</td>\n",
       "      <td>20</td>\n",
       "      <td>30</td>\n",
       "      <td>SALLY</td>\n",
       "      <td>2005-04-05</td>\n",
       "      <td>MANAGER</td>\n",
       "      <td>KWAN</td>\n",
       "      <td>A</td>\n",
       "      <td>4738</td>\n",
       "      <td>98250</td>\n",
       "      <td>F</td>\n",
       "      <td>C01</td>\n",
       "    </tr>\n",
       "    <tr>\n",
       "      <th>3</th>\n",
       "      <td>1955-09-15</td>\n",
       "      <td>800</td>\n",
       "      <td>3214</td>\n",
       "      <td>16</td>\n",
       "      <td>50</td>\n",
       "      <td>JOHN</td>\n",
       "      <td>1979-08-17</td>\n",
       "      <td>MANAGER</td>\n",
       "      <td>GEYER</td>\n",
       "      <td>B</td>\n",
       "      <td>6789</td>\n",
       "      <td>80175</td>\n",
       "      <td>M</td>\n",
       "      <td>E01</td>\n",
       "    </tr>\n",
       "    <tr>\n",
       "      <th>4</th>\n",
       "      <td>1975-07-07</td>\n",
       "      <td>500</td>\n",
       "      <td>2580</td>\n",
       "      <td>16</td>\n",
       "      <td>60</td>\n",
       "      <td>IRVING</td>\n",
       "      <td>2003-09-14</td>\n",
       "      <td>MANAGER</td>\n",
       "      <td>STERN</td>\n",
       "      <td>F</td>\n",
       "      <td>6423</td>\n",
       "      <td>72250</td>\n",
       "      <td>M</td>\n",
       "      <td>D11</td>\n",
       "    </tr>\n",
       "  </tbody>\n",
       "</table>\n",
       "</div>"
      ],
      "text/plain": [
       "    BIRTHDATE  BONUS  COMM  EDLEVEL  EMPNO   FIRSTNME    HIREDATE       JOB  \\\n",
       "0  1963-08-24   1000  4220       18     10  CHRISTINE  1995-01-01  PRES       \n",
       "1  1978-02-02    800  3300       18     20    MICHAEL  2003-10-10  MANAGER    \n",
       "2  1971-05-11    800  3060       20     30      SALLY  2005-04-05  MANAGER    \n",
       "3  1955-09-15    800  3214       16     50       JOHN  1979-08-17  MANAGER    \n",
       "4  1975-07-07    500  2580       16     60     IRVING  2003-09-14  MANAGER    \n",
       "\n",
       "   LASTNAME MIDINIT  PHONENO  SALARY SEX WORKDEPT  \n",
       "0      HAAS       I     3978  152750   F      A00  \n",
       "1  THOMPSON       L     3476   94250   M      B01  \n",
       "2      KWAN       A     4738   98250   F      C01  \n",
       "3     GEYER       B     6789   80175   M      E01  \n",
       "4     STERN       F     6423   72250   M      D11  "
      ]
     },
     "metadata": {},
     "output_type": "display_data"
    }
   ],
   "source": [
    "s = %odata -e SELECT * FROM EMPLOYEE LIMIT 5"
   ]
  },
  {
   "cell_type": "markdown",
   "metadata": {},
   "source": [
    "## INSERT Command\n",
    "OData allows you to insert data into a table through the use of the RESTful POST command and a JSON document that contains the field names and contents of those fields.\n",
    "\n",
    "The format of the INSERT command is:\n",
    "<pre>\n",
    "INSERT INTO &lt;table&gt;(col1, col2, ...) VALUES (val1, val2, ...)\n",
    "</pre>\n",
    "The TABLE must be defined before you can issue this statement. There is no requirement to have a primary key on the table, but this will prevent you from updating it with the OData interface because filtering (WHERE) is not allowed on UPDATEs or DELETEs. The column list and value list must match (i.e. there must be a value for every column name). If you do not supply the list of all columns in the table, the missing columns will have null values assigned to them. The insert will fail if any of these missing columns requires a value (NOT NULL)."
   ]
  },
  {
   "cell_type": "markdown",
   "metadata": {},
   "source": [
    "### Example: Insert into a table\n",
    "In this example we will insert a single row into a table. We start by defining the table within DB2 and then doing a DESCRIBE to get the column definitions back with OData."
   ]
  },
  {
   "cell_type": "code",
   "execution_count": 42,
   "metadata": {},
   "outputs": [
    {
     "name": "stdout",
     "output_type": "stream",
     "text": [
      "Command completed.\n"
     ]
    }
   ],
   "source": [
    "%%sql -q \n",
    "DROP TABLE TESTODATA; \n",
    "CREATE TABLE TESTODATA \n",
    "  ( \n",
    "  EMPNO INT NOT NULL, \n",
    "  LASTNAME VARCHAR(10) NOT NULL,\n",
    "  SALARY INT NOT NULL,\n",
    "  BONUS INT\n",
    "  );"
   ]
  },
  {
   "cell_type": "markdown",
   "metadata": {},
   "source": [
    "We also need to remove the connection information from the system in the event we've run this example before."
   ]
  },
  {
   "cell_type": "code",
   "execution_count": 43,
   "metadata": {},
   "outputs": [
    {
     "data": {
      "text/html": [
       "<p style=\"border:2px; border-style:solid; border-color:#008000; background-color:#e6ffe6; padding: 1em;\">OData connection removed for JLP.TESTODATA in Database SAMPLE</p>"
      ],
      "text/plain": [
       "<IPython.core.display.HTML object>"
      ]
     },
     "metadata": {},
     "output_type": "display_data"
    }
   ],
   "source": [
    "%odata DROP TABLE TESTODATA"
   ]
  },
  {
   "cell_type": "markdown",
   "metadata": {},
   "source": [
    "A couple of things about the table design. The salary is NOT NULL, while the BONUS allows for nulls. Unfortunately, the DESCRIBE command only tells us about the columns in the table and their OData data type, and no indication of whether table. "
   ]
  },
  {
   "cell_type": "code",
   "execution_count": 44,
   "metadata": {},
   "outputs": [
    {
     "name": "stdout",
     "output_type": "stream",
     "text": [
      "(BONUS,EMPNO,LASTNAME,SALARY)\n"
     ]
    },
    {
     "data": {
      "text/html": [
       "<div>\n",
       "<table border=\"1\" class=\"dataframe\">\n",
       "  <thead>\n",
       "    <tr style=\"text-align: right;\">\n",
       "      <th></th>\n",
       "      <th>COLUMN</th>\n",
       "      <th>TYPE</th>\n",
       "    </tr>\n",
       "  </thead>\n",
       "  <tbody>\n",
       "    <tr>\n",
       "      <th>0</th>\n",
       "      <td>BONUS</td>\n",
       "      <td>Int32</td>\n",
       "    </tr>\n",
       "    <tr>\n",
       "      <th>1</th>\n",
       "      <td>EMPNO</td>\n",
       "      <td>Int32</td>\n",
       "    </tr>\n",
       "    <tr>\n",
       "      <th>2</th>\n",
       "      <td>LASTNAME</td>\n",
       "      <td>String</td>\n",
       "    </tr>\n",
       "    <tr>\n",
       "      <th>3</th>\n",
       "      <td>SALARY</td>\n",
       "      <td>Int32</td>\n",
       "    </tr>\n",
       "  </tbody>\n",
       "</table>\n",
       "</div>"
      ],
      "text/plain": [
       "     COLUMN    TYPE\n",
       "0     BONUS   Int32\n",
       "1     EMPNO   Int32\n",
       "2  LASTNAME  String\n",
       "3    SALARY   Int32"
      ]
     },
     "metadata": {},
     "output_type": "display_data"
    }
   ],
   "source": [
    "%odata DESCRIBE TESTODATA"
   ]
  },
  {
   "cell_type": "markdown",
   "metadata": {},
   "source": [
    "The initial INSERT will populate the table with valid data. The echo option will show the json document that is sent via the POST command to OData to insert the row."
   ]
  },
  {
   "cell_type": "code",
   "execution_count": 45,
   "metadata": {},
   "outputs": [
    {
     "name": "stdout",
     "output_type": "stream",
     "text": [
      "INSERT Command\n",
      "URL  : http://localhost:9080/ODataOne/ODataService/SAMPLE-4f7152a2349e4686a5e3fb620fe130e4\n",
      "OData: {'EMPNO': 1, 'LASTNAME': 'Fred', 'SALARY': 10000, 'BONUS': 1000}\n",
      "Parmeters\n",
      "{\n",
      "    \"EMPNO\": 1,\n",
      "    \"LASTNAME\": \"Fred\",\n",
      "    \"SALARY\": 10000,\n",
      "    \"BONUS\": 1000\n",
      "}\n"
     ]
    },
    {
     "data": {
      "text/html": [
       "<p style=\"border:2px; border-style:solid; border-color:#008000; background-color:#e6ffe6; padding: 1em;\">Record inserted.</p>"
      ],
      "text/plain": [
       "<IPython.core.display.HTML object>"
      ]
     },
     "metadata": {},
     "output_type": "display_data"
    }
   ],
   "source": [
    "%odata -e INSERT INTO TESTODATA(EMPNO, LASTNAME, SALARY, BONUS) VALUES (1,'Fred',10000,1000)"
   ]
  },
  {
   "cell_type": "markdown",
   "metadata": {},
   "source": [
    "Just to make sure things were inserted properly, we retrieve the contents of the table."
   ]
  },
  {
   "cell_type": "code",
   "execution_count": 46,
   "metadata": {},
   "outputs": [
    {
     "data": {
      "text/html": [
       "<div>\n",
       "<table border=\"1\" class=\"dataframe\">\n",
       "  <thead>\n",
       "    <tr style=\"text-align: right;\">\n",
       "      <th></th>\n",
       "      <th>BONUS</th>\n",
       "      <th>EMPNO</th>\n",
       "      <th>LASTNAME</th>\n",
       "      <th>SALARY</th>\n",
       "    </tr>\n",
       "  </thead>\n",
       "  <tbody>\n",
       "    <tr>\n",
       "      <th>0</th>\n",
       "      <td>1000</td>\n",
       "      <td>1</td>\n",
       "      <td>Fred</td>\n",
       "      <td>10000</td>\n",
       "    </tr>\n",
       "  </tbody>\n",
       "</table>\n",
       "</div>"
      ],
      "text/plain": [
       "   BONUS  EMPNO LASTNAME  SALARY\n",
       "0   1000      1     Fred   10000"
      ]
     },
     "metadata": {},
     "output_type": "display_data"
    }
   ],
   "source": [
    "%odata SELECT * FROM TESTODATA"
   ]
  },
  {
   "cell_type": "markdown",
   "metadata": {},
   "source": [
    "OData (and DB2) will return an error message about our missing SALARY column which requires a value."
   ]
  },
  {
   "cell_type": "code",
   "execution_count": 47,
   "metadata": {},
   "outputs": [
    {
     "name": "stdout",
     "output_type": "stream",
     "text": [
      "INSERT Command\n",
      "URL  : http://localhost:9080/ODataOne/ODataService/SAMPLE-4f7152a2349e4686a5e3fb620fe130e4\n",
      "OData: {'EMPNO': 2, 'LASTNAME': 'Wilma', 'BONUS': 50000}\n",
      "Parmeters\n",
      "{\n",
      "    \"EMPNO\": 2,\n",
      "    \"LASTNAME\": \"Wilma\",\n",
      "    \"BONUS\": 50000\n",
      "}\n"
     ]
    },
    {
     "data": {
      "text/html": [
       "<p style=\"border:2px; border-style:solid; border-color:#FF0000; background-color:#ffe6e6; padding: 1em;\">SQLException: com.ibm.db2.jcc.am.SqlIntegrityConstraintViolationException: DB2 SQL Error: SQLCODE=-407, SQLSTATE=23502, SQLERRMC=TBSPACEID=2, TABLEID=72, COLNO=2, DRIVER=4.22.26</p>"
      ],
      "text/plain": [
       "<IPython.core.display.HTML object>"
      ]
     },
     "metadata": {},
     "output_type": "display_data"
    }
   ],
   "source": [
    "%odata -e INSERT INTO TESTODATA(EMPNO, LASTNAME, BONUS) VALUES (2,'Wilma',50000)"
   ]
  },
  {
   "cell_type": "markdown",
   "metadata": {},
   "source": [
    "We can try this on the DB2 side as well to get the details of the error."
   ]
  },
  {
   "cell_type": "code",
   "execution_count": 48,
   "metadata": {},
   "outputs": [
    {
     "data": {
      "text/html": [
       "<p style=\"border:2px; border-style:solid; border-color:#FF0000; background-color:#ffe6e6; padding: 1em;\">SQL0407N  Assignment of a NULL value to a NOT NULL column \"TBSPACEID=2, TABLEID=72, COLNO=2\" is not allowed.  SQLSTATE=23502 SQLCODE=-407</p>"
      ],
      "text/plain": [
       "<IPython.core.display.HTML object>"
      ]
     },
     "metadata": {},
     "output_type": "display_data"
    }
   ],
   "source": [
    "%sql INSERT INTO TESTODATA(EMPNO, LASTNAME, BONUS) VALUES (2,'Wilma',50000)"
   ]
  },
  {
   "cell_type": "markdown",
   "metadata": {},
   "source": [
    "## DELETE Command\n",
    "The DELETE command only takes one parameter and that is the key value for the record that we want to delete from the table. The format of the command is:\n",
    "<pre>\n",
    "DELETE FROM &lt;table&gt; WHERE KEY=VALUE\n",
    "</pre>\n",
    "Key refers to the column that is the primary key in the table we are deleting from. Unless you have a primary key, the DELETE command will not work."
   ]
  },
  {
   "cell_type": "code",
   "execution_count": 49,
   "metadata": {},
   "outputs": [
    {
     "data": {
      "text/html": [
       "<p style=\"border:2px; border-style:solid; border-color:#FF0000; background-color:#ffe6e6; padding: 1em;\">The TESTODATA table does not have a key that we can use to find a row.</p>"
      ],
      "text/plain": [
       "<IPython.core.display.HTML object>"
      ]
     },
     "metadata": {},
     "output_type": "display_data"
    }
   ],
   "source": [
    "%odata -e DELETE FROM TESTODATA WHERE EMPNO=1"
   ]
  },
  {
   "cell_type": "markdown",
   "metadata": {},
   "source": [
    "A primary key is required to issue a DELETE command. You also need to make sure that the primary key column does not contain NULLs because a primary key must always contain a value. The following SQL tries to fix the primary key issue."
   ]
  },
  {
   "cell_type": "code",
   "execution_count": 50,
   "metadata": {},
   "outputs": [
    {
     "name": "stdout",
     "output_type": "stream",
     "text": [
      "Command completed.\n"
     ]
    }
   ],
   "source": [
    "%sql ALTER TABLE TESTODATA ADD CONSTRAINT PKTD PRIMARY KEY (EMPNO)"
   ]
  },
  {
   "cell_type": "markdown",
   "metadata": {},
   "source": [
    "Check to see if we can delete the row yet."
   ]
  },
  {
   "cell_type": "code",
   "execution_count": 51,
   "metadata": {},
   "outputs": [
    {
     "data": {
      "text/html": [
       "<p style=\"border:2px; border-style:solid; border-color:#FF0000; background-color:#ffe6e6; padding: 1em;\">The TESTODATA table does not have a key that we can use to find a row.</p>"
      ],
      "text/plain": [
       "<IPython.core.display.HTML object>"
      ]
     },
     "metadata": {},
     "output_type": "display_data"
    }
   ],
   "source": [
    "%odata -e DELETE FROM TESTODATA WHERE EMPNO=1"
   ]
  },
  {
   "cell_type": "markdown",
   "metadata": {},
   "source": [
    "Adding a primary key after the fact won't help because the service URL would have already recorded the information about the table (and the fact it didn't have a primary key at the time). We need to drop our SERVICE URL and generate another one."
   ]
  },
  {
   "cell_type": "code",
   "execution_count": 52,
   "metadata": {},
   "outputs": [
    {
     "data": {
      "text/html": [
       "<p style=\"border:2px; border-style:solid; border-color:#008000; background-color:#e6ffe6; padding: 1em;\">OData connection removed for JLP.TESTODATA in Database SAMPLE</p>"
      ],
      "text/plain": [
       "<IPython.core.display.HTML object>"
      ]
     },
     "metadata": {},
     "output_type": "display_data"
    }
   ],
   "source": [
    "%odata DROP TABLE TESTODATA"
   ]
  },
  {
   "cell_type": "markdown",
   "metadata": {},
   "source": [
    "We do a describe on the table and this will force another service URL to be generated for us."
   ]
  },
  {
   "cell_type": "code",
   "execution_count": 53,
   "metadata": {},
   "outputs": [
    {
     "name": "stdout",
     "output_type": "stream",
     "text": [
      "(EMPNO,EMPNO,LASTNAME,SALARY)\n"
     ]
    },
    {
     "data": {
      "text/html": [
       "<div>\n",
       "<table border=\"1\" class=\"dataframe\">\n",
       "  <thead>\n",
       "    <tr style=\"text-align: right;\">\n",
       "      <th></th>\n",
       "      <th>COLUMN</th>\n",
       "      <th>TYPE</th>\n",
       "    </tr>\n",
       "  </thead>\n",
       "  <tbody>\n",
       "    <tr>\n",
       "      <th>0</th>\n",
       "      <td>EMPNO</td>\n",
       "      <td>Int32</td>\n",
       "    </tr>\n",
       "    <tr>\n",
       "      <th>1</th>\n",
       "      <td>EMPNO</td>\n",
       "      <td>Int32</td>\n",
       "    </tr>\n",
       "    <tr>\n",
       "      <th>2</th>\n",
       "      <td>LASTNAME</td>\n",
       "      <td>String</td>\n",
       "    </tr>\n",
       "    <tr>\n",
       "      <th>3</th>\n",
       "      <td>SALARY</td>\n",
       "      <td>Int32</td>\n",
       "    </tr>\n",
       "  </tbody>\n",
       "</table>\n",
       "</div>"
      ],
      "text/plain": [
       "     COLUMN    TYPE\n",
       "0     EMPNO   Int32\n",
       "1     EMPNO   Int32\n",
       "2  LASTNAME  String\n",
       "3    SALARY   Int32"
      ]
     },
     "metadata": {},
     "output_type": "display_data"
    }
   ],
   "source": [
    "%odata DESCRIBE TESTODATA"
   ]
  },
  {
   "cell_type": "markdown",
   "metadata": {},
   "source": [
    "Trying the DELETE this time will work. "
   ]
  },
  {
   "cell_type": "code",
   "execution_count": 54,
   "metadata": {},
   "outputs": [
    {
     "name": "stdout",
     "output_type": "stream",
     "text": [
      "OData Delete\n",
      "/TESTODATAS(1)\n",
      "\n"
     ]
    },
    {
     "data": {
      "text/html": [
       "<p style=\"border:2px; border-style:solid; border-color:#008000; background-color:#e6ffe6; padding: 1em;\">Record Deleted.</p>"
      ],
      "text/plain": [
       "<IPython.core.display.HTML object>"
      ]
     },
     "metadata": {},
     "output_type": "display_data"
    }
   ],
   "source": [
    "%odata -e DELETE FROM TESTODATA WHERE EMPNO=1"
   ]
  },
  {
   "cell_type": "markdown",
   "metadata": {},
   "source": [
    "Deleting the record again still gives you a successful return code. The call always returns a successful status even if the record doesn't exist."
   ]
  },
  {
   "cell_type": "code",
   "execution_count": 55,
   "metadata": {},
   "outputs": [
    {
     "name": "stdout",
     "output_type": "stream",
     "text": [
      "OData Delete\n",
      "/TESTODATAS(2)\n",
      "\n"
     ]
    },
    {
     "data": {
      "text/html": [
       "<p style=\"border:2px; border-style:solid; border-color:#008000; background-color:#e6ffe6; padding: 1em;\">Record Deleted.</p>"
      ],
      "text/plain": [
       "<IPython.core.display.HTML object>"
      ]
     },
     "metadata": {},
     "output_type": "display_data"
    }
   ],
   "source": [
    "%odata -e DELETE FROM TESTODATA WHERE EMPNO=2"
   ]
  },
  {
   "cell_type": "markdown",
   "metadata": {},
   "source": [
    "## UPDATE Command\n",
    "The update command requires both a primary key to update and the name of the field that you want changed. Note that you can only change one field at a time. There is no ability to specify multiple fields at this time.\n",
    "\n",
    "The format of the UDPATE command is:\n",
    "<pre>\n",
    "UPDATE &lt;table&gt; SET column=value WHERE key=keyvalue\n",
    "</pre>\n",
    "You must have a primary key on the table if you want an update to work. The filtering (WHERE) is allowed only to specify the primary key for the row and no filtering is allowed. The primary can be changed in the statement, but the update will fail if the key already exists in another record.\n",
    "THe other restriction is that no calculations can be done as part of the SET clause. You can only pass atomic values to the UPDATE statement."
   ]
  },
  {
   "cell_type": "markdown",
   "metadata": {},
   "source": [
    "### Example: Update a BONUS value of employee\n",
    "This SQL will update employee number 1 bonus to 2000. The first step is to put the employee back into the table."
   ]
  },
  {
   "cell_type": "code",
   "execution_count": 56,
   "metadata": {},
   "outputs": [
    {
     "name": "stdout",
     "output_type": "stream",
     "text": [
      "INSERT Command\n",
      "URL  : http://localhost:9080/ODataOne/ODataService/SAMPLE-81162ef4522a4015b8a8fb36085af308\n",
      "OData: {'EMPNO': 1, 'LASTNAME': 'Fred', 'SALARY': 10000, 'BONUS': 1000}\n",
      "Parmeters\n",
      "{\n",
      "    \"EMPNO\": 1,\n",
      "    \"LASTNAME\": \"Fred\",\n",
      "    \"SALARY\": 10000,\n",
      "    \"BONUS\": 1000\n",
      "}\n"
     ]
    },
    {
     "data": {
      "text/html": [
       "<p style=\"border:2px; border-style:solid; border-color:#008000; background-color:#e6ffe6; padding: 1em;\">Record inserted.</p>"
      ],
      "text/plain": [
       "<IPython.core.display.HTML object>"
      ]
     },
     "metadata": {},
     "output_type": "display_data"
    }
   ],
   "source": [
    "%odata -e \\\n",
    "INSERT INTO TESTODATA(EMPNO, LASTNAME, SALARY, BONUS) \\\n",
    "VALUES (1,'Fred',10000,1000)"
   ]
  },
  {
   "cell_type": "markdown",
   "metadata": {},
   "source": [
    "At this point we can update their salary."
   ]
  },
  {
   "cell_type": "code",
   "execution_count": 57,
   "metadata": {},
   "outputs": [
    {
     "name": "stdout",
     "output_type": "stream",
     "text": [
      "UPDATE Command\n",
      "URL  : http://localhost:9080/ODataOne/ODataService/SAMPLE-81162ef4522a4015b8a8fb36085af308\n",
      "OData: /TESTODATAS(1)\n",
      "Parmeters\n",
      "{\n",
      "    \"BONUS\": 2000\n",
      "}\n"
     ]
    },
    {
     "data": {
      "text/html": [
       "<p style=\"border:2px; border-style:solid; border-color:#008000; background-color:#e6ffe6; padding: 1em;\">Record Updated.</p>"
      ],
      "text/plain": [
       "<IPython.core.display.HTML object>"
      ]
     },
     "metadata": {},
     "output_type": "display_data"
    }
   ],
   "source": [
    "%odata -e UPDATE TESTODATA SET BONUS=2000 WHERE EMPNO=1"
   ]
  },
  {
   "cell_type": "markdown",
   "metadata": {},
   "source": [
    "We doublecheck the results to make sure we got it right!"
   ]
  },
  {
   "cell_type": "code",
   "execution_count": 58,
   "metadata": {},
   "outputs": [
    {
     "data": {
      "text/html": [
       "<div>\n",
       "<table border=\"1\" class=\"dataframe\">\n",
       "  <thead>\n",
       "    <tr style=\"text-align: right;\">\n",
       "      <th></th>\n",
       "      <th>BONUS</th>\n",
       "      <th>EMPNO</th>\n",
       "      <th>LASTNAME</th>\n",
       "      <th>SALARY</th>\n",
       "    </tr>\n",
       "  </thead>\n",
       "  <tbody>\n",
       "    <tr>\n",
       "      <th>0</th>\n",
       "      <td>2000</td>\n",
       "      <td>1</td>\n",
       "      <td>Fred</td>\n",
       "      <td>10000</td>\n",
       "    </tr>\n",
       "  </tbody>\n",
       "</table>\n",
       "</div>"
      ],
      "text/plain": [
       "   BONUS  EMPNO LASTNAME  SALARY\n",
       "0   2000      1     Fred   10000"
      ]
     },
     "metadata": {},
     "output_type": "display_data"
    }
   ],
   "source": [
    "%odata SELECT * FROM TESTODATA"
   ]
  },
  {
   "cell_type": "markdown",
   "metadata": {},
   "source": [
    "## Views\n",
    "The OData implemented with DB2 doesn't allow for JOINS between tables. Sometimes you need to be able to look up information from another table in order to get the final result. One option you have to do this is to create a VIEW on the DB2 system.\n",
    "\n",
    "The VIEW can contain almost any type of SQL so it allows for very complex queries to be created. For instance, the following view joins the EMPLOYEE table and the DEPARTMENT table to generate a row with the employee name and the name of the department that they work for."
   ]
  },
  {
   "cell_type": "code",
   "execution_count": 59,
   "metadata": {},
   "outputs": [
    {
     "name": "stdout",
     "output_type": "stream",
     "text": [
      "Command completed.\n"
     ]
    }
   ],
   "source": [
    "%%sql\n",
    "CREATE OR REPLACE VIEW EMPDEPT AS \n",
    "  (\n",
    "  SELECT LASTNAME, DEPTNAME \n",
    "  FROM EMPLOYEE E, DEPARTMENT D\n",
    "  WHERE E.WORKDEPT = D.DEPTNO\n",
    "  )"
   ]
  },
  {
   "cell_type": "markdown",
   "metadata": {},
   "source": [
    "We also need to drop any service connection you may have created in the past with this table name."
   ]
  },
  {
   "cell_type": "code",
   "execution_count": 60,
   "metadata": {},
   "outputs": [
    {
     "data": {
      "text/html": [
       "<p style=\"border:2px; border-style:solid; border-color:#008000; background-color:#e6ffe6; padding: 1em;\">OData connection removed for JLP.EMPDEPT in Database SAMPLE</p>"
      ],
      "text/plain": [
       "<IPython.core.display.HTML object>"
      ]
     },
     "metadata": {},
     "output_type": "display_data"
    }
   ],
   "source": [
    "%odata DROP TABLE EMPDEPT"
   ]
  },
  {
   "cell_type": "markdown",
   "metadata": {},
   "source": [
    "Now that we have created the view, we can retrieve rows from it just like a standard table."
   ]
  },
  {
   "cell_type": "code",
   "execution_count": 61,
   "metadata": {},
   "outputs": [
    {
     "data": {
      "text/html": [
       "<div>\n",
       "<table border=\"1\" class=\"dataframe\">\n",
       "  <thead>\n",
       "    <tr style=\"text-align: right;\">\n",
       "      <th></th>\n",
       "      <th>DEPTNAME</th>\n",
       "      <th>LASTNAME</th>\n",
       "    </tr>\n",
       "  </thead>\n",
       "  <tbody>\n",
       "    <tr>\n",
       "      <th>0</th>\n",
       "      <td>SPIFFY COMPUTER SERVICE DIV.</td>\n",
       "      <td>HAAS</td>\n",
       "    </tr>\n",
       "    <tr>\n",
       "      <th>1</th>\n",
       "      <td>SPIFFY COMPUTER SERVICE DIV.</td>\n",
       "      <td>ORLANDO</td>\n",
       "    </tr>\n",
       "    <tr>\n",
       "      <th>2</th>\n",
       "      <td>SPIFFY COMPUTER SERVICE DIV.</td>\n",
       "      <td>HEMMINGER</td>\n",
       "    </tr>\n",
       "    <tr>\n",
       "      <th>3</th>\n",
       "      <td>SPIFFY COMPUTER SERVICE DIV.</td>\n",
       "      <td>O`CONNELL</td>\n",
       "    </tr>\n",
       "    <tr>\n",
       "      <th>4</th>\n",
       "      <td>SPIFFY COMPUTER SERVICE DIV.</td>\n",
       "      <td>LUCCHESSI</td>\n",
       "    </tr>\n",
       "  </tbody>\n",
       "</table>\n",
       "</div>"
      ],
      "text/plain": [
       "                       DEPTNAME   LASTNAME\n",
       "0  SPIFFY COMPUTER SERVICE DIV.       HAAS\n",
       "1  SPIFFY COMPUTER SERVICE DIV.    ORLANDO\n",
       "2  SPIFFY COMPUTER SERVICE DIV.  HEMMINGER\n",
       "3  SPIFFY COMPUTER SERVICE DIV.  O`CONNELL\n",
       "4  SPIFFY COMPUTER SERVICE DIV.  LUCCHESSI"
      ]
     },
     "metadata": {},
     "output_type": "display_data"
    }
   ],
   "source": [
    "%odata SELECT LASTNAME, DEPTNAME FROM EMPDEPT LIMIT 5"
   ]
  },
  {
   "cell_type": "markdown",
   "metadata": {},
   "source": [
    "You can also create sophisticated VIEWS that can take parameters to adjust the results returned. For instance, consider the following SQL statement which gives me count of employees that work in SYSTEMS departments. "
   ]
  },
  {
   "cell_type": "code",
   "execution_count": 62,
   "metadata": {},
   "outputs": [
    {
     "data": {
      "text/html": [
       "<div>\n",
       "<table border=\"1\" class=\"dataframe\">\n",
       "  <thead>\n",
       "    <tr style=\"text-align: right;\">\n",
       "      <th></th>\n",
       "      <th>1</th>\n",
       "    </tr>\n",
       "  </thead>\n",
       "  <tbody>\n",
       "    <tr>\n",
       "      <th>0</th>\n",
       "      <td>18</td>\n",
       "    </tr>\n",
       "  </tbody>\n",
       "</table>\n",
       "</div>"
      ],
      "text/plain": [
       "    1\n",
       "0  18"
      ]
     },
     "metadata": {},
     "output_type": "display_data"
    }
   ],
   "source": [
    "%%sql\n",
    "SELECT \n",
    "  COUNT(*)\n",
    "FROM \n",
    "  EMPLOYEE E, DEPARTMENT D\n",
    "WHERE \n",
    "  E.WORKDEPT = D.DEPTNO\n",
    "  AND D.DEPTNAME LIKE '%SYSTEMS%'"
   ]
  },
  {
   "cell_type": "markdown",
   "metadata": {},
   "source": [
    "There are two departments with the name SYSTEMS in them, but there is no easy way to create a view for every possible combination of searches that you may want. Instead what we do is create a table that contains the pattern we want to look for and create the view so that it references this table.\n",
    "\n",
    "The first step is to create our PATTERN table. Note we make sure it has a primary key so our OData update calls can change it!"
   ]
  },
  {
   "cell_type": "code",
   "execution_count": 63,
   "metadata": {},
   "outputs": [
    {
     "name": "stdout",
     "output_type": "stream",
     "text": [
      "Command completed.\n"
     ]
    }
   ],
   "source": [
    "%%sql -q\n",
    "DROP TABLE PATTERN;\n",
    "CREATE TABLE PATTERN\n",
    "  (\n",
    "  PATTERN_NUMBER INT NOT NULL PRIMARY KEY,\n",
    "  SEARCH VARCHAR(16)\n",
    "  );"
   ]
  },
  {
   "cell_type": "markdown",
   "metadata": {},
   "source": [
    "Now we create a view that access this PATTERN table to do the actual search. Note that values that are inserted into the PATTERN table must have the SQL special characters like % to make sure patterns can be anywhere in the string."
   ]
  },
  {
   "cell_type": "code",
   "execution_count": 64,
   "metadata": {},
   "outputs": [
    {
     "data": {
      "text/html": [
       "<p style=\"border:2px; border-style:solid; border-color:#008000; background-color:#e6ffe6; padding: 1em;\">OData connection removed for JLP.EMPDEPT in Database SAMPLE</p>"
      ],
      "text/plain": [
       "<IPython.core.display.HTML object>"
      ]
     },
     "metadata": {},
     "output_type": "display_data"
    },
    {
     "data": {
      "text/html": [
       "<p style=\"border:2px; border-style:solid; border-color:#008000; background-color:#e6ffe6; padding: 1em;\">OData connection removed for JLP.PATTERN in Database SAMPLE</p>"
      ],
      "text/plain": [
       "<IPython.core.display.HTML object>"
      ]
     },
     "metadata": {},
     "output_type": "display_data"
    }
   ],
   "source": [
    "%odata DROP TABLE EMPDEPT\n",
    "%odata DROP TABLE PATTERN"
   ]
  },
  {
   "cell_type": "code",
   "execution_count": 65,
   "metadata": {},
   "outputs": [
    {
     "name": "stdout",
     "output_type": "stream",
     "text": [
      "Command completed.\n"
     ]
    }
   ],
   "source": [
    "%%sql\n",
    "CREATE OR REPLACE VIEW EMPDEPT AS \n",
    "  (\n",
    "  SELECT \n",
    "    COUNT(*) AS COUNT\n",
    "  FROM \n",
    "    EMPLOYEE E, DEPARTMENT D\n",
    "  WHERE \n",
    "    E.WORKDEPT = D.DEPTNO\n",
    "    AND D.DEPTNAME LIKE\n",
    "        (\n",
    "        SELECT SEARCH FROM PATTERN WHERE PATTERN_NUMBER=1\n",
    "        )\n",
    "  );"
   ]
  },
  {
   "cell_type": "markdown",
   "metadata": {},
   "source": [
    "In order for our view to work properly, we must populate our PATTERN table with a value. To test the view we will use %SYSTEMS% as our first example."
   ]
  },
  {
   "cell_type": "code",
   "execution_count": 66,
   "metadata": {},
   "outputs": [
    {
     "name": "stdout",
     "output_type": "stream",
     "text": [
      "Command completed.\n"
     ]
    }
   ],
   "source": [
    "%sql INSERT INTO PATTERN VALUES(1,'%SYSTEMS%')"
   ]
  },
  {
   "cell_type": "markdown",
   "metadata": {},
   "source": [
    "And now we can test our view by selecting from it."
   ]
  },
  {
   "cell_type": "code",
   "execution_count": 67,
   "metadata": {},
   "outputs": [
    {
     "data": {
      "text/html": [
       "<div>\n",
       "<table border=\"1\" class=\"dataframe\">\n",
       "  <thead>\n",
       "    <tr style=\"text-align: right;\">\n",
       "      <th></th>\n",
       "      <th>COUNT</th>\n",
       "    </tr>\n",
       "  </thead>\n",
       "  <tbody>\n",
       "    <tr>\n",
       "      <th>0</th>\n",
       "      <td>18</td>\n",
       "    </tr>\n",
       "  </tbody>\n",
       "</table>\n",
       "</div>"
      ],
      "text/plain": [
       "   COUNT\n",
       "0     18"
      ]
     },
     "metadata": {},
     "output_type": "display_data"
    }
   ],
   "source": [
    "%sql SELECT * FROM EMPDEPT"
   ]
  },
  {
   "cell_type": "markdown",
   "metadata": {},
   "source": [
    "Now that we have it working, we can try exactly the same thing but with OData. Our first transaction will update the search key to SERVICE."
   ]
  },
  {
   "cell_type": "code",
   "execution_count": 68,
   "metadata": {},
   "outputs": [
    {
     "data": {
      "text/html": [
       "<p style=\"border:2px; border-style:solid; border-color:#008000; background-color:#e6ffe6; padding: 1em;\">Record Updated.</p>"
      ],
      "text/plain": [
       "<IPython.core.display.HTML object>"
      ]
     },
     "metadata": {},
     "output_type": "display_data"
    }
   ],
   "source": [
    "%odata UPDATE PATTERN SET SEARCH = '%SERVICE%' WHERE PATTERN_NUMBER = 1"
   ]
  },
  {
   "cell_type": "markdown",
   "metadata": {},
   "source": [
    "The next OData statement should select the count of employees working in service departments."
   ]
  },
  {
   "cell_type": "code",
   "execution_count": 69,
   "metadata": {},
   "outputs": [
    {
     "data": {
      "text/html": [
       "<div>\n",
       "<table border=\"1\" class=\"dataframe\">\n",
       "  <thead>\n",
       "    <tr style=\"text-align: right;\">\n",
       "      <th></th>\n",
       "      <th>COUNT</th>\n",
       "    </tr>\n",
       "  </thead>\n",
       "  <tbody>\n",
       "    <tr>\n",
       "      <th>0</th>\n",
       "      <td>6</td>\n",
       "    </tr>\n",
       "  </tbody>\n",
       "</table>\n",
       "</div>"
      ],
      "text/plain": [
       "   COUNT\n",
       "0      6"
      ]
     },
     "metadata": {},
     "output_type": "display_data"
    }
   ],
   "source": [
    "%odata SELECT * FROM EMPDEPT"
   ]
  },
  {
   "cell_type": "markdown",
   "metadata": {
    "collapsed": true
   },
   "source": [
    "## Summary\n",
    "The OData DB2 gateway removes much of the complexity of communicating with the database. There are no drivers required, no configuration file, nor any administration required on the client that is communicating with the database. All communication is done using RESTful API calls, which are available on all browsers and all operating systems. The calls to the database are replaced with standard POST, GET, DELETE, PUT and PATCH requests. Enabling OData support to DB2 opens up the type of applications that you can write and clients that you can connect to DB2 with."
   ]
  },
  {
   "cell_type": "markdown",
   "metadata": {},
   "source": [
    "#### Credits: IBM 2017, George Baklarz [baklarz@ca.ibm.com]"
   ]
  }
 ],
 "metadata": {
  "kernelspec": {
   "display_name": "Python 3",
   "language": "python",
   "name": "python3"
  },
  "language_info": {
   "codemirror_mode": {
    "name": "ipython",
    "version": 3
   },
   "file_extension": ".py",
   "mimetype": "text/x-python",
   "name": "python",
   "nbconvert_exporter": "python",
   "pygments_lexer": "ipython3",
   "version": "3.6.0"
  }
 },
 "nbformat": 4,
 "nbformat_minor": 2
}
